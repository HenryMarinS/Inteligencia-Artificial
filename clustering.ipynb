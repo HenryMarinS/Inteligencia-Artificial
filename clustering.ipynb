{
 "cells":[
  {
   "cell_type":"code",
   "source":[
    "import pandas as pd\n",
    "import numpy as np"
   ],
   "execution_count":18,
   "outputs":[
    
   ],
   "metadata":{
    "datalore":{
     "type":"CODE",
     "hide_input_from_viewers":false,
     "hide_output_from_viewers":false
    }
   }
  },
  {
   "cell_type":"code",
   "source":[
    "data = pd.read_csv(\"Live.csv\")"
   ],
   "execution_count":19,
   "outputs":[
    
   ],
   "metadata":{
    "datalore":{
     "type":"CODE",
     "hide_input_from_viewers":false,
     "hide_output_from_viewers":false
    }
   }
  },
  {
   "cell_type":"markdown",
   "source":[
    "## Limpieza del dataset"
   ],
   "attachments":{
    
   },
   "metadata":{
    "datalore":{
     "type":"MD",
     "hide_input_from_viewers":false,
     "hide_output_from_viewers":false
    }
   }
  },
  {
   "cell_type":"code",
   "source":[
    "print(\"El tamaño del dataframe es de\",data.shape[0],\"filas y\",data.shape[1],\"columnas.\")"
   ],
   "execution_count":20,
   "outputs":[
    {
     "name":"stdout",
     "text":[
      "El tamaño del dataframe es de 7050 filas y 16 columnas.\n"
     ],
     "output_type":"stream"
    }
   ],
   "metadata":{
    "datalore":{
     "type":"CODE",
     "hide_input_from_viewers":false,
     "hide_output_from_viewers":false
    }
   }
  },
  {
   "cell_type":"code",
   "source":[
    "data.head()"
   ],
   "execution_count":21,
   "outputs":[
    {
     "data":{
      "text\/html":[
       "<div>\n",
       "<style scoped>\n",
       "    .dataframe tbody tr th:only-of-type {\n",
       "        vertical-align: middle;\n",
       "    }\n",
       "\n",
       "    .dataframe tbody tr th {\n",
       "        vertical-align: top;\n",
       "    }\n",
       "\n",
       "    .dataframe thead th {\n",
       "        text-align: right;\n",
       "    }\n",
       "<\/style>\n",
       "<table border=\"1\" class=\"dataframe\">\n",
       "  <thead>\n",
       "    <tr style=\"text-align: right;\">\n",
       "      <th><\/th>\n",
       "      <th>status_id<\/th>\n",
       "      <th>status_type<\/th>\n",
       "      <th>status_published<\/th>\n",
       "      <th>num_reactions<\/th>\n",
       "      <th>num_comments<\/th>\n",
       "      <th>num_shares<\/th>\n",
       "      <th>num_likes<\/th>\n",
       "      <th>num_loves<\/th>\n",
       "      <th>num_wows<\/th>\n",
       "      <th>num_hahas<\/th>\n",
       "      <th>num_sads<\/th>\n",
       "      <th>num_angrys<\/th>\n",
       "      <th>Column1<\/th>\n",
       "      <th>Column2<\/th>\n",
       "      <th>Column3<\/th>\n",
       "      <th>Column4<\/th>\n",
       "    <\/tr>\n",
       "  <\/thead>\n",
       "  <tbody>\n",
       "    <tr>\n",
       "      <th>0<\/th>\n",
       "      <td>246675545449582_1649696485147474<\/td>\n",
       "      <td>video<\/td>\n",
       "      <td>4\/22\/2018 6:00<\/td>\n",
       "      <td>529<\/td>\n",
       "      <td>512<\/td>\n",
       "      <td>262<\/td>\n",
       "      <td>432<\/td>\n",
       "      <td>92<\/td>\n",
       "      <td>3<\/td>\n",
       "      <td>1<\/td>\n",
       "      <td>1<\/td>\n",
       "      <td>0<\/td>\n",
       "      <td>NaN<\/td>\n",
       "      <td>NaN<\/td>\n",
       "      <td>NaN<\/td>\n",
       "      <td>NaN<\/td>\n",
       "    <\/tr>\n",
       "    <tr>\n",
       "      <th>1<\/th>\n",
       "      <td>246675545449582_1649426988507757<\/td>\n",
       "      <td>photo<\/td>\n",
       "      <td>4\/21\/2018 22:45<\/td>\n",
       "      <td>150<\/td>\n",
       "      <td>0<\/td>\n",
       "      <td>0<\/td>\n",
       "      <td>150<\/td>\n",
       "      <td>0<\/td>\n",
       "      <td>0<\/td>\n",
       "      <td>0<\/td>\n",
       "      <td>0<\/td>\n",
       "      <td>0<\/td>\n",
       "      <td>NaN<\/td>\n",
       "      <td>NaN<\/td>\n",
       "      <td>NaN<\/td>\n",
       "      <td>NaN<\/td>\n",
       "    <\/tr>\n",
       "    <tr>\n",
       "      <th>2<\/th>\n",
       "      <td>246675545449582_1648730588577397<\/td>\n",
       "      <td>video<\/td>\n",
       "      <td>4\/21\/2018 6:17<\/td>\n",
       "      <td>227<\/td>\n",
       "      <td>236<\/td>\n",
       "      <td>57<\/td>\n",
       "      <td>204<\/td>\n",
       "      <td>21<\/td>\n",
       "      <td>1<\/td>\n",
       "      <td>1<\/td>\n",
       "      <td>0<\/td>\n",
       "      <td>0<\/td>\n",
       "      <td>NaN<\/td>\n",
       "      <td>NaN<\/td>\n",
       "      <td>NaN<\/td>\n",
       "      <td>NaN<\/td>\n",
       "    <\/tr>\n",
       "    <tr>\n",
       "      <th>3<\/th>\n",
       "      <td>246675545449582_1648576705259452<\/td>\n",
       "      <td>photo<\/td>\n",
       "      <td>4\/21\/2018 2:29<\/td>\n",
       "      <td>111<\/td>\n",
       "      <td>0<\/td>\n",
       "      <td>0<\/td>\n",
       "      <td>111<\/td>\n",
       "      <td>0<\/td>\n",
       "      <td>0<\/td>\n",
       "      <td>0<\/td>\n",
       "      <td>0<\/td>\n",
       "      <td>0<\/td>\n",
       "      <td>NaN<\/td>\n",
       "      <td>NaN<\/td>\n",
       "      <td>NaN<\/td>\n",
       "      <td>NaN<\/td>\n",
       "    <\/tr>\n",
       "    <tr>\n",
       "      <th>4<\/th>\n",
       "      <td>246675545449582_1645700502213739<\/td>\n",
       "      <td>photo<\/td>\n",
       "      <td>4\/18\/2018 3:22<\/td>\n",
       "      <td>213<\/td>\n",
       "      <td>0<\/td>\n",
       "      <td>0<\/td>\n",
       "      <td>204<\/td>\n",
       "      <td>9<\/td>\n",
       "      <td>0<\/td>\n",
       "      <td>0<\/td>\n",
       "      <td>0<\/td>\n",
       "      <td>0<\/td>\n",
       "      <td>NaN<\/td>\n",
       "      <td>NaN<\/td>\n",
       "      <td>NaN<\/td>\n",
       "      <td>NaN<\/td>\n",
       "    <\/tr>\n",
       "  <\/tbody>\n",
       "<\/table>\n",
       "<\/div>"
      ]
     },
     "metadata":{
      
     },
     "output_type":"display_data"
    }
   ],
   "metadata":{
    "datalore":{
     "type":"CODE",
     "hide_input_from_viewers":false,
     "hide_output_from_viewers":false
    }
   }
  },
  {
   "cell_type":"code",
   "source":[
    "data.info()"
   ],
   "execution_count":22,
   "outputs":[
    {
     "name":"stdout",
     "text":[
      "<class 'pandas.core.frame.DataFrame'>\n",
      "RangeIndex: 7050 entries, 0 to 7049\n",
      "Data columns (total 16 columns):\n",
      " #   Column            Non-Null Count  Dtype  \n",
      "---  ------            --------------  -----  \n",
      " 0   status_id         7050 non-null   object \n",
      " 1   status_type       7050 non-null   object \n",
      " 2   status_published  7050 non-null   object \n",
      " 3   num_reactions     7050 non-null   int64  \n",
      " 4   num_comments      7050 non-null   int64  \n",
      " 5   num_shares        7050 non-null   int64  \n",
      " 6   num_likes         7050 non-null   int64  \n",
      " 7   num_loves         7050 non-null   int64  \n",
      " 8   num_wows          7050 non-null   int64  \n",
      " 9   num_hahas         7050 non-null   int64  \n",
      " 10  num_sads          7050 non-null   int64  \n",
      " 11  num_angrys        7050 non-null   int64  \n",
      " 12  Column1           0 non-null      float64\n",
      " 13  Column2           0 non-null      float64\n",
      " 14  Column3           0 non-null      float64\n",
      " 15  Column4           0 non-null      float64\n",
      "dtypes: float64(4), int64(9), object(3)\n",
      "memory usage: 881.4+ KB\n"
     ],
     "output_type":"stream"
    }
   ],
   "metadata":{
    "datalore":{
     "type":"CODE",
     "hide_input_from_viewers":false,
     "hide_output_from_viewers":false
    }
   }
  },
  {
   "cell_type":"code",
   "source":[
    "data.drop(['Column1', 'Column2', 'Column3', 'Column4'], axis=1, inplace=True)"
   ],
   "execution_count":23,
   "outputs":[
    
   ],
   "metadata":{
    "datalore":{
     "type":"CODE",
     "hide_input_from_viewers":false,
     "hide_output_from_viewers":false
    }
   }
  },
  {
   "cell_type":"code",
   "source":[
    "data.describe()"
   ],
   "execution_count":24,
   "outputs":[
    {
     "data":{
      "text\/html":[
       "<div>\n",
       "<style scoped>\n",
       "    .dataframe tbody tr th:only-of-type {\n",
       "        vertical-align: middle;\n",
       "    }\n",
       "\n",
       "    .dataframe tbody tr th {\n",
       "        vertical-align: top;\n",
       "    }\n",
       "\n",
       "    .dataframe thead th {\n",
       "        text-align: right;\n",
       "    }\n",
       "<\/style>\n",
       "<table border=\"1\" class=\"dataframe\">\n",
       "  <thead>\n",
       "    <tr style=\"text-align: right;\">\n",
       "      <th><\/th>\n",
       "      <th>num_reactions<\/th>\n",
       "      <th>num_comments<\/th>\n",
       "      <th>num_shares<\/th>\n",
       "      <th>num_likes<\/th>\n",
       "      <th>num_loves<\/th>\n",
       "      <th>num_wows<\/th>\n",
       "      <th>num_hahas<\/th>\n",
       "      <th>num_sads<\/th>\n",
       "      <th>num_angrys<\/th>\n",
       "    <\/tr>\n",
       "  <\/thead>\n",
       "  <tbody>\n",
       "    <tr>\n",
       "      <th>count<\/th>\n",
       "      <td>7050.000000<\/td>\n",
       "      <td>7050.000000<\/td>\n",
       "      <td>7050.000000<\/td>\n",
       "      <td>7050.000000<\/td>\n",
       "      <td>7050.000000<\/td>\n",
       "      <td>7050.000000<\/td>\n",
       "      <td>7050.000000<\/td>\n",
       "      <td>7050.000000<\/td>\n",
       "      <td>7050.000000<\/td>\n",
       "    <\/tr>\n",
       "    <tr>\n",
       "      <th>mean<\/th>\n",
       "      <td>230.117163<\/td>\n",
       "      <td>224.356028<\/td>\n",
       "      <td>40.022553<\/td>\n",
       "      <td>215.043121<\/td>\n",
       "      <td>12.728652<\/td>\n",
       "      <td>1.289362<\/td>\n",
       "      <td>0.696454<\/td>\n",
       "      <td>0.243688<\/td>\n",
       "      <td>0.113191<\/td>\n",
       "    <\/tr>\n",
       "    <tr>\n",
       "      <th>std<\/th>\n",
       "      <td>462.625309<\/td>\n",
       "      <td>889.636820<\/td>\n",
       "      <td>131.599965<\/td>\n",
       "      <td>449.472357<\/td>\n",
       "      <td>39.972930<\/td>\n",
       "      <td>8.719650<\/td>\n",
       "      <td>3.957183<\/td>\n",
       "      <td>1.597156<\/td>\n",
       "      <td>0.726812<\/td>\n",
       "    <\/tr>\n",
       "    <tr>\n",
       "      <th>min<\/th>\n",
       "      <td>0.000000<\/td>\n",
       "      <td>0.000000<\/td>\n",
       "      <td>0.000000<\/td>\n",
       "      <td>0.000000<\/td>\n",
       "      <td>0.000000<\/td>\n",
       "      <td>0.000000<\/td>\n",
       "      <td>0.000000<\/td>\n",
       "      <td>0.000000<\/td>\n",
       "      <td>0.000000<\/td>\n",
       "    <\/tr>\n",
       "    <tr>\n",
       "      <th>25%<\/th>\n",
       "      <td>17.000000<\/td>\n",
       "      <td>0.000000<\/td>\n",
       "      <td>0.000000<\/td>\n",
       "      <td>17.000000<\/td>\n",
       "      <td>0.000000<\/td>\n",
       "      <td>0.000000<\/td>\n",
       "      <td>0.000000<\/td>\n",
       "      <td>0.000000<\/td>\n",
       "      <td>0.000000<\/td>\n",
       "    <\/tr>\n",
       "    <tr>\n",
       "      <th>50%<\/th>\n",
       "      <td>59.500000<\/td>\n",
       "      <td>4.000000<\/td>\n",
       "      <td>0.000000<\/td>\n",
       "      <td>58.000000<\/td>\n",
       "      <td>0.000000<\/td>\n",
       "      <td>0.000000<\/td>\n",
       "      <td>0.000000<\/td>\n",
       "      <td>0.000000<\/td>\n",
       "      <td>0.000000<\/td>\n",
       "    <\/tr>\n",
       "    <tr>\n",
       "      <th>75%<\/th>\n",
       "      <td>219.000000<\/td>\n",
       "      <td>23.000000<\/td>\n",
       "      <td>4.000000<\/td>\n",
       "      <td>184.750000<\/td>\n",
       "      <td>3.000000<\/td>\n",
       "      <td>0.000000<\/td>\n",
       "      <td>0.000000<\/td>\n",
       "      <td>0.000000<\/td>\n",
       "      <td>0.000000<\/td>\n",
       "    <\/tr>\n",
       "    <tr>\n",
       "      <th>max<\/th>\n",
       "      <td>4710.000000<\/td>\n",
       "      <td>20990.000000<\/td>\n",
       "      <td>3424.000000<\/td>\n",
       "      <td>4710.000000<\/td>\n",
       "      <td>657.000000<\/td>\n",
       "      <td>278.000000<\/td>\n",
       "      <td>157.000000<\/td>\n",
       "      <td>51.000000<\/td>\n",
       "      <td>31.000000<\/td>\n",
       "    <\/tr>\n",
       "  <\/tbody>\n",
       "<\/table>\n",
       "<\/div>"
      ]
     },
     "metadata":{
      
     },
     "output_type":"display_data"
    }
   ],
   "metadata":{
    "datalore":{
     "type":"CODE",
     "hide_input_from_viewers":false,
     "hide_output_from_viewers":false
    }
   }
  },
  {
   "cell_type":"code",
   "source":[
    "data.describe(exclude=np.number)"
   ],
   "execution_count":25,
   "outputs":[
    {
     "data":{
      "text\/html":[
       "<div>\n",
       "<style scoped>\n",
       "    .dataframe tbody tr th:only-of-type {\n",
       "        vertical-align: middle;\n",
       "    }\n",
       "\n",
       "    .dataframe tbody tr th {\n",
       "        vertical-align: top;\n",
       "    }\n",
       "\n",
       "    .dataframe thead th {\n",
       "        text-align: right;\n",
       "    }\n",
       "<\/style>\n",
       "<table border=\"1\" class=\"dataframe\">\n",
       "  <thead>\n",
       "    <tr style=\"text-align: right;\">\n",
       "      <th><\/th>\n",
       "      <th>status_id<\/th>\n",
       "      <th>status_type<\/th>\n",
       "      <th>status_published<\/th>\n",
       "    <\/tr>\n",
       "  <\/thead>\n",
       "  <tbody>\n",
       "    <tr>\n",
       "      <th>count<\/th>\n",
       "      <td>7050<\/td>\n",
       "      <td>7050<\/td>\n",
       "      <td>7050<\/td>\n",
       "    <\/tr>\n",
       "    <tr>\n",
       "      <th>unique<\/th>\n",
       "      <td>6997<\/td>\n",
       "      <td>4<\/td>\n",
       "      <td>6913<\/td>\n",
       "    <\/tr>\n",
       "    <tr>\n",
       "      <th>top<\/th>\n",
       "      <td>819700534875473_957599447752247<\/td>\n",
       "      <td>photo<\/td>\n",
       "      <td>3\/20\/2018 1:54<\/td>\n",
       "    <\/tr>\n",
       "    <tr>\n",
       "      <th>freq<\/th>\n",
       "      <td>2<\/td>\n",
       "      <td>4288<\/td>\n",
       "      <td>3<\/td>\n",
       "    <\/tr>\n",
       "  <\/tbody>\n",
       "<\/table>\n",
       "<\/div>"
      ]
     },
     "metadata":{
      
     },
     "output_type":"display_data"
    }
   ],
   "metadata":{
    "datalore":{
     "type":"CODE",
     "hide_input_from_viewers":false,
     "hide_output_from_viewers":false
    }
   }
  },
  {
   "cell_type":"code",
   "source":[
    "data.drop(['status_id', 'status_published'], axis=1, inplace=True)"
   ],
   "execution_count":26,
   "outputs":[
    
   ],
   "metadata":{
    "datalore":{
     "type":"CODE",
     "hide_input_from_viewers":false,
     "hide_output_from_viewers":false
    }
   }
  },
  {
   "cell_type":"code",
   "source":[
    "data['status_type'].value_counts()"
   ],
   "execution_count":27,
   "outputs":[
    {
     "data":{
      "text\/html":[
       
      ]
     },
     "metadata":{
      
     },
     "output_type":"display_data"
    }
   ],
   "metadata":{
    "datalore":{
     "type":"CODE",
     "hide_input_from_viewers":false,
     "hide_output_from_viewers":false
    }
   }
  },
  {
   "cell_type":"markdown",
   "source":[
    "## Dataset limpio"
   ],
   "attachments":{
    
   },
   "metadata":{
    "datalore":{
     "type":"MD",
     "hide_input_from_viewers":false,
     "hide_output_from_viewers":false
    }
   }
  },
  {
   "cell_type":"code",
   "source":[
    "print(\"El tamaño del dataframe es de\",data.shape[0],\"filas y\",data.shape[1],\"columnas.\")"
   ],
   "execution_count":28,
   "outputs":[
    {
     "name":"stdout",
     "text":[
      "El tamaño del dataframe es de 7050 filas y 10 columnas.\n"
     ],
     "output_type":"stream"
    }
   ],
   "metadata":{
    "datalore":{
     "type":"CODE",
     "hide_input_from_viewers":false,
     "hide_output_from_viewers":false
    }
   }
  },
  {
   "cell_type":"code",
   "source":[
    "data.head()"
   ],
   "execution_count":29,
   "outputs":[
    {
     "data":{
      "text\/html":[
       "<div>\n",
       "<style scoped>\n",
       "    .dataframe tbody tr th:only-of-type {\n",
       "        vertical-align: middle;\n",
       "    }\n",
       "\n",
       "    .dataframe tbody tr th {\n",
       "        vertical-align: top;\n",
       "    }\n",
       "\n",
       "    .dataframe thead th {\n",
       "        text-align: right;\n",
       "    }\n",
       "<\/style>\n",
       "<table border=\"1\" class=\"dataframe\">\n",
       "  <thead>\n",
       "    <tr style=\"text-align: right;\">\n",
       "      <th><\/th>\n",
       "      <th>status_type<\/th>\n",
       "      <th>num_reactions<\/th>\n",
       "      <th>num_comments<\/th>\n",
       "      <th>num_shares<\/th>\n",
       "      <th>num_likes<\/th>\n",
       "      <th>num_loves<\/th>\n",
       "      <th>num_wows<\/th>\n",
       "      <th>num_hahas<\/th>\n",
       "      <th>num_sads<\/th>\n",
       "      <th>num_angrys<\/th>\n",
       "    <\/tr>\n",
       "  <\/thead>\n",
       "  <tbody>\n",
       "    <tr>\n",
       "      <th>0<\/th>\n",
       "      <td>video<\/td>\n",
       "      <td>529<\/td>\n",
       "      <td>512<\/td>\n",
       "      <td>262<\/td>\n",
       "      <td>432<\/td>\n",
       "      <td>92<\/td>\n",
       "      <td>3<\/td>\n",
       "      <td>1<\/td>\n",
       "      <td>1<\/td>\n",
       "      <td>0<\/td>\n",
       "    <\/tr>\n",
       "    <tr>\n",
       "      <th>1<\/th>\n",
       "      <td>photo<\/td>\n",
       "      <td>150<\/td>\n",
       "      <td>0<\/td>\n",
       "      <td>0<\/td>\n",
       "      <td>150<\/td>\n",
       "      <td>0<\/td>\n",
       "      <td>0<\/td>\n",
       "      <td>0<\/td>\n",
       "      <td>0<\/td>\n",
       "      <td>0<\/td>\n",
       "    <\/tr>\n",
       "    <tr>\n",
       "      <th>2<\/th>\n",
       "      <td>video<\/td>\n",
       "      <td>227<\/td>\n",
       "      <td>236<\/td>\n",
       "      <td>57<\/td>\n",
       "      <td>204<\/td>\n",
       "      <td>21<\/td>\n",
       "      <td>1<\/td>\n",
       "      <td>1<\/td>\n",
       "      <td>0<\/td>\n",
       "      <td>0<\/td>\n",
       "    <\/tr>\n",
       "    <tr>\n",
       "      <th>3<\/th>\n",
       "      <td>photo<\/td>\n",
       "      <td>111<\/td>\n",
       "      <td>0<\/td>\n",
       "      <td>0<\/td>\n",
       "      <td>111<\/td>\n",
       "      <td>0<\/td>\n",
       "      <td>0<\/td>\n",
       "      <td>0<\/td>\n",
       "      <td>0<\/td>\n",
       "      <td>0<\/td>\n",
       "    <\/tr>\n",
       "    <tr>\n",
       "      <th>4<\/th>\n",
       "      <td>photo<\/td>\n",
       "      <td>213<\/td>\n",
       "      <td>0<\/td>\n",
       "      <td>0<\/td>\n",
       "      <td>204<\/td>\n",
       "      <td>9<\/td>\n",
       "      <td>0<\/td>\n",
       "      <td>0<\/td>\n",
       "      <td>0<\/td>\n",
       "      <td>0<\/td>\n",
       "    <\/tr>\n",
       "  <\/tbody>\n",
       "<\/table>\n",
       "<\/div>"
      ]
     },
     "metadata":{
      
     },
     "output_type":"display_data"
    }
   ],
   "metadata":{
    "datalore":{
     "type":"CODE",
     "hide_input_from_viewers":false,
     "hide_output_from_viewers":false
    }
   }
  },
  {
   "cell_type":"markdown",
   "source":[
    "Dummys"
   ],
   "attachments":{
    
   },
   "metadata":{
    "datalore":{
     "type":"MD",
     "hide_input_from_viewers":false,
     "hide_output_from_viewers":false
    }
   }
  },
  {
   "cell_type":"code",
   "source":[
    "data = pd.concat([data, pd.get_dummies(data['status_type'], prefix='type')], axis = 1)\n",
    "data.drop('type_link', axis=1, inplace=True)\n",
    "data.drop('status_type', axis = 1, inplace = True)\n",
    "data.head()"
   ],
   "execution_count":30,
   "outputs":[
    {
     "data":{
      "text\/html":[
       "<div>\n",
       "<style scoped>\n",
       "    .dataframe tbody tr th:only-of-type {\n",
       "        vertical-align: middle;\n",
       "    }\n",
       "\n",
       "    .dataframe tbody tr th {\n",
       "        vertical-align: top;\n",
       "    }\n",
       "\n",
       "    .dataframe thead th {\n",
       "        text-align: right;\n",
       "    }\n",
       "<\/style>\n",
       "<table border=\"1\" class=\"dataframe\">\n",
       "  <thead>\n",
       "    <tr style=\"text-align: right;\">\n",
       "      <th><\/th>\n",
       "      <th>num_reactions<\/th>\n",
       "      <th>num_comments<\/th>\n",
       "      <th>num_shares<\/th>\n",
       "      <th>num_likes<\/th>\n",
       "      <th>num_loves<\/th>\n",
       "      <th>num_wows<\/th>\n",
       "      <th>num_hahas<\/th>\n",
       "      <th>num_sads<\/th>\n",
       "      <th>num_angrys<\/th>\n",
       "      <th>type_photo<\/th>\n",
       "      <th>type_status<\/th>\n",
       "      <th>type_video<\/th>\n",
       "    <\/tr>\n",
       "  <\/thead>\n",
       "  <tbody>\n",
       "    <tr>\n",
       "      <th>0<\/th>\n",
       "      <td>529<\/td>\n",
       "      <td>512<\/td>\n",
       "      <td>262<\/td>\n",
       "      <td>432<\/td>\n",
       "      <td>92<\/td>\n",
       "      <td>3<\/td>\n",
       "      <td>1<\/td>\n",
       "      <td>1<\/td>\n",
       "      <td>0<\/td>\n",
       "      <td>0<\/td>\n",
       "      <td>0<\/td>\n",
       "      <td>1<\/td>\n",
       "    <\/tr>\n",
       "    <tr>\n",
       "      <th>1<\/th>\n",
       "      <td>150<\/td>\n",
       "      <td>0<\/td>\n",
       "      <td>0<\/td>\n",
       "      <td>150<\/td>\n",
       "      <td>0<\/td>\n",
       "      <td>0<\/td>\n",
       "      <td>0<\/td>\n",
       "      <td>0<\/td>\n",
       "      <td>0<\/td>\n",
       "      <td>1<\/td>\n",
       "      <td>0<\/td>\n",
       "      <td>0<\/td>\n",
       "    <\/tr>\n",
       "    <tr>\n",
       "      <th>2<\/th>\n",
       "      <td>227<\/td>\n",
       "      <td>236<\/td>\n",
       "      <td>57<\/td>\n",
       "      <td>204<\/td>\n",
       "      <td>21<\/td>\n",
       "      <td>1<\/td>\n",
       "      <td>1<\/td>\n",
       "      <td>0<\/td>\n",
       "      <td>0<\/td>\n",
       "      <td>0<\/td>\n",
       "      <td>0<\/td>\n",
       "      <td>1<\/td>\n",
       "    <\/tr>\n",
       "    <tr>\n",
       "      <th>3<\/th>\n",
       "      <td>111<\/td>\n",
       "      <td>0<\/td>\n",
       "      <td>0<\/td>\n",
       "      <td>111<\/td>\n",
       "      <td>0<\/td>\n",
       "      <td>0<\/td>\n",
       "      <td>0<\/td>\n",
       "      <td>0<\/td>\n",
       "      <td>0<\/td>\n",
       "      <td>1<\/td>\n",
       "      <td>0<\/td>\n",
       "      <td>0<\/td>\n",
       "    <\/tr>\n",
       "    <tr>\n",
       "      <th>4<\/th>\n",
       "      <td>213<\/td>\n",
       "      <td>0<\/td>\n",
       "      <td>0<\/td>\n",
       "      <td>204<\/td>\n",
       "      <td>9<\/td>\n",
       "      <td>0<\/td>\n",
       "      <td>0<\/td>\n",
       "      <td>0<\/td>\n",
       "      <td>0<\/td>\n",
       "      <td>1<\/td>\n",
       "      <td>0<\/td>\n",
       "      <td>0<\/td>\n",
       "    <\/tr>\n",
       "  <\/tbody>\n",
       "<\/table>\n",
       "<\/div>"
      ]
     },
     "metadata":{
      
     },
     "output_type":"display_data"
    }
   ],
   "metadata":{
    "datalore":{
     "type":"CODE",
     "hide_input_from_viewers":false,
     "hide_output_from_viewers":false
    }
   }
  },
  {
   "cell_type":"markdown",
   "source":[
    "Normalizar"
   ],
   "attachments":{
    
   },
   "metadata":{
    "datalore":{
     "type":"MD",
     "hide_input_from_viewers":false,
     "hide_output_from_viewers":false
    }
   }
  },
  {
   "cell_type":"code",
   "source":[
    "data2 = data.drop(['type_photo', 'type_video', 'type_status'], axis=1)\n",
    "data_n = (data2-data2.mean())\/data2.std()\n",
    "data_n.head()"
   ],
   "execution_count":31,
   "outputs":[
    {
     "data":{
      "text\/html":[
       "<div>\n",
       "<style scoped>\n",
       "    .dataframe tbody tr th:only-of-type {\n",
       "        vertical-align: middle;\n",
       "    }\n",
       "\n",
       "    .dataframe tbody tr th {\n",
       "        vertical-align: top;\n",
       "    }\n",
       "\n",
       "    .dataframe thead th {\n",
       "        text-align: right;\n",
       "    }\n",
       "<\/style>\n",
       "<table border=\"1\" class=\"dataframe\">\n",
       "  <thead>\n",
       "    <tr style=\"text-align: right;\">\n",
       "      <th><\/th>\n",
       "      <th>num_reactions<\/th>\n",
       "      <th>num_comments<\/th>\n",
       "      <th>num_shares<\/th>\n",
       "      <th>num_likes<\/th>\n",
       "      <th>num_loves<\/th>\n",
       "      <th>num_wows<\/th>\n",
       "      <th>num_hahas<\/th>\n",
       "      <th>num_sads<\/th>\n",
       "      <th>num_angrys<\/th>\n",
       "    <\/tr>\n",
       "  <\/thead>\n",
       "  <tbody>\n",
       "    <tr>\n",
       "      <th>0<\/th>\n",
       "      <td>0.646058<\/td>\n",
       "      <td>0.323327<\/td>\n",
       "      <td>1.686759<\/td>\n",
       "      <td>0.482692<\/td>\n",
       "      <td>1.983126<\/td>\n",
       "      <td>0.196182<\/td>\n",
       "      <td>0.076708<\/td>\n",
       "      <td>0.473537<\/td>\n",
       "      <td>-0.155737<\/td>\n",
       "    <\/tr>\n",
       "    <tr>\n",
       "      <th>1<\/th>\n",
       "      <td>-0.173179<\/td>\n",
       "      <td>-0.252188<\/td>\n",
       "      <td>-0.304123<\/td>\n",
       "      <td>-0.144710<\/td>\n",
       "      <td>-0.318432<\/td>\n",
       "      <td>-0.147869<\/td>\n",
       "      <td>-0.175997<\/td>\n",
       "      <td>-0.152576<\/td>\n",
       "      <td>-0.155737<\/td>\n",
       "    <\/tr>\n",
       "    <tr>\n",
       "      <th>2<\/th>\n",
       "      <td>-0.006738<\/td>\n",
       "      <td>0.013088<\/td>\n",
       "      <td>0.129008<\/td>\n",
       "      <td>-0.024569<\/td>\n",
       "      <td>0.206924<\/td>\n",
       "      <td>-0.033185<\/td>\n",
       "      <td>0.076708<\/td>\n",
       "      <td>-0.152576<\/td>\n",
       "      <td>-0.155737<\/td>\n",
       "    <\/tr>\n",
       "    <tr>\n",
       "      <th>3<\/th>\n",
       "      <td>-0.257481<\/td>\n",
       "      <td>-0.252188<\/td>\n",
       "      <td>-0.304123<\/td>\n",
       "      <td>-0.231478<\/td>\n",
       "      <td>-0.318432<\/td>\n",
       "      <td>-0.147869<\/td>\n",
       "      <td>-0.175997<\/td>\n",
       "      <td>-0.152576<\/td>\n",
       "      <td>-0.155737<\/td>\n",
       "    <\/tr>\n",
       "    <tr>\n",
       "      <th>4<\/th>\n",
       "      <td>-0.037000<\/td>\n",
       "      <td>-0.252188<\/td>\n",
       "      <td>-0.304123<\/td>\n",
       "      <td>-0.024569<\/td>\n",
       "      <td>-0.093279<\/td>\n",
       "      <td>-0.147869<\/td>\n",
       "      <td>-0.175997<\/td>\n",
       "      <td>-0.152576<\/td>\n",
       "      <td>-0.155737<\/td>\n",
       "    <\/tr>\n",
       "  <\/tbody>\n",
       "<\/table>\n",
       "<\/div>"
      ]
     },
     "metadata":{
      
     },
     "output_type":"display_data"
    }
   ],
   "metadata":{
    "datalore":{
     "type":"CODE",
     "hide_input_from_viewers":false,
     "hide_output_from_viewers":false
    }
   }
  },
  {
   "cell_type":"markdown",
   "source":[
    "K-means para k = 2"
   ],
   "attachments":{
    
   },
   "metadata":{
    "datalore":{
     "type":"MD",
     "hide_input_from_viewers":false,
     "hide_output_from_viewers":false
    }
   }
  },
  {
   "cell_type":"code",
   "source":[
    "from sklearn.cluster import KMeans\n",
    "km = KMeans(n_clusters = 2, n_init = 10)\n",
    "km.fit(data_n)"
   ],
   "execution_count":32,
   "outputs":[
    {
     "data":{
      "text\/plain":[
       "KMeans(n_clusters=2)"
      ]
     },
     "metadata":{
      
     },
     "output_type":"display_data"
    }
   ],
   "metadata":{
    "datalore":{
     "type":"CODE",
     "hide_input_from_viewers":false,
     "hide_output_from_viewers":false
    }
   }
  },
  {
   "cell_type":"code",
   "source":[
    "km.cluster_centers_"
   ],
   "execution_count":33,
   "outputs":[
    {
     "data":{
      "text\/html":[
       
      ]
     },
     "metadata":{
      
     },
     "output_type":"display_data"
    }
   ],
   "metadata":{
    "datalore":{
     "type":"CODE",
     "hide_input_from_viewers":false,
     "hide_output_from_viewers":false
    }
   }
  },
  {
   "cell_type":"code",
   "source":[
    "km.inertia_"
   ],
   "execution_count":34,
   "outputs":[
    {
     "data":{
      "text\/plain":[
       "48271.25028500815"
      ]
     },
     "metadata":{
      
     },
     "output_type":"display_data"
    }
   ],
   "metadata":{
    "datalore":{
     "type":"CODE",
     "hide_input_from_viewers":false,
     "hide_output_from_viewers":false
    }
   }
  },
  {
   "cell_type":"code",
   "source":[
    "data[\"clust_k\"] = pd.Series(km.labels_)"
   ],
   "execution_count":35,
   "outputs":[
    
   ],
   "metadata":{
    "datalore":{
     "type":"CODE",
     "hide_input_from_viewers":false,
     "hide_output_from_viewers":false
    }
   }
  },
  {
   "cell_type":"markdown",
   "source":[
    "Accuracy"
   ],
   "attachments":{
    
   },
   "metadata":{
    "datalore":{
     "type":"MD",
     "hide_input_from_viewers":false,
     "hide_output_from_viewers":false
    }
   }
  },
  {
   "cell_type":"code",
   "source":[
    "km.score(data_n)"
   ],
   "execution_count":36,
   "outputs":[
    {
     "data":{
      "text\/plain":[
       "-48271.25028500815"
      ]
     },
     "metadata":{
      
     },
     "output_type":"display_data"
    }
   ],
   "metadata":{
    "datalore":{
     "type":"CODE",
     "hide_input_from_viewers":false,
     "hide_output_from_viewers":false
    }
   }
  },
  {
   "cell_type":"markdown",
   "source":[
    "Método del codo"
   ],
   "attachments":{
    
   },
   "metadata":{
    "datalore":{
     "type":"MD",
     "hide_input_from_viewers":false,
     "hide_output_from_viewers":false
    }
   }
  },
  {
   "cell_type":"code",
   "source":[
    "import pandas as pd\n",
    "import numpy as np\n",
    "import matplotlib.pyplot as plt\n",
    "\n",
    "from sklearn.cluster import KMeans\n",
    "from scipy.spatial.distance import cdist\n",
    "import matplotlib.cm as cm\n",
    "\n",
    "X = np.array(list(zip(data['num_likes'],data['num_shares']))).reshape(len(data['num_likes']), 2)\n",
    "\n",
    "max_k = 10\n",
    "K = range(1,max_k)\n",
    "ssw = []\n",
    "cmap = cm.get_cmap(\"Spectral\")\n",
    "color_palette = [cmap(float(i)\/max_k) for i in K]\n",
    "centroid = [sum(X)\/len(X) for i in K]\n",
    "sst = sum(np.min(cdist(X, centroid, \"euclidean\"), axis = 1))\n",
    "\n",
    "for k in K:\n",
    "    kmeanModel = KMeans(n_clusters=k).fit(data)\n",
    "    \n",
    "    centers = pd.DataFrame(kmeanModel.cluster_centers_)\n",
    "    labels = kmeanModel.labels_\n",
    "    \n",
    "    ssw_k = sum(np.min(cdist(data, kmeanModel.cluster_centers_, \"euclidean\"), axis = 1))\n",
    "    ssw.append(ssw_k)\n",
    "    \n",
    "    label_color = [color_palette[i] for i in labels]\n",
    "\n",
    "#Representación del codo normalizado\n",
    "plt.plot(K, 1-ssw\/sst, \"bx-\")\n",
    "plt.title(\"La técnica del codo normalizado para encontrar el k óptimo\")\n",
    "plt.show()"
   ],
   "execution_count":37,
   "outputs":[
    {
     "data":{
      "image\/png":"[encoded data removed]"
     },
     "metadata":{
      "image\/png":{
       
      }
     },
     "output_type":"display_data"
    }
   ],
   "metadata":{
    "datalore":{
     "type":"CODE",
     "hide_input_from_viewers":false,
     "hide_output_from_viewers":false
    }
   }
  },
  {
   "cell_type":"markdown",
   "source":[
    "Probar diferentes k"
   ],
   "attachments":{
    
   },
   "metadata":{
    "datalore":{
     "type":"MD",
     "hide_input_from_viewers":false,
     "hide_output_from_viewers":false
    }
   }
  },
  {
   "cell_type":"code",
   "source":[
    "for n in range(1, 11):\n",
    "    km = KMeans(n_clusters = n, n_init = 10)\n",
    "    km.fit(data_n)\n",
    "    print(f'Puntuación para k = {n}: {km.score(data_n)}')"
   ],
   "execution_count":38,
   "outputs":[
    {
     "name":"stdout",
     "text":[
      "Puntuación para k = 1: -63441.00000000022\n",
      "Puntuación para k = 2: -48271.25028500815\n",
      "Puntuación para k = 3: -38367.57619674105\n",
      "Puntuación para k = 4: -32465.1857181449\n",
      "Puntuación para k = 5: -28622.314246924863\n",
      "Puntuación para k = 6: -25321.700224780485\n",
      "Puntuación para k = 7: -22129.53353265056\n",
      "Puntuación para k = 8: -19251.72261833671\n",
      "Puntuación para k = 9: -17620.358967700104\n",
      "Puntuación para k = 10: -16221.644254432187\n"
     ],
     "output_type":"stream"
    }
   ],
   "metadata":{
    "datalore":{
     "type":"CODE",
     "hide_input_from_viewers":false,
     "hide_output_from_viewers":false
    }
   }
  }
 ],
 "metadata":{
  "datalore":{
   "version":1,
   "computation_mode":"JUPYTER",
   "package_manager":"pip",
   "base_environment":"default",
   "packages":[
    
   ]
  }
 },
 "nbformat":4,
 "nbformat_minor":4
}