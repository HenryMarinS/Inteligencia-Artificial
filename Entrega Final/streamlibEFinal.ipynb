{
 "cells": [
  {
   "cell_type": "code",
   "execution_count": 9,
   "id": "1168d39e",
   "metadata": {},
   "outputs": [],
   "source": [
    "import tensorflow as tf\n",
    "import streamlit as st\n",
    "from PIL import Image\n",
    "model = tf.keras.models.load_model('modeloCabHumV3.hdf5')"
   ]
  },
  {
   "cell_type": "code",
   "execution_count": 10,
   "id": "c7767fdb",
   "metadata": {},
   "outputs": [],
   "source": [
    "st.write(\"\"\"\n",
    "         # Predicción entre caballo :horse: y persona :sunglasses:\n",
    "         \"\"\"\n",
    "         )\n",
    "\n",
    "image1 = Image.open('man.png')\n",
    "\n",
    "st.image(image1, caption='Man')\n",
    "\n",
    "\n",
    "st.write(\"Alguna vez ha visto alguna vez una foto y ha pensado: ¿es eso un caballo o una persona?\")\n",
    "st.write(\"No se preocupe es una duda muy común. Por resolver sus dudad suba una foto.\")\n",
    "         \n",
    "file = st.file_uploader(\"Por favor, suba su imagen aquí.\", type=[\"jpg\", \"png\"])"
   ]
  },
  {
   "cell_type": "code",
   "execution_count": 11,
   "id": "7d517716",
   "metadata": {},
   "outputs": [],
   "source": [
    "import cv2\n",
    "from PIL import Image, ImageOps\n",
    "import numpy as np\n",
    "def import_and_predict(image_data, model):\n",
    "    \n",
    "        size = (150,150)    \n",
    "        image = ImageOps.fit(image_data, size, Image.ANTIALIAS)\n",
    "        image = np.asarray(image)\n",
    "        img = cv2.cvtColor(image, cv2.COLOR_BGR2RGB)\n",
    "        img_resize = (cv2.resize(img, dsize=(75, 75),    interpolation=cv2.INTER_CUBIC))/255.\n",
    "        \n",
    "        img_reshape = img_resize[np.newaxis,...]\n",
    "    \n",
    "        prediction = model.predict(img_reshape)\n",
    "        \n",
    "        return prediction\n",
    "if file is None:\n",
    "    st.text(\"Por favor, suba su imagen.\")\n",
    "else:\n",
    "    image = Image.open(file)\n",
    "    st.image(image, use_column_width=True)\n",
    "    prediction = import_and_predict(image, model)\n",
    "    \n",
    "    if np.argmax(prediction) == 0:\n",
    "        st.write(\"## Tiene cuatro patas y corre, es un *caballo*. :horse:\")\n",
    "    else:\n",
    "        st.write(\"## Parece ser una *persona*. :sunglasses:\")\n",
    "    \n",
    "    st.text(\"Probabilidad (0: Caballo, 1: Humano)\")\n",
    "    st.write(prediction)"
   ]
  },
  {
   "cell_type": "code",
   "execution_count": 12,
   "id": "eca1d774",
   "metadata": {},
   "outputs": [
    {
     "data": {
      "text/plain": [
       "DeltaGenerator(_root_container=0, _provided_cursor=None, _parent=None, _block_type=None, _form_data=None)"
      ]
     },
     "execution_count": 12,
     "metadata": {},
     "output_type": "execute_result"
    }
   ],
   "source": [
    "st.write(\"Si desea poner el modelo a prueba puede usar la siguiente imagen:\")\n",
    "image2 = Image.open('a.png')\n",
    "\n",
    "st.image(image2, caption='¿Humano?')"
   ]
  },
  {
   "cell_type": "code",
   "execution_count": null,
   "id": "6fb8134b",
   "metadata": {},
   "outputs": [],
   "source": []
  },
  {
   "cell_type": "code",
   "execution_count": null,
   "id": "6a8108c0",
   "metadata": {},
   "outputs": [],
   "source": []
  }
 ],
 "metadata": {
  "kernelspec": {
   "display_name": "Python 3 (ipykernel)",
   "language": "python",
   "name": "python3"
  },
  "language_info": {
   "codemirror_mode": {
    "name": "ipython",
    "version": 3
   },
   "file_extension": ".py",
   "mimetype": "text/x-python",
   "name": "python",
   "nbconvert_exporter": "python",
   "pygments_lexer": "ipython3",
   "version": "3.9.7"
  }
 },
 "nbformat": 4,
 "nbformat_minor": 5
}
