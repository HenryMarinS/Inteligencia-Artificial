{
 "cells":[
  {
   "cell_type":"code",
   "source":[
    "import pandas as pd\n",
    "import numpy as np\n",
    "from matplotlib import pyplot as plt\n",
    "from sklearn.model_selection import train_test_split\n",
    "import sklearn\n",
    "import warnings\n",
    "warnings.filterwarnings(\"ignore\")"
   ],
   "execution_count":4,
   "outputs":[
    
   ],
   "metadata":{
    "datalore":{
     "type":"CODE",
     "hide_input_from_viewers":false,
     "hide_output_from_viewers":false
    }
   }
  },
  {
   "cell_type":"markdown",
   "source":[
    "Creación de variables categoricas"
   ],
   "attachments":{
    
   },
   "metadata":{
    "datalore":{
     "type":"MD",
     "hide_input_from_viewers":false,
     "hide_output_from_viewers":false
    }
   }
  },
  {
   "cell_type":"code",
   "source":[
    "persona = [\"Alumno\/a\", \"Profesor\/a\", \"Personal\",\"Directivo\/a\"]\n",
    "sexo = [\"Masculino\", \"Femenino\"]\n",
    "domicilio = [\"Madrid(Cuidad)\",\"Villaviciosa\",\"Boadilla\",\"Móstoles\",\"Getafe\"]"
   ],
   "execution_count":5,
   "outputs":[
    
   ],
   "metadata":{
    "datalore":{
     "type":"CODE",
     "hide_input_from_viewers":false,
     "hide_output_from_viewers":false
    }
   }
  },
  {
   "cell_type":"markdown",
   "source":[
    "Creación de los arrays para el dataset"
   ],
   "attachments":{
    
   },
   "metadata":{
    "datalore":{
     "type":"MD",
     "hide_input_from_viewers":false,
     "hide_output_from_viewers":false
    }
   }
  },
  {
   "cell_type":"code",
   "source":[
    "n=1000\n",
    "persona_data = []\n",
    "sexo_data = []\n",
    "domicilio_data = []\n",
    "\n",
    "for i in range(0,1000):\n",
    "    persona_data.append(np.random.choice(persona))\n",
    "    sexo_data.append(np.random.choice(sexo))\n",
    "    domicilio_data.append(np.random.choice(domicilio))"
   ],
   "execution_count":6,
   "outputs":[
    
   ],
   "metadata":{
    "datalore":{
     "type":"CODE",
     "hide_input_from_viewers":false,
     "hide_output_from_viewers":false
    }
   }
  },
  {
   "cell_type":"markdown",
   "source":[
    "Creación datos de la altura"
   ],
   "attachments":{
    
   },
   "metadata":{
    "datalore":{
     "type":"MD",
     "hide_input_from_viewers":false,
     "hide_output_from_viewers":false
    }
   }
  },
  {
   "cell_type":"code",
   "source":[
    "altura = 176 + 10 * np.random.randn(n)"
   ],
   "execution_count":7,
   "outputs":[
    
   ],
   "metadata":{
    "datalore":{
     "type":"CODE",
     "hide_input_from_viewers":false,
     "hide_output_from_viewers":false
    }
   }
  },
  {
   "cell_type":"markdown",
   "source":[
    "Creación del dataset"
   ],
   "attachments":{
    
   },
   "metadata":{
    "datalore":{
     "type":"MD",
     "hide_input_from_viewers":false,
     "hide_output_from_viewers":false
    }
   }
  },
  {
   "cell_type":"code",
   "source":[
    "universidad = pd.DataFrame(\n",
    "    {\n",
    "        \"Persona\" : persona_data,\n",
    "        \"Sexo\" : sexo_data,\n",
    "        \"Domicilio\" : domicilio_data,\n",
    "        \"Altura\" : altura\n",
    "    }\n",
    ")\n",
    "universidad.Altura = round(universidad.Altura,2)\n",
    "universidad.head(10)"
   ],
   "execution_count":8,
   "outputs":[
    {
     "data":{
      "text\/html":[
       "<div>\n",
       "<style scoped>\n",
       "    .dataframe tbody tr th:only-of-type {\n",
       "        vertical-align: middle;\n",
       "    }\n",
       "\n",
       "    .dataframe tbody tr th {\n",
       "        vertical-align: top;\n",
       "    }\n",
       "\n",
       "    .dataframe thead th {\n",
       "        text-align: right;\n",
       "    }\n",
       "<\/style>\n",
       "<table border=\"1\" class=\"dataframe\">\n",
       "  <thead>\n",
       "    <tr style=\"text-align: right;\">\n",
       "      <th><\/th>\n",
       "      <th>Persona<\/th>\n",
       "      <th>Sexo<\/th>\n",
       "      <th>Domicilio<\/th>\n",
       "      <th>Altura<\/th>\n",
       "    <\/tr>\n",
       "  <\/thead>\n",
       "  <tbody>\n",
       "    <tr>\n",
       "      <th>0<\/th>\n",
       "      <td>Alumno\/a<\/td>\n",
       "      <td>Masculino<\/td>\n",
       "      <td>Boadilla<\/td>\n",
       "      <td>157.05<\/td>\n",
       "    <\/tr>\n",
       "    <tr>\n",
       "      <th>1<\/th>\n",
       "      <td>Profesor\/a<\/td>\n",
       "      <td>Masculino<\/td>\n",
       "      <td>Villaviciosa<\/td>\n",
       "      <td>179.62<\/td>\n",
       "    <\/tr>\n",
       "    <tr>\n",
       "      <th>2<\/th>\n",
       "      <td>Directivo\/a<\/td>\n",
       "      <td>Masculino<\/td>\n",
       "      <td>Villaviciosa<\/td>\n",
       "      <td>171.79<\/td>\n",
       "    <\/tr>\n",
       "    <tr>\n",
       "      <th>3<\/th>\n",
       "      <td>Profesor\/a<\/td>\n",
       "      <td>Femenino<\/td>\n",
       "      <td>Madrid(Cuidad)<\/td>\n",
       "      <td>190.74<\/td>\n",
       "    <\/tr>\n",
       "    <tr>\n",
       "      <th>4<\/th>\n",
       "      <td>Profesor\/a<\/td>\n",
       "      <td>Femenino<\/td>\n",
       "      <td>Villaviciosa<\/td>\n",
       "      <td>173.62<\/td>\n",
       "    <\/tr>\n",
       "    <tr>\n",
       "      <th>5<\/th>\n",
       "      <td>Alumno\/a<\/td>\n",
       "      <td>Masculino<\/td>\n",
       "      <td>Villaviciosa<\/td>\n",
       "      <td>163.19<\/td>\n",
       "    <\/tr>\n",
       "    <tr>\n",
       "      <th>6<\/th>\n",
       "      <td>Profesor\/a<\/td>\n",
       "      <td>Masculino<\/td>\n",
       "      <td>Villaviciosa<\/td>\n",
       "      <td>192.35<\/td>\n",
       "    <\/tr>\n",
       "    <tr>\n",
       "      <th>7<\/th>\n",
       "      <td>Personal<\/td>\n",
       "      <td>Femenino<\/td>\n",
       "      <td>Villaviciosa<\/td>\n",
       "      <td>174.46<\/td>\n",
       "    <\/tr>\n",
       "    <tr>\n",
       "      <th>8<\/th>\n",
       "      <td>Directivo\/a<\/td>\n",
       "      <td>Femenino<\/td>\n",
       "      <td>Madrid(Cuidad)<\/td>\n",
       "      <td>175.56<\/td>\n",
       "    <\/tr>\n",
       "    <tr>\n",
       "      <th>9<\/th>\n",
       "      <td>Personal<\/td>\n",
       "      <td>Femenino<\/td>\n",
       "      <td>Boadilla<\/td>\n",
       "      <td>158.29<\/td>\n",
       "    <\/tr>\n",
       "  <\/tbody>\n",
       "<\/table>\n",
       "<\/div>"
      ]
     },
     "metadata":{
      
     },
     "output_type":"display_data"
    }
   ],
   "metadata":{
    "datalore":{
     "type":"CODE",
     "hide_input_from_viewers":false,
     "hide_output_from_viewers":false
    }
   }
  },
  {
   "cell_type":"markdown",
   "source":[
    "Introducción de edad dependiendo del tipo de persona que es"
   ],
   "attachments":{
    
   },
   "metadata":{
    "datalore":{
     "type":"MD",
     "hide_input_from_viewers":false,
     "hide_output_from_viewers":false
    }
   }
  },
  {
   "cell_type":"code",
   "source":[
    "universidad[\"Edad\"] = np.nan\n",
    "universidad[\"Edad\"][(universidad[\"Persona\"] == \"Alumno\/a\") ] = 20 + 1 * np.random.randn((universidad[universidad.Persona == 'Alumno\/a'].shape[0]))\n",
    "universidad[\"Edad\"][(universidad[\"Persona\"] == \"Profesor\/a\") ] = 40 + 4 * np.random.randn((universidad[universidad.Persona == 'Profesor\/a'].shape[0]))\n",
    "universidad[\"Edad\"][(universidad[\"Persona\"] == \"Personal\") ] = 40 + 4 * np.random.randn((universidad[universidad.Persona == 'Personal'].shape[0]))\n",
    "universidad[\"Edad\"][(universidad[\"Persona\"] == \"Directivo\/a\") ] = 50 + 4 * np.random.randn((universidad[universidad.Persona == 'Directivo\/a'].shape[0]))\n",
    "universidad.Edad = round(universidad.Edad)"
   ],
   "execution_count":9,
   "outputs":[
    
   ],
   "metadata":{
    "datalore":{
     "type":"CODE",
     "hide_input_from_viewers":false,
     "hide_output_from_viewers":false
    }
   }
  },
  {
   "cell_type":"code",
   "source":[
    "universidad.head(10)"
   ],
   "execution_count":10,
   "outputs":[
    {
     "data":{
      "text\/html":[
       "<div>\n",
       "<style scoped>\n",
       "    .dataframe tbody tr th:only-of-type {\n",
       "        vertical-align: middle;\n",
       "    }\n",
       "\n",
       "    .dataframe tbody tr th {\n",
       "        vertical-align: top;\n",
       "    }\n",
       "\n",
       "    .dataframe thead th {\n",
       "        text-align: right;\n",
       "    }\n",
       "<\/style>\n",
       "<table border=\"1\" class=\"dataframe\">\n",
       "  <thead>\n",
       "    <tr style=\"text-align: right;\">\n",
       "      <th><\/th>\n",
       "      <th>Persona<\/th>\n",
       "      <th>Sexo<\/th>\n",
       "      <th>Domicilio<\/th>\n",
       "      <th>Altura<\/th>\n",
       "      <th>Edad<\/th>\n",
       "    <\/tr>\n",
       "  <\/thead>\n",
       "  <tbody>\n",
       "    <tr>\n",
       "      <th>0<\/th>\n",
       "      <td>Alumno\/a<\/td>\n",
       "      <td>Masculino<\/td>\n",
       "      <td>Boadilla<\/td>\n",
       "      <td>157.05<\/td>\n",
       "      <td>19.0<\/td>\n",
       "    <\/tr>\n",
       "    <tr>\n",
       "      <th>1<\/th>\n",
       "      <td>Profesor\/a<\/td>\n",
       "      <td>Masculino<\/td>\n",
       "      <td>Villaviciosa<\/td>\n",
       "      <td>179.62<\/td>\n",
       "      <td>38.0<\/td>\n",
       "    <\/tr>\n",
       "    <tr>\n",
       "      <th>2<\/th>\n",
       "      <td>Directivo\/a<\/td>\n",
       "      <td>Masculino<\/td>\n",
       "      <td>Villaviciosa<\/td>\n",
       "      <td>171.79<\/td>\n",
       "      <td>52.0<\/td>\n",
       "    <\/tr>\n",
       "    <tr>\n",
       "      <th>3<\/th>\n",
       "      <td>Profesor\/a<\/td>\n",
       "      <td>Femenino<\/td>\n",
       "      <td>Madrid(Cuidad)<\/td>\n",
       "      <td>190.74<\/td>\n",
       "      <td>47.0<\/td>\n",
       "    <\/tr>\n",
       "    <tr>\n",
       "      <th>4<\/th>\n",
       "      <td>Profesor\/a<\/td>\n",
       "      <td>Femenino<\/td>\n",
       "      <td>Villaviciosa<\/td>\n",
       "      <td>173.62<\/td>\n",
       "      <td>45.0<\/td>\n",
       "    <\/tr>\n",
       "    <tr>\n",
       "      <th>5<\/th>\n",
       "      <td>Alumno\/a<\/td>\n",
       "      <td>Masculino<\/td>\n",
       "      <td>Villaviciosa<\/td>\n",
       "      <td>163.19<\/td>\n",
       "      <td>19.0<\/td>\n",
       "    <\/tr>\n",
       "    <tr>\n",
       "      <th>6<\/th>\n",
       "      <td>Profesor\/a<\/td>\n",
       "      <td>Masculino<\/td>\n",
       "      <td>Villaviciosa<\/td>\n",
       "      <td>192.35<\/td>\n",
       "      <td>33.0<\/td>\n",
       "    <\/tr>\n",
       "    <tr>\n",
       "      <th>7<\/th>\n",
       "      <td>Personal<\/td>\n",
       "      <td>Femenino<\/td>\n",
       "      <td>Villaviciosa<\/td>\n",
       "      <td>174.46<\/td>\n",
       "      <td>44.0<\/td>\n",
       "    <\/tr>\n",
       "    <tr>\n",
       "      <th>8<\/th>\n",
       "      <td>Directivo\/a<\/td>\n",
       "      <td>Femenino<\/td>\n",
       "      <td>Madrid(Cuidad)<\/td>\n",
       "      <td>175.56<\/td>\n",
       "      <td>53.0<\/td>\n",
       "    <\/tr>\n",
       "    <tr>\n",
       "      <th>9<\/th>\n",
       "      <td>Personal<\/td>\n",
       "      <td>Femenino<\/td>\n",
       "      <td>Boadilla<\/td>\n",
       "      <td>158.29<\/td>\n",
       "      <td>39.0<\/td>\n",
       "    <\/tr>\n",
       "  <\/tbody>\n",
       "<\/table>\n",
       "<\/div>"
      ]
     },
     "metadata":{
      
     },
     "output_type":"display_data"
    }
   ],
   "metadata":{
    "datalore":{
     "type":"CODE",
     "hide_input_from_viewers":false,
     "hide_output_from_viewers":false
    }
   }
  },
  {
   "cell_type":"markdown",
   "source":[
    "Gráfica de histogramas de la altura"
   ],
   "attachments":{
    
   },
   "metadata":{
    "datalore":{
     "type":"MD",
     "hide_input_from_viewers":false,
     "hide_output_from_viewers":false
    }
   }
  },
  {
   "cell_type":"code",
   "source":[
    "k = int(np.ceil(1+np.log2(40000000)))\n",
    "plt.hist(universidad[\"Altura\"], bins = k)\n",
    "plt.xlabel(\"Altura\")\n",
    "plt.ylabel(\"nºpersonas\")\n",
    "plt.title(\"Histograma de la altura\")"
   ],
   "execution_count":11,
   "outputs":[
    {
     "data":{
      "text\/plain":[
       "Text(0.5, 1.0, 'Histograma de la altura')"
      ],
      "image\/png":"[encoded data removed]"
     },
     "metadata":{
      "image\/png":{
       
      }
     },
     "output_type":"display_data"
    }
   ],
   "metadata":{
    "datalore":{
     "type":"CODE",
     "hide_input_from_viewers":false,
     "hide_output_from_viewers":false
    }
   }
  },
  {
   "cell_type":"markdown",
   "source":[
    "Agrupacíón doble por persona y sexo"
   ],
   "attachments":{
    
   },
   "metadata":{
    "datalore":{
     "type":"MD",
     "hide_input_from_viewers":false,
     "hide_output_from_viewers":false
    }
   }
  },
  {
   "cell_type":"code",
   "source":[
    "uni_dou_group = universidad.groupby([\"Persona\", \"Sexo\"])\n",
    "uni_dou_group.mean().round(1)"
   ],
   "execution_count":12,
   "outputs":[
    {
     "data":{
      "text\/html":[
       "<div>\n",
       "<style scoped>\n",
       "    .dataframe tbody tr th:only-of-type {\n",
       "        vertical-align: middle;\n",
       "    }\n",
       "\n",
       "    .dataframe tbody tr th {\n",
       "        vertical-align: top;\n",
       "    }\n",
       "\n",
       "    .dataframe thead th {\n",
       "        text-align: right;\n",
       "    }\n",
       "<\/style>\n",
       "<table border=\"1\" class=\"dataframe\">\n",
       "  <thead>\n",
       "    <tr style=\"text-align: right;\">\n",
       "      <th><\/th>\n",
       "      <th><\/th>\n",
       "      <th>Altura<\/th>\n",
       "      <th>Edad<\/th>\n",
       "    <\/tr>\n",
       "    <tr>\n",
       "      <th>Persona<\/th>\n",
       "      <th>Sexo<\/th>\n",
       "      <th><\/th>\n",
       "      <th><\/th>\n",
       "    <\/tr>\n",
       "  <\/thead>\n",
       "  <tbody>\n",
       "    <tr>\n",
       "      <th rowspan=\"2\" valign=\"top\">Alumno\/a<\/th>\n",
       "      <th>Femenino<\/th>\n",
       "      <td>175.5<\/td>\n",
       "      <td>20.0<\/td>\n",
       "    <\/tr>\n",
       "    <tr>\n",
       "      <th>Masculino<\/th>\n",
       "      <td>174.9<\/td>\n",
       "      <td>19.9<\/td>\n",
       "    <\/tr>\n",
       "    <tr>\n",
       "      <th rowspan=\"2\" valign=\"top\">Directivo\/a<\/th>\n",
       "      <th>Femenino<\/th>\n",
       "      <td>175.5<\/td>\n",
       "      <td>50.0<\/td>\n",
       "    <\/tr>\n",
       "    <tr>\n",
       "      <th>Masculino<\/th>\n",
       "      <td>175.4<\/td>\n",
       "      <td>50.4<\/td>\n",
       "    <\/tr>\n",
       "    <tr>\n",
       "      <th rowspan=\"2\" valign=\"top\">Personal<\/th>\n",
       "      <th>Femenino<\/th>\n",
       "      <td>177.6<\/td>\n",
       "      <td>40.0<\/td>\n",
       "    <\/tr>\n",
       "    <tr>\n",
       "      <th>Masculino<\/th>\n",
       "      <td>175.6<\/td>\n",
       "      <td>39.4<\/td>\n",
       "    <\/tr>\n",
       "    <tr>\n",
       "      <th rowspan=\"2\" valign=\"top\">Profesor\/a<\/th>\n",
       "      <th>Femenino<\/th>\n",
       "      <td>175.9<\/td>\n",
       "      <td>40.9<\/td>\n",
       "    <\/tr>\n",
       "    <tr>\n",
       "      <th>Masculino<\/th>\n",
       "      <td>174.2<\/td>\n",
       "      <td>40.4<\/td>\n",
       "    <\/tr>\n",
       "  <\/tbody>\n",
       "<\/table>\n",
       "<\/div>"
      ]
     },
     "metadata":{
      
     },
     "output_type":"display_data"
    }
   ],
   "metadata":{
    "datalore":{
     "type":"CODE",
     "hide_input_from_viewers":false,
     "hide_output_from_viewers":false
    }
   }
  },
  {
   "cell_type":"code",
   "source":[
    "uni_dou_group.size()"
   ],
   "execution_count":13,
   "outputs":[
    {
     "data":{
      "text\/html":[
       
      ]
     },
     "metadata":{
      
     },
     "output_type":"display_data"
    }
   ],
   "metadata":{
    "datalore":{
     "type":"CODE",
     "hide_input_from_viewers":false,
     "hide_output_from_viewers":false
    }
   }
  },
  {
   "cell_type":"code",
   "source":[
    "uni_dou_group.aggregate([np.sum, np.mean, np.std])"
   ],
   "execution_count":14,
   "outputs":[
    {
     "data":{
      "text\/html":[
       "<div>\n",
       "<style scoped>\n",
       "    .dataframe tbody tr th:only-of-type {\n",
       "        vertical-align: middle;\n",
       "    }\n",
       "\n",
       "    .dataframe tbody tr th {\n",
       "        vertical-align: top;\n",
       "    }\n",
       "\n",
       "    .dataframe thead tr th {\n",
       "        text-align: left;\n",
       "    }\n",
       "\n",
       "    .dataframe thead tr:last-of-type th {\n",
       "        text-align: right;\n",
       "    }\n",
       "<\/style>\n",
       "<table border=\"1\" class=\"dataframe\">\n",
       "  <thead>\n",
       "    <tr>\n",
       "      <th><\/th>\n",
       "      <th><\/th>\n",
       "      <th colspan=\"3\" halign=\"left\">Altura<\/th>\n",
       "      <th colspan=\"3\" halign=\"left\">Edad<\/th>\n",
       "    <\/tr>\n",
       "    <tr>\n",
       "      <th><\/th>\n",
       "      <th><\/th>\n",
       "      <th>sum<\/th>\n",
       "      <th>mean<\/th>\n",
       "      <th>std<\/th>\n",
       "      <th>sum<\/th>\n",
       "      <th>mean<\/th>\n",
       "      <th>std<\/th>\n",
       "    <\/tr>\n",
       "    <tr>\n",
       "      <th>Persona<\/th>\n",
       "      <th>Sexo<\/th>\n",
       "      <th><\/th>\n",
       "      <th><\/th>\n",
       "      <th><\/th>\n",
       "      <th><\/th>\n",
       "      <th><\/th>\n",
       "      <th><\/th>\n",
       "    <\/tr>\n",
       "  <\/thead>\n",
       "  <tbody>\n",
       "    <tr>\n",
       "      <th rowspan=\"2\" valign=\"top\">Alumno\/a<\/th>\n",
       "      <th>Femenino<\/th>\n",
       "      <td>24750.31<\/td>\n",
       "      <td>175.534113<\/td>\n",
       "      <td>9.976488<\/td>\n",
       "      <td>2815.0<\/td>\n",
       "      <td>19.964539<\/td>\n",
       "      <td>1.085037<\/td>\n",
       "    <\/tr>\n",
       "    <tr>\n",
       "      <th>Masculino<\/th>\n",
       "      <td>21332.21<\/td>\n",
       "      <td>174.854180<\/td>\n",
       "      <td>9.893483<\/td>\n",
       "      <td>2422.0<\/td>\n",
       "      <td>19.852459<\/td>\n",
       "      <td>0.984778<\/td>\n",
       "    <\/tr>\n",
       "    <tr>\n",
       "      <th rowspan=\"2\" valign=\"top\">Directivo\/a<\/th>\n",
       "      <th>Femenino<\/th>\n",
       "      <td>21056.26<\/td>\n",
       "      <td>175.468833<\/td>\n",
       "      <td>11.591793<\/td>\n",
       "      <td>6002.0<\/td>\n",
       "      <td>50.016667<\/td>\n",
       "      <td>3.832596<\/td>\n",
       "    <\/tr>\n",
       "    <tr>\n",
       "      <th>Masculino<\/th>\n",
       "      <td>20692.43<\/td>\n",
       "      <td>175.359576<\/td>\n",
       "      <td>9.765217<\/td>\n",
       "      <td>5944.0<\/td>\n",
       "      <td>50.372881<\/td>\n",
       "      <td>3.797878<\/td>\n",
       "    <\/tr>\n",
       "    <tr>\n",
       "      <th rowspan=\"2\" valign=\"top\">Personal<\/th>\n",
       "      <th>Femenino<\/th>\n",
       "      <td>22553.41<\/td>\n",
       "      <td>177.585906<\/td>\n",
       "      <td>10.495537<\/td>\n",
       "      <td>5077.0<\/td>\n",
       "      <td>39.976378<\/td>\n",
       "      <td>4.008848<\/td>\n",
       "    <\/tr>\n",
       "    <tr>\n",
       "      <th>Masculino<\/th>\n",
       "      <td>23875.65<\/td>\n",
       "      <td>175.556250<\/td>\n",
       "      <td>9.811164<\/td>\n",
       "      <td>5356.0<\/td>\n",
       "      <td>39.382353<\/td>\n",
       "      <td>4.066227<\/td>\n",
       "    <\/tr>\n",
       "    <tr>\n",
       "      <th rowspan=\"2\" valign=\"top\">Profesor\/a<\/th>\n",
       "      <th>Femenino<\/th>\n",
       "      <td>20758.79<\/td>\n",
       "      <td>175.921949<\/td>\n",
       "      <td>10.015321<\/td>\n",
       "      <td>4823.0<\/td>\n",
       "      <td>40.872881<\/td>\n",
       "      <td>4.297776<\/td>\n",
       "    <\/tr>\n",
       "    <tr>\n",
       "      <th>Masculino<\/th>\n",
       "      <td>20560.83<\/td>\n",
       "      <td>174.244322<\/td>\n",
       "      <td>10.045213<\/td>\n",
       "      <td>4773.0<\/td>\n",
       "      <td>40.449153<\/td>\n",
       "      <td>3.657559<\/td>\n",
       "    <\/tr>\n",
       "  <\/tbody>\n",
       "<\/table>\n",
       "<\/div>"
      ]
     },
     "metadata":{
      
     },
     "output_type":"display_data"
    }
   ],
   "metadata":{
    "datalore":{
     "type":"CODE",
     "hide_input_from_viewers":false,
     "hide_output_from_viewers":false
    }
   }
  },
  {
   "cell_type":"code",
   "source":[
    "zscore = lambda x : (x - x.mean())\/x.std()\n",
    "z_group = uni_dou_group.transform(zscore)\n",
    "plt.hist(z_group[\"Edad\"])\n",
    "plt.title(\"\")"
   ],
   "execution_count":15,
   "outputs":[
    {
     "data":{
      "text\/plain":[
       "Text(0.5, 1.0, '')"
      ],
      "image\/png":"[encoded data removed]"
     },
     "metadata":{
      "image\/png":{
       
      }
     },
     "output_type":"display_data"
    }
   ],
   "metadata":{
    "datalore":{
     "type":"CODE",
     "hide_input_from_viewers":false,
     "hide_output_from_viewers":false
    }
   }
  },
  {
   "cell_type":"code",
   "source":[
    "check = (universidad ['Edad']<40)\n",
    "check"
   ],
   "execution_count":16,
   "outputs":[
    {
     "data":{
      "text\/html":[
       
      ]
     },
     "metadata":{
      
     },
     "output_type":"display_data"
    }
   ],
   "metadata":{
    "datalore":{
     "type":"CODE",
     "hide_input_from_viewers":false,
     "hide_output_from_viewers":false
    }
   }
  },
  {
   "cell_type":"code",
   "source":[
    "plt.hist(check.astype(int))"
   ],
   "execution_count":17,
   "outputs":[
    {
     "data":{
      "text\/plain":[
       "(array([532.,   0.,   0.,   0.,   0.,   0.,   0.,   0.,   0., 468.]),\n",
       " array([0. , 0.1, 0.2, 0.3, 0.4, 0.5, 0.6, 0.7, 0.8, 0.9, 1. ]),\n",
       " <BarContainer object of 10 artists>)"
      ],
      "image\/png":"[encoded data removed]"
     },
     "metadata":{
      "image\/png":{
       
      }
     },
     "output_type":"display_data"
    }
   ],
   "metadata":{
    "datalore":{
     "type":"CODE",
     "hide_input_from_viewers":false,
     "hide_output_from_viewers":false
    }
   }
  },
  {
   "cell_type":"code",
   "source":[
    "training = universidad[check]\n",
    "testing = universidad[~check]\n",
    "print(len(training))\n",
    "print(len(testing))"
   ],
   "execution_count":18,
   "outputs":[
    {
     "name":"stdout",
     "text":[
      "468\n",
      "532\n"
     ],
     "output_type":"stream"
    }
   ],
   "metadata":{
    "datalore":{
     "type":"CODE",
     "hide_input_from_viewers":false,
     "hide_output_from_viewers":false
    }
   }
  },
  {
   "cell_type":"code",
   "source":[
    "train, test = train_test_split(universidad, test_size = 0.25)\n",
    "print(len(train))\n",
    "print(len(test))"
   ],
   "execution_count":19,
   "outputs":[
    {
     "name":"stdout",
     "text":[
      "750\n",
      "250\n"
     ],
     "output_type":"stream"
    }
   ],
   "metadata":{
    "datalore":{
     "type":"CODE",
     "hide_input_from_viewers":false,
     "hide_output_from_viewers":false
    }
   }
  },
  {
   "cell_type":"code",
   "source":[
    "data = sklearn.utils.shuffle(universidad)\n",
    "cut_id = int(0.70*len(universidad))\n",
    "train_data = data[:cut_id]\n",
    "test_data = data[cut_id+1:]\n",
    "print(len(train_data))\n",
    "print(len(test_data))"
   ],
   "execution_count":20,
   "outputs":[
    {
     "name":"stdout",
     "text":[
      "700\n",
      "299\n"
     ],
     "output_type":"stream"
    }
   ],
   "metadata":{
    "datalore":{
     "type":"CODE",
     "hide_input_from_viewers":false,
     "hide_output_from_viewers":false
    }
   }
  }
 ],
 "metadata":{
  "datalore":{
   "version":1,
   "computation_mode":"JUPYTER",
   "package_manager":"pip",
   "base_environment":"default",
   "packages":[
    
   ]
  }
 },
 "nbformat":4,
 "nbformat_minor":4
}