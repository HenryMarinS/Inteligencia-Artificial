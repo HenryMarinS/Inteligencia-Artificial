{
 "cells":[
  {
   "cell_type":"code",
   "source":[
    "import numpy as np\n",
    "import matplotlib.pyplot as plt"
   ],
   "execution_count":1,
   "outputs":[
    
   ],
   "metadata":{
    "datalore":{
     "type":"CODE",
     "hide_input_from_viewers":false,
     "hide_output_from_viewers":false
    }
   }
  },
  {
   "cell_type":"code",
   "source":[
    "from sklearn import datasets\n",
    "iris = datasets.load_iris()\n",
    "iris"
   ],
   "execution_count":2,
   "outputs":[
    {
     "data":{
      "text\/plain":[
       "{'data': array([[5.1, 3.5, 1.4, 0.2],\n",
       "        [4.9, 3. , 1.4, 0.2],\n",
       "        [4.7, 3.2, 1.3, 0.2],\n",
       "        [4.6, 3.1, 1.5, 0.2],\n",
       "        [5. , 3.6, 1.4, 0.2],\n",
       "        [5.4, 3.9, 1.7, 0.4],\n",
       "        [4.6, 3.4, 1.4, 0.3],\n",
       "        [5. , 3.4, 1.5, 0.2],\n",
       "        [4.4, 2.9, 1.4, 0.2],\n",
       "        [4.9, 3.1, 1.5, 0.1],\n",
       "        [5.4, 3.7, 1.5, 0.2],\n",
       "        [4.8, 3.4, 1.6, 0.2],\n",
       "        [4.8, 3. , 1.4, 0.1],\n",
       "        [4.3, 3. , 1.1, 0.1],\n",
       "        [5.8, 4. , 1.2, 0.2],\n",
       "        [5.7, 4.4, 1.5, 0.4],\n",
       "        [5.4, 3.9, 1.3, 0.4],\n",
       "        [5.1, 3.5, 1.4, 0.3],\n",
       "        [5.7, 3.8, 1.7, 0.3],\n",
       "        [5.1, 3.8, 1.5, 0.3],\n",
       "        [5.4, 3.4, 1.7, 0.2],\n",
       "        [5.1, 3.7, 1.5, 0.4],\n",
       "        [4.6, 3.6, 1. , 0.2],\n",
       "        [5.1, 3.3, 1.7, 0.5],\n",
       "        [4.8, 3.4, 1.9, 0.2],\n",
       "        [5. , 3. , 1.6, 0.2],\n",
       "        [5. , 3.4, 1.6, 0.4],\n",
       "        [5.2, 3.5, 1.5, 0.2],\n",
       "        [5.2, 3.4, 1.4, 0.2],\n",
       "        [4.7, 3.2, 1.6, 0.2],\n",
       "        [4.8, 3.1, 1.6, 0.2],\n",
       "        [5.4, 3.4, 1.5, 0.4],\n",
       "        [5.2, 4.1, 1.5, 0.1],\n",
       "        [5.5, 4.2, 1.4, 0.2],\n",
       "        [4.9, 3.1, 1.5, 0.2],\n",
       "        [5. , 3.2, 1.2, 0.2],\n",
       "        [5.5, 3.5, 1.3, 0.2],\n",
       "        [4.9, 3.6, 1.4, 0.1],\n",
       "        [4.4, 3. , 1.3, 0.2],\n",
       "        [5.1, 3.4, 1.5, 0.2],\n",
       "        [5. , 3.5, 1.3, 0.3],\n",
       "        [4.5, 2.3, 1.3, 0.3],\n",
       "        [4.4, 3.2, 1.3, 0.2],\n",
       "        [5. , 3.5, 1.6, 0.6],\n",
       "        [5.1, 3.8, 1.9, 0.4],\n",
       "        [4.8, 3. , 1.4, 0.3],\n",
       "        [5.1, 3.8, 1.6, 0.2],\n",
       "        [4.6, 3.2, 1.4, 0.2],\n",
       "        [5.3, 3.7, 1.5, 0.2],\n",
       "        [5. , 3.3, 1.4, 0.2],\n",
       "        [7. , 3.2, 4.7, 1.4],\n",
       "        [6.4, 3.2, 4.5, 1.5],\n",
       "        [6.9, 3.1, 4.9, 1.5],\n",
       "        [5.5, 2.3, 4. , 1.3],\n",
       "        [6.5, 2.8, 4.6, 1.5],\n",
       "        [5.7, 2.8, 4.5, 1.3],\n",
       "        [6.3, 3.3, 4.7, 1.6],\n",
       "        [4.9, 2.4, 3.3, 1. ],\n",
       "        [6.6, 2.9, 4.6, 1.3],\n",
       "        [5.2, 2.7, 3.9, 1.4],\n",
       "        [5. , 2. , 3.5, 1. ],\n",
       "        [5.9, 3. , 4.2, 1.5],\n",
       "        [6. , 2.2, 4. , 1. ],\n",
       "        [6.1, 2.9, 4.7, 1.4],\n",
       "        [5.6, 2.9, 3.6, 1.3],\n",
       "        [6.7, 3.1, 4.4, 1.4],\n",
       "        [5.6, 3. , 4.5, 1.5],\n",
       "        [5.8, 2.7, 4.1, 1. ],\n",
       "        [6.2, 2.2, 4.5, 1.5],\n",
       "        [5.6, 2.5, 3.9, 1.1],\n",
       "        [5.9, 3.2, 4.8, 1.8],\n",
       "        [6.1, 2.8, 4. , 1.3],\n",
       "        [6.3, 2.5, 4.9, 1.5],\n",
       "        [6.1, 2.8, 4.7, 1.2],\n",
       "        [6.4, 2.9, 4.3, 1.3],\n",
       "        [6.6, 3. , 4.4, 1.4],\n",
       "        [6.8, 2.8, 4.8, 1.4],\n",
       "        [6.7, 3. , 5. , 1.7],\n",
       "        [6. , 2.9, 4.5, 1.5],\n",
       "        [5.7, 2.6, 3.5, 1. ],\n",
       "        [5.5, 2.4, 3.8, 1.1],\n",
       "        [5.5, 2.4, 3.7, 1. ],\n",
       "        [5.8, 2.7, 3.9, 1.2],\n",
       "        [6. , 2.7, 5.1, 1.6],\n",
       "        [5.4, 3. , 4.5, 1.5],\n",
       "        [6. , 3.4, 4.5, 1.6],\n",
       "        [6.7, 3.1, 4.7, 1.5],\n",
       "        [6.3, 2.3, 4.4, 1.3],\n",
       "        [5.6, 3. , 4.1, 1.3],\n",
       "        [5.5, 2.5, 4. , 1.3],\n",
       "        [5.5, 2.6, 4.4, 1.2],\n",
       "        [6.1, 3. , 4.6, 1.4],\n",
       "        [5.8, 2.6, 4. , 1.2],\n",
       "        [5. , 2.3, 3.3, 1. ],\n",
       "        [5.6, 2.7, 4.2, 1.3],\n",
       "        [5.7, 3. , 4.2, 1.2],\n",
       "        [5.7, 2.9, 4.2, 1.3],\n",
       "        [6.2, 2.9, 4.3, 1.3],\n",
       "        [5.1, 2.5, 3. , 1.1],\n",
       "        [5.7, 2.8, 4.1, 1.3],\n",
       "        [6.3, 3.3, 6. , 2.5],\n",
       "        [5.8, 2.7, 5.1, 1.9],\n",
       "        [7.1, 3. , 5.9, 2.1],\n",
       "        [6.3, 2.9, 5.6, 1.8],\n",
       "        [6.5, 3. , 5.8, 2.2],\n",
       "        [7.6, 3. , 6.6, 2.1],\n",
       "        [4.9, 2.5, 4.5, 1.7],\n",
       "        [7.3, 2.9, 6.3, 1.8],\n",
       "        [6.7, 2.5, 5.8, 1.8],\n",
       "        [7.2, 3.6, 6.1, 2.5],\n",
       "        [6.5, 3.2, 5.1, 2. ],\n",
       "        [6.4, 2.7, 5.3, 1.9],\n",
       "        [6.8, 3. , 5.5, 2.1],\n",
       "        [5.7, 2.5, 5. , 2. ],\n",
       "        [5.8, 2.8, 5.1, 2.4],\n",
       "        [6.4, 3.2, 5.3, 2.3],\n",
       "        [6.5, 3. , 5.5, 1.8],\n",
       "        [7.7, 3.8, 6.7, 2.2],\n",
       "        [7.7, 2.6, 6.9, 2.3],\n",
       "        [6. , 2.2, 5. , 1.5],\n",
       "        [6.9, 3.2, 5.7, 2.3],\n",
       "        [5.6, 2.8, 4.9, 2. ],\n",
       "        [7.7, 2.8, 6.7, 2. ],\n",
       "        [6.3, 2.7, 4.9, 1.8],\n",
       "        [6.7, 3.3, 5.7, 2.1],\n",
       "        [7.2, 3.2, 6. , 1.8],\n",
       "        [6.2, 2.8, 4.8, 1.8],\n",
       "        [6.1, 3. , 4.9, 1.8],\n",
       "        [6.4, 2.8, 5.6, 2.1],\n",
       "        [7.2, 3. , 5.8, 1.6],\n",
       "        [7.4, 2.8, 6.1, 1.9],\n",
       "        [7.9, 3.8, 6.4, 2. ],\n",
       "        [6.4, 2.8, 5.6, 2.2],\n",
       "        [6.3, 2.8, 5.1, 1.5],\n",
       "        [6.1, 2.6, 5.6, 1.4],\n",
       "        [7.7, 3. , 6.1, 2.3],\n",
       "        [6.3, 3.4, 5.6, 2.4],\n",
       "        [6.4, 3.1, 5.5, 1.8],\n",
       "        [6. , 3. , 4.8, 1.8],\n",
       "        [6.9, 3.1, 5.4, 2.1],\n",
       "        [6.7, 3.1, 5.6, 2.4],\n",
       "        [6.9, 3.1, 5.1, 2.3],\n",
       "        [5.8, 2.7, 5.1, 1.9],\n",
       "        [6.8, 3.2, 5.9, 2.3],\n",
       "        [6.7, 3.3, 5.7, 2.5],\n",
       "        [6.7, 3. , 5.2, 2.3],\n",
       "        [6.3, 2.5, 5. , 1.9],\n",
       "        [6.5, 3. , 5.2, 2. ],\n",
       "        [6.2, 3.4, 5.4, 2.3],\n",
       "        [5.9, 3. , 5.1, 1.8]]),\n",
       " 'target': array([0, 0, 0, 0, 0, 0, 0, 0, 0, 0, 0, 0, 0, 0, 0, 0, 0, 0, 0, 0, 0, 0,\n",
       "        0, 0, 0, 0, 0, 0, 0, 0, 0, 0, 0, 0, 0, 0, 0, 0, 0, 0, 0, 0, 0, 0,\n",
       "        0, 0, 0, 0, 0, 0, 1, 1, 1, 1, 1, 1, 1, 1, 1, 1, 1, 1, 1, 1, 1, 1,\n",
       "        1, 1, 1, 1, 1, 1, 1, 1, 1, 1, 1, 1, 1, 1, 1, 1, 1, 1, 1, 1, 1, 1,\n",
       "        1, 1, 1, 1, 1, 1, 1, 1, 1, 1, 1, 1, 2, 2, 2, 2, 2, 2, 2, 2, 2, 2,\n",
       "        2, 2, 2, 2, 2, 2, 2, 2, 2, 2, 2, 2, 2, 2, 2, 2, 2, 2, 2, 2, 2, 2,\n",
       "        2, 2, 2, 2, 2, 2, 2, 2, 2, 2, 2, 2, 2, 2, 2, 2, 2, 2]),\n",
       " 'frame': None,\n",
       " 'target_names': array(['setosa', 'versicolor', 'virginica'], dtype='<U10'),\n",
       " 'DESCR': '.. _iris_dataset:\\n\\nIris plants dataset\\n--------------------\\n\\n**Data Set Characteristics:**\\n\\n    :Number of Instances: 150 (50 in each of three classes)\\n    :Number of Attributes: 4 numeric, predictive attributes and the class\\n    :Attribute Information:\\n        - sepal length in cm\\n        - sepal width in cm\\n        - petal length in cm\\n        - petal width in cm\\n        - class:\\n                - Iris-Setosa\\n                - Iris-Versicolour\\n                - Iris-Virginica\\n                \\n    :Summary Statistics:\\n\\n    ============== ==== ==== ======= ===== ====================\\n                    Min  Max   Mean    SD   Class Correlation\\n    ============== ==== ==== ======= ===== ====================\\n    sepal length:   4.3  7.9   5.84   0.83    0.7826\\n    sepal width:    2.0  4.4   3.05   0.43   -0.4194\\n    petal length:   1.0  6.9   3.76   1.76    0.9490  (high!)\\n    petal width:    0.1  2.5   1.20   0.76    0.9565  (high!)\\n    ============== ==== ==== ======= ===== ====================\\n\\n    :Missing Attribute Values: None\\n    :Class Distribution: 33.3% for each of 3 classes.\\n    :Creator: R.A. Fisher\\n    :Donor: Michael Marshall (MARSHALL%PLU@io.arc.nasa.gov)\\n    :Date: July, 1988\\n\\nThe famous Iris database, first used by Sir R.A. Fisher. The dataset is taken\\nfrom Fisher\\'s paper. Note that it\\'s the same as in R, but not as in the UCI\\nMachine Learning Repository, which has two wrong data points.\\n\\nThis is perhaps the best known database to be found in the\\npattern recognition literature.  Fisher\\'s paper is a classic in the field and\\nis referenced frequently to this day.  (See Duda & Hart, for example.)  The\\ndata set contains 3 classes of 50 instances each, where each class refers to a\\ntype of iris plant.  One class is linearly separable from the other 2; the\\nlatter are NOT linearly separable from each other.\\n\\n.. topic:: References\\n\\n   - Fisher, R.A. \"The use of multiple measurements in taxonomic problems\"\\n     Annual Eugenics, 7, Part II, 179-188 (1936); also in \"Contributions to\\n     Mathematical Statistics\" (John Wiley, NY, 1950).\\n   - Duda, R.O., & Hart, P.E. (1973) Pattern Classification and Scene Analysis.\\n     (Q327.D83) John Wiley & Sons.  ISBN 0-471-22361-1.  See page 218.\\n   - Dasarathy, B.V. (1980) \"Nosing Around the Neighborhood: A New System\\n     Structure and Classification Rule for Recognition in Partially Exposed\\n     Environments\".  IEEE Transactions on Pattern Analysis and Machine\\n     Intelligence, Vol. PAMI-2, No. 1, 67-71.\\n   - Gates, G.W. (1972) \"The Reduced Nearest Neighbor Rule\".  IEEE Transactions\\n     on Information Theory, May 1972, 431-433.\\n   - See also: 1988 MLC Proceedings, 54-64.  Cheeseman et al\"s AUTOCLASS II\\n     conceptual clustering system finds 3 classes in the data.\\n   - Many, many more ...',\n",
       " 'feature_names': ['sepal length (cm)',\n",
       "  'sepal width (cm)',\n",
       "  'petal length (cm)',\n",
       "  'petal width (cm)'],\n",
       " 'filename': 'iris.csv',\n",
       " 'data_module': 'sklearn.datasets.data'}"
      ]
     },
     "metadata":{
      
     },
     "output_type":"display_data"
    }
   ],
   "metadata":{
    "datalore":{
     "type":"CODE",
     "hide_input_from_viewers":false,
     "hide_output_from_viewers":false
    }
   }
  },
  {
   "cell_type":"code",
   "source":[
    "binary_target = np.array([1.0 if x == 0 else 0.0 for x in iris.target])\n",
    "iris2 = np.array([[x[2], x[3]] for x in iris.data])\n",
    "iris2"
   ],
   "execution_count":4,
   "outputs":[
    {
     "data":{
      "text\/html":[
       
      ]
     },
     "metadata":{
      
     },
     "output_type":"display_data"
    }
   ],
   "metadata":{
    "datalore":{
     "type":"CODE",
     "hide_input_from_viewers":false,
     "hide_output_from_viewers":false
    }
   }
  },
  {
   "cell_type":"code",
   "source":[
    "from sklearn.svm import SVC\n",
    "svm = SVC(kernel='linear')\n",
    "svm.fit(iris2, binary_target)"
   ],
   "execution_count":5,
   "outputs":[
    {
     "data":{
      "text\/plain":[
       "SVC(kernel='linear')"
      ]
     },
     "metadata":{
      
     },
     "output_type":"display_data"
    }
   ],
   "metadata":{
    "datalore":{
     "type":"CODE",
     "hide_input_from_viewers":false,
     "hide_output_from_viewers":false
    }
   }
  },
  {
   "cell_type":"code",
   "source":[
    "plt.scatter(iris2[:,0], iris2[:,1], c=svm.predict(iris2));"
   ],
   "execution_count":7,
   "outputs":[
    {
     "data":{
      "image\/png":"[encoded data removed]"
     },
     "metadata":{
      "image\/png":{
       
      }
     },
     "output_type":"display_data"
    }
   ],
   "metadata":{
    "datalore":{
     "type":"CODE",
     "hide_input_from_viewers":false,
     "hide_output_from_viewers":false
    }
   }
  },
  {
   "cell_type":"code",
   "source":[
    "svm.score(iris2, binary_target)"
   ],
   "execution_count":8,
   "outputs":[
    {
     "data":{
      "text\/plain":[
       "1.0"
      ]
     },
     "metadata":{
      
     },
     "output_type":"display_data"
    }
   ],
   "metadata":{
    "datalore":{
     "type":"CODE",
     "hide_input_from_viewers":false,
     "hide_output_from_viewers":false
    }
   }
  },
  {
   "cell_type":"code",
   "source":[
    "svm.support_vectors_"
   ],
   "execution_count":9,
   "outputs":[
    {
     "data":{
      "text\/html":[
       
      ]
     },
     "metadata":{
      
     },
     "output_type":"display_data"
    }
   ],
   "metadata":{
    "datalore":{
     "type":"CODE",
     "hide_input_from_viewers":false,
     "hide_output_from_viewers":false
    }
   }
  },
  {
   "cell_type":"code",
   "source":[
    "def plt_svc(svm, ax=None, plot_support=True):\n",
    "    if ax is None:\n",
    "        ax = plt.gca()\n",
    "    xlim = ax.get_xlim()\n",
    "    ylim = ax.get_ylim()\n",
    "\n",
    "    xx = np.linspace(xlim[0], xlim[1], 30)\n",
    "    yy = np.linspace(ylim[0], ylim[1], 30)\n",
    "    Y, X = np.meshgrid(yy,xx)\n",
    "\n",
    "    xy = np.vstack([X.ravel(), Y.ravel()]).T\n",
    "    P = svm.decision_function(xy).reshape(X.shape)\n",
    "\n",
    "    ax.contour(X,Y,P, colors=\"k\", levels=[-1,0,1], alpha = 0.4, linestyles=[\"--\", \"-\", \"--\"])\n",
    "\n",
    "\n",
    "    if plot_support:\n",
    "        ax.scatter(svm.support_vectors_[:,0],\n",
    "                   svm.support_vectors_[:,1],\n",
    "                   s=300, linewidth=1, facecolors = \"red\");\n",
    "\n",
    "\n",
    "    ax.set_xlim(xlim)\n",
    "    ax.set_ylim(ylim)\n",
    "\n",
    "plt.scatter(iris_2d[:,0], iris_2d[:,1], c=binary_target)\n",
    "plt_svc(svm, plot_support=True)"
   ],
   "execution_count":12,
   "outputs":[
    {
     "data":{
      "image\/png":"[encoded data removed]"
     },
     "metadata":{
      "image\/png":{
       
      }
     },
     "output_type":"display_data"
    }
   ],
   "metadata":{
    "datalore":{
     "type":"CODE",
     "hide_input_from_viewers":false,
     "hide_output_from_viewers":false
    }
   }
  },
  {
   "cell_type":"code",
   "source":[
    "array=np.hstack((iris.data, iris.target.reshape(-1,1)))\n",
    "import pandas as pd\n",
    "data=pd.DataFrame(array)\n",
    "data.columns=['sepal length', 'sepal width', 'petal length', 'petal width', 'species']"
   ],
   "execution_count":13,
   "outputs":[
    
   ],
   "metadata":{
    "datalore":{
     "type":"CODE",
     "hide_input_from_viewers":false,
     "hide_output_from_viewers":false
    }
   }
  },
  {
   "cell_type":"code",
   "source":[
    "svm = SVC(kernel='linear')\n",
    "svm.fit(data[['petal length', 'petal width']], data['species'])"
   ],
   "execution_count":14,
   "outputs":[
    {
     "data":{
      "text\/plain":[
       "SVC(kernel='linear')"
      ]
     },
     "metadata":{
      
     },
     "output_type":"display_data"
    }
   ],
   "metadata":{
    "datalore":{
     "type":"CODE",
     "hide_input_from_viewers":false,
     "hide_output_from_viewers":false
    }
   }
  },
  {
   "cell_type":"code",
   "source":[
    "svm.score(data[['petal length', 'petal width']], data['species'])"
   ],
   "execution_count":15,
   "outputs":[
    {
     "data":{
      "text\/plain":[
       "0.9666666666666667"
      ]
     },
     "metadata":{
      
     },
     "output_type":"display_data"
    }
   ],
   "metadata":{
    "datalore":{
     "type":"CODE",
     "hide_input_from_viewers":false,
     "hide_output_from_viewers":false
    }
   }
  },
  {
   "cell_type":"code",
   "source":[
    "from sklearn.model_selection import GridSearchCV\n",
    "param_grid = {'kernel': ['linear', 'rbf', 'sigmoid'],\n",
    "              'C': [0.001, 0.01, 0.1, 1, 10, 100, 1000],\n",
    "              'gamma': [0.001, 0.01, 0.1, 1, 10, 100, 1000]}\n",
    "grid = GridSearchCV(SVC(), param_grid, verbose=2)\n",
    "grid.fit(data[['petal length', 'petal width']], data['species'])"
   ],
   "execution_count":16,
   "outputs":[
    {
     "name":"stdout",
     "text":[
      "Fitting 5 folds for each of 147 candidates, totalling 735 fits\n",
      "[CV] END ................C=0.001, gamma=0.001, kernel=linear; total time=   0.0s\n",
      "[CV] END ................C=0.001, gamma=0.001, kernel=linear; total time=   0.0s\n",
      "[CV] END ................C=0.001, gamma=0.001, kernel=linear; total time=   0.0s\n",
      "[CV] END ................C=0.001, gamma=0.001, kernel=linear; total time=   0.0s\n",
      "[CV] END ................C=0.001, gamma=0.001, kernel=linear; total time=   0.0s\n",
      "[CV] END ...................C=0.001, gamma=0.001, kernel=rbf; total time=   0.0s\n",
      "[CV] END ...................C=0.001, gamma=0.001, kernel=rbf; total time=   0.0s\n",
      "[CV] END ...................C=0.001, gamma=0.001, kernel=rbf; total time=   0.0s\n",
      "[CV] END ...................C=0.001, gamma=0.001, kernel=rbf; total time=   0.0s\n",
      "[CV] END ...................C=0.001, gamma=0.001, kernel=rbf; total time=   0.0s\n",
      "[CV] END ...............C=0.001, gamma=0.001, kernel=sigmoid; total time=   0.0s\n",
      "[CV] END ...............C=0.001, gamma=0.001, kernel=sigmoid; total time=   0.0s\n",
      "[CV] END ...............C=0.001, gamma=0.001, kernel=sigmoid; total time=   0.0s\n",
      "[CV] END ...............C=0.001, gamma=0.001, kernel=sigmoid; total time=   0.0s\n",
      "[CV] END ...............C=0.001, gamma=0.001, kernel=sigmoid; total time=   0.0s\n",
      "[CV] END .................C=0.001, gamma=0.01, kernel=linear; total time=   0.0s\n",
      "[CV] END .................C=0.001, gamma=0.01, kernel=linear; total time=   0.0s\n",
      "[CV] END .................C=0.001, gamma=0.01, kernel=linear; total time=   0.0s\n",
      "[CV] END .................C=0.001, gamma=0.01, kernel=linear; total time=   0.0s\n",
      "[CV] END .................C=0.001, gamma=0.01, kernel=linear; total time=   0.0s\n",
      "[CV] END ....................C=0.001, gamma=0.01, kernel=rbf; total time=   0.0s\n",
      "[CV] END ....................C=0.001, gamma=0.01, kernel=rbf; total time=   0.0s\n",
      "[CV] END ....................C=0.001, gamma=0.01, kernel=rbf; total time=   0.0s\n",
      "[CV] END ....................C=0.001, gamma=0.01, kernel=rbf; total time=   0.0s\n",
      "[CV] END ....................C=0.001, gamma=0.01, kernel=rbf; total time=   0.0s\n",
      "[CV] END ................C=0.001, gamma=0.01, kernel=sigmoid; total time=   0.0s\n",
      "[CV] END ................C=0.001, gamma=0.01, kernel=sigmoid; total time=   0.0s\n",
      "[CV] END ................C=0.001, gamma=0.01, kernel=sigmoid; total time=   0.0s\n",
      "[CV] END ................C=0.001, gamma=0.01, kernel=sigmoid; total time=   0.0s\n",
      "[CV] END ................C=0.001, gamma=0.01, kernel=sigmoid; total time=   0.0s\n",
      "[CV] END ..................C=0.001, gamma=0.1, kernel=linear; total time=   0.0s\n",
      "[CV] END ..................C=0.001, gamma=0.1, kernel=linear; total time=   0.0s\n",
      "[CV] END ..................C=0.001, gamma=0.1, kernel=linear; total time=   0.0s\n",
      "[CV] END ..................C=0.001, gamma=0.1, kernel=linear; total time=   0.0s\n",
      "[CV] END ..................C=0.001, gamma=0.1, kernel=linear; total time=   0.0s\n",
      "[CV] END .....................C=0.001, gamma=0.1, kernel=rbf; total time=   0.0s\n",
      "[CV] END .....................C=0.001, gamma=0.1, kernel=rbf; total time=   0.0s\n",
      "[CV] END .....................C=0.001, gamma=0.1, kernel=rbf; total time=   0.0s\n",
      "[CV] END .....................C=0.001, gamma=0.1, kernel=rbf; total time=   0.0s\n",
      "[CV] END .....................C=0.001, gamma=0.1, kernel=rbf; total time=   0.0s\n",
      "[CV] END .................C=0.001, gamma=0.1, kernel=sigmoid; total time=   0.0s\n",
      "[CV] END .................C=0.001, gamma=0.1, kernel=sigmoid; total time=   0.0s\n",
      "[CV] END .................C=0.001, gamma=0.1, kernel=sigmoid; total time=   0.0s\n",
      "[CV] END .................C=0.001, gamma=0.1, kernel=sigmoid; total time=   0.0s\n",
      "[CV] END .................C=0.001, gamma=0.1, kernel=sigmoid; total time=   0.0s\n",
      "[CV] END ....................C=0.001, gamma=1, kernel=linear; total time=   0.0s\n",
      "[CV] END ....................C=0.001, gamma=1, kernel=linear; total time=   0.0s\n",
      "[CV] END ....................C=0.001, gamma=1, kernel=linear; total time=   0.0s\n",
      "[CV] END ....................C=0.001, gamma=1, kernel=linear; total time=   0.0s\n",
      "[CV] END ....................C=0.001, gamma=1, kernel=linear; total time=   0.0s\n",
      "[CV] END .......................C=0.001, gamma=1, kernel=rbf; total time=   0.0s\n",
      "[CV] END .......................C=0.001, gamma=1, kernel=rbf; total time=   0.0s\n",
      "[CV] END .......................C=0.001, gamma=1, kernel=rbf; total time=   0.0s\n",
      "[CV] END .......................C=0.001, gamma=1, kernel=rbf; total time=   0.0s\n",
      "[CV] END .......................C=0.001, gamma=1, kernel=rbf; total time=   0.0s\n",
      "[CV] END ...................C=0.001, gamma=1, kernel=sigmoid; total time=   0.0s\n",
      "[CV] END ...................C=0.001, gamma=1, kernel=sigmoid; total time=   0.0s\n",
      "[CV] END ...................C=0.001, gamma=1, kernel=sigmoid; total time=   0.0s\n",
      "[CV] END ...................C=0.001, gamma=1, kernel=sigmoid; total time=   0.0s\n",
      "[CV] END ...................C=0.001, gamma=1, kernel=sigmoid; total time=   0.0s\n",
      "[CV] END ...................C=0.001, gamma=10, kernel=linear; total time=   0.0s\n",
      "[CV] END ...................C=0.001, gamma=10, kernel=linear; total time=   0.0s\n",
      "[CV] END ...................C=0.001, gamma=10, kernel=linear; total time=   0.0s\n",
      "[CV] END ...................C=0.001, gamma=10, kernel=linear; total time=   0.0s\n",
      "[CV] END ...................C=0.001, gamma=10, kernel=linear; total time=   0.0s\n",
      "[CV] END ......................C=0.001, gamma=10, kernel=rbf; total time=   0.0s\n",
      "[CV] END ......................C=0.001, gamma=10, kernel=rbf; total time=   0.0s\n",
      "[CV] END ......................C=0.001, gamma=10, kernel=rbf; total time=   0.0s\n",
      "[CV] END ......................C=0.001, gamma=10, kernel=rbf; total time=   0.0s\n",
      "[CV] END ......................C=0.001, gamma=10, kernel=rbf; total time=   0.0s\n",
      "[CV] END ..................C=0.001, gamma=10, kernel=sigmoid; total time=   0.0s\n",
      "[CV] END ..................C=0.001, gamma=10, kernel=sigmoid; total time=   0.0s\n",
      "[CV] END ..................C=0.001, gamma=10, kernel=sigmoid; total time=   0.0s\n",
      "[CV] END ..................C=0.001, gamma=10, kernel=sigmoid; total time=   0.0s\n",
      "[CV] END ..................C=0.001, gamma=10, kernel=sigmoid; total time=   0.0s\n",
      "[CV] END ..................C=0.001, gamma=100, kernel=linear; total time=   0.0s\n",
      "[CV] END ..................C=0.001, gamma=100, kernel=linear; total time=   0.0s\n",
      "[CV] END ..................C=0.001, gamma=100, kernel=linear; total time=   0.0s\n",
      "[CV] END ..................C=0.001, gamma=100, kernel=linear; total time=   0.0s\n",
      "[CV] END ..................C=0.001, gamma=100, kernel=linear; total time=   0.0s\n",
      "[CV] END .....................C=0.001, gamma=100, kernel=rbf; total time=   0.0s\n",
      "[CV] END .....................C=0.001, gamma=100, kernel=rbf; total time=   0.0s\n",
      "[CV] END .....................C=0.001, gamma=100, kernel=rbf; total time=   0.0s\n",
      "[CV] END .....................C=0.001, gamma=100, kernel=rbf; total time=   0.0s\n",
      "[CV] END .....................C=0.001, gamma=100, kernel=rbf; total time=   0.0s\n",
      "[CV] END .................C=0.001, gamma=100, kernel=sigmoid; total time=   0.0s\n",
      "[CV] END .................C=0.001, gamma=100, kernel=sigmoid; total time=   0.0s\n",
      "[CV] END .................C=0.001, gamma=100, kernel=sigmoid; total time=   0.0s\n",
      "[CV] END .................C=0.001, gamma=100, kernel=sigmoid; total time=   0.0s\n",
      "[CV] END .................C=0.001, gamma=100, kernel=sigmoid; total time=   0.0s\n",
      "[CV] END .................C=0.001, gamma=1000, kernel=linear; total time=   0.0s\n",
      "[CV] END .................C=0.001, gamma=1000, kernel=linear; total time=   0.0s\n",
      "[CV] END .................C=0.001, gamma=1000, kernel=linear; total time=   0.0s\n",
      "[CV] END .................C=0.001, gamma=1000, kernel=linear; total time=   0.0s\n",
      "[CV] END .................C=0.001, gamma=1000, kernel=linear; total time=   0.0s\n",
      "[CV] END ....................C=0.001, gamma=1000, kernel=rbf; total time=   0.0s\n",
      "[CV] END ....................C=0.001, gamma=1000, kernel=rbf; total time=   0.0s\n",
      "[CV] END ....................C=0.001, gamma=1000, kernel=rbf; total time=   0.0s\n",
      "[CV] END ....................C=0.001, gamma=1000, kernel=rbf; total time=   0.0s\n",
      "[CV] END ....................C=0.001, gamma=1000, kernel=rbf; total time=   0.0s\n",
      "[CV] END ................C=0.001, gamma=1000, kernel=sigmoid; total time=   0.0s\n",
      "[CV] END ................C=0.001, gamma=1000, kernel=sigmoid; total time=   0.0s\n",
      "[CV] END ................C=0.001, gamma=1000, kernel=sigmoid; total time=   0.0s\n",
      "[CV] END ................C=0.001, gamma=1000, kernel=sigmoid; total time=   0.0s\n",
      "[CV] END ................C=0.001, gamma=1000, kernel=sigmoid; total time=   0.0s\n",
      "[CV] END .................C=0.01, gamma=0.001, kernel=linear; total time=   0.0s\n",
      "[CV] END .................C=0.01, gamma=0.001, kernel=linear; total time=   0.0s\n",
      "[CV] END .................C=0.01, gamma=0.001, kernel=linear; total time=   0.0s\n",
      "[CV] END .................C=0.01, gamma=0.001, kernel=linear; total time=   0.0s\n",
      "[CV] END .................C=0.01, gamma=0.001, kernel=linear; total time=   0.0s\n",
      "[CV] END ....................C=0.01, gamma=0.001, kernel=rbf; total time=   0.0s\n",
      "[CV] END ....................C=0.01, gamma=0.001, kernel=rbf; total time=   0.0s\n",
      "[CV] END ....................C=0.01, gamma=0.001, kernel=rbf; total time=   0.0s\n",
      "[CV] END ....................C=0.01, gamma=0.001, kernel=rbf; total time=   0.0s\n",
      "[CV] END ....................C=0.01, gamma=0.001, kernel=rbf; total time=   0.0s\n",
      "[CV] END ................C=0.01, gamma=0.001, kernel=sigmoid; total time=   0.0s\n",
      "[CV] END ................C=0.01, gamma=0.001, kernel=sigmoid; total time=   0.0s\n",
      "[CV] END ................C=0.01, gamma=0.001, kernel=sigmoid; total time=   0.0s\n",
      "[CV] END ................C=0.01, gamma=0.001, kernel=sigmoid; total time=   0.0s\n",
      "[CV] END ................C=0.01, gamma=0.001, kernel=sigmoid; total time=   0.0s\n",
      "[CV] END ..................C=0.01, gamma=0.01, kernel=linear; total time=   0.0s\n",
      "[CV] END ..................C=0.01, gamma=0.01, kernel=linear; total time=   0.0s\n",
      "[CV] END ..................C=0.01, gamma=0.01, kernel=linear; total time=   0.0s\n",
      "[CV] END ..................C=0.01, gamma=0.01, kernel=linear; total time=   0.0s\n",
      "[CV] END ..................C=0.01, gamma=0.01, kernel=linear; total time=   0.0s\n",
      "[CV] END .....................C=0.01, gamma=0.01, kernel=rbf; total time=   0.0s\n",
      "[CV] END .....................C=0.01, gamma=0.01, kernel=rbf; total time=   0.0s\n",
      "[CV] END .....................C=0.01, gamma=0.01, kernel=rbf; total time=   0.0s\n",
      "[CV] END .....................C=0.01, gamma=0.01, kernel=rbf; total time=   0.0s\n",
      "[CV] END .....................C=0.01, gamma=0.01, kernel=rbf; total time=   0.0s\n",
      "[CV] END .................C=0.01, gamma=0.01, kernel=sigmoid; total time=   0.0s\n",
      "[CV] END .................C=0.01, gamma=0.01, kernel=sigmoid; total time=   0.0s\n",
      "[CV] END .................C=0.01, gamma=0.01, kernel=sigmoid; total time=   0.0s\n",
      "[CV] END .................C=0.01, gamma=0.01, kernel=sigmoid; total time=   0.0s\n",
      "[CV] END .................C=0.01, gamma=0.01, kernel=sigmoid; total time=   0.0s\n",
      "[CV] END ...................C=0.01, gamma=0.1, kernel=linear; total time=   0.0s\n",
      "[CV] END ...................C=0.01, gamma=0.1, kernel=linear; total time=   0.0s\n",
      "[CV] END ...................C=0.01, gamma=0.1, kernel=linear; total time=   0.0s\n",
      "[CV] END ...................C=0.01, gamma=0.1, kernel=linear; total time=   0.0s\n",
      "[CV] END ...................C=0.01, gamma=0.1, kernel=linear; total time=   0.0s\n",
      "[CV] END ......................C=0.01, gamma=0.1, kernel=rbf; total time=   0.0s\n",
      "[CV] END ......................C=0.01, gamma=0.1, kernel=rbf; total time=   0.0s\n",
      "[CV] END ......................C=0.01, gamma=0.1, kernel=rbf; total time=   0.0s\n",
      "[CV] END ......................C=0.01, gamma=0.1, kernel=rbf; total time=   0.0s\n",
      "[CV] END ......................C=0.01, gamma=0.1, kernel=rbf; total time=   0.0s\n",
      "[CV] END ..................C=0.01, gamma=0.1, kernel=sigmoid; total time=   0.0s\n",
      "[CV] END ..................C=0.01, gamma=0.1, kernel=sigmoid; total time=   0.0s\n",
      "[CV] END ..................C=0.01, gamma=0.1, kernel=sigmoid; total time=   0.0s\n",
      "[CV] END ..................C=0.01, gamma=0.1, kernel=sigmoid; total time=   0.0s\n",
      "[CV] END ..................C=0.01, gamma=0.1, kernel=sigmoid; total time=   0.0s\n",
      "[CV] END .....................C=0.01, gamma=1, kernel=linear; total time=   0.0s\n",
      "[CV] END .....................C=0.01, gamma=1, kernel=linear; total time=   0.0s\n",
      "[CV] END .....................C=0.01, gamma=1, kernel=linear; total time=   0.0s\n",
      "[CV] END .....................C=0.01, gamma=1, kernel=linear; total time=   0.0s\n",
      "[CV] END .....................C=0.01, gamma=1, kernel=linear; total time=   0.0s\n",
      "[CV] END ........................C=0.01, gamma=1, kernel=rbf; total time=   0.0s\n",
      "[CV] END ........................C=0.01, gamma=1, kernel=rbf; total time=   0.0s\n",
      "[CV] END ........................C=0.01, gamma=1, kernel=rbf; total time=   0.0s\n",
      "[CV] END ........................C=0.01, gamma=1, kernel=rbf; total time=   0.0s\n",
      "[CV] END ........................C=0.01, gamma=1, kernel=rbf; total time=   0.0s\n",
      "[CV] END ....................C=0.01, gamma=1, kernel=sigmoid; total time=   0.0s\n",
      "[CV] END ....................C=0.01, gamma=1, kernel=sigmoid; total time=   0.0s\n",
      "[CV] END ....................C=0.01, gamma=1, kernel=sigmoid; total time=   0.0s\n",
      "[CV] END ....................C=0.01, gamma=1, kernel=sigmoid; total time=   0.0s\n",
      "[CV] END ....................C=0.01, gamma=1, kernel=sigmoid; total time=   0.0s\n",
      "[CV] END ....................C=0.01, gamma=10, kernel=linear; total time=   0.0s\n",
      "[CV] END ....................C=0.01, gamma=10, kernel=linear; total time=   0.0s\n",
      "[CV] END ....................C=0.01, gamma=10, kernel=linear; total time=   0.0s\n",
      "[CV] END ....................C=0.01, gamma=10, kernel=linear; total time=   0.0s\n",
      "[CV] END ....................C=0.01, gamma=10, kernel=linear; total time=   0.0s\n",
      "[CV] END .......................C=0.01, gamma=10, kernel=rbf; total time=   0.0s\n",
      "[CV] END .......................C=0.01, gamma=10, kernel=rbf; total time=   0.0s\n",
      "[CV] END .......................C=0.01, gamma=10, kernel=rbf; total time=   0.0s\n",
      "[CV] END .......................C=0.01, gamma=10, kernel=rbf; total time=   0.0s\n",
      "[CV] END .......................C=0.01, gamma=10, kernel=rbf; total time=   0.0s\n",
      "[CV] END ...................C=0.01, gamma=10, kernel=sigmoid; total time=   0.0s\n",
      "[CV] END ...................C=0.01, gamma=10, kernel=sigmoid; total time=   0.0s\n",
      "[CV] END ...................C=0.01, gamma=10, kernel=sigmoid; total time=   0.0s\n",
      "[CV] END ...................C=0.01, gamma=10, kernel=sigmoid; total time=   0.0s\n",
      "[CV] END ...................C=0.01, gamma=10, kernel=sigmoid; total time=   0.0s\n",
      "[CV] END ...................C=0.01, gamma=100, kernel=linear; total time=   0.0s\n",
      "[CV] END ...................C=0.01, gamma=100, kernel=linear; total time=   0.0s\n",
      "[CV] END ...................C=0.01, gamma=100, kernel=linear; total time=   0.0s\n",
      "[CV] END ...................C=0.01, gamma=100, kernel=linear; total time=   0.0s\n",
      "[CV] END ...................C=0.01, gamma=100, kernel=linear; total time=   0.0s\n",
      "[CV] END ......................C=0.01, gamma=100, kernel=rbf; total time=   0.0s\n",
      "[CV] END ......................C=0.01, gamma=100, kernel=rbf; total time=   0.0s\n",
      "[CV] END ......................C=0.01, gamma=100, kernel=rbf; total time=   0.0s\n",
      "[CV] END ......................C=0.01, gamma=100, kernel=rbf; total time=   0.0s\n",
      "[CV] END ......................C=0.01, gamma=100, kernel=rbf; total time=   0.0s\n",
      "[CV] END ..................C=0.01, gamma=100, kernel=sigmoid; total time=   0.0s\n",
      "[CV] END ..................C=0.01, gamma=100, kernel=sigmoid; total time=   0.0s\n",
      "[CV] END ..................C=0.01, gamma=100, kernel=sigmoid; total time=   0.0s\n",
      "[CV] END ..................C=0.01, gamma=100, kernel=sigmoid; total time=   0.0s\n",
      "[CV] END ..................C=0.01, gamma=100, kernel=sigmoid; total time=   0.0s\n",
      "[CV] END ..................C=0.01, gamma=1000, kernel=linear; total time=   0.0s\n",
      "[CV] END ..................C=0.01, gamma=1000, kernel=linear; total time=   0.0s\n",
      "[CV] END ..................C=0.01, gamma=1000, kernel=linear; total time=   0.0s\n",
      "[CV] END ..................C=0.01, gamma=1000, kernel=linear; total time=   0.0s\n",
      "[CV] END ..................C=0.01, gamma=1000, kernel=linear; total time=   0.0s\n",
      "[CV] END .....................C=0.01, gamma=1000, kernel=rbf; total time=   0.0s\n",
      "[CV] END .....................C=0.01, gamma=1000, kernel=rbf; total time=   0.0s\n",
      "[CV] END .....................C=0.01, gamma=1000, kernel=rbf; total time=   0.0s\n",
      "[CV] END .....................C=0.01, gamma=1000, kernel=rbf; total time=   0.0s\n",
      "[CV] END .....................C=0.01, gamma=1000, kernel=rbf; total time=   0.0s\n",
      "[CV] END .................C=0.01, gamma=1000, kernel=sigmoid; total time=   0.0s\n",
      "[CV] END .................C=0.01, gamma=1000, kernel=sigmoid; total time=   0.0s\n",
      "[CV] END .................C=0.01, gamma=1000, kernel=sigmoid; total time=   0.0s\n",
      "[CV] END .................C=0.01, gamma=1000, kernel=sigmoid; total time=   0.0s\n",
      "[CV] END .................C=0.01, gamma=1000, kernel=sigmoid; total time=   0.0s\n",
      "[CV] END ..................C=0.1, gamma=0.001, kernel=linear; total time=   0.0s\n",
      "[CV] END ..................C=0.1, gamma=0.001, kernel=linear; total time=   0.0s\n",
      "[CV] END ..................C=0.1, gamma=0.001, kernel=linear; total time=   0.0s\n",
      "[CV] END ..................C=0.1, gamma=0.001, kernel=linear; total time=   0.0s\n",
      "[CV] END ..................C=0.1, gamma=0.001, kernel=linear; total time=   0.0s\n",
      "[CV] END .....................C=0.1, gamma=0.001, kernel=rbf; total time=   0.0s\n",
      "[CV] END .....................C=0.1, gamma=0.001, kernel=rbf; total time=   0.0s\n",
      "[CV] END .....................C=0.1, gamma=0.001, kernel=rbf; total time=   0.0s\n",
      "[CV] END .....................C=0.1, gamma=0.001, kernel=rbf; total time=   0.0s\n",
      "[CV] END .....................C=0.1, gamma=0.001, kernel=rbf; total time=   0.0s\n",
      "[CV] END .................C=0.1, gamma=0.001, kernel=sigmoid; total time=   0.0s\n",
      "[CV] END .................C=0.1, gamma=0.001, kernel=sigmoid; total time=   0.0s\n",
      "[CV] END .................C=0.1, gamma=0.001, kernel=sigmoid; total time=   0.0s\n",
      "[CV] END .................C=0.1, gamma=0.001, kernel=sigmoid; total time=   0.0s\n",
      "[CV] END .................C=0.1, gamma=0.001, kernel=sigmoid; total time=   0.0s\n",
      "[CV] END ...................C=0.1, gamma=0.01, kernel=linear; total time=   0.0s\n",
      "[CV] END ...................C=0.1, gamma=0.01, kernel=linear; total time=   0.0s\n",
      "[CV] END ...................C=0.1, gamma=0.01, kernel=linear; total time=   0.0s\n",
      "[CV] END ...................C=0.1, gamma=0.01, kernel=linear; total time=   0.0s\n",
      "[CV] END ...................C=0.1, gamma=0.01, kernel=linear; total time=   0.0s\n",
      "[CV] END ......................C=0.1, gamma=0.01, kernel=rbf; total time=   0.0s\n",
      "[CV] END ......................C=0.1, gamma=0.01, kernel=rbf; total time=   0.0s\n",
      "[CV] END ......................C=0.1, gamma=0.01, kernel=rbf; total time=   0.0s\n",
      "[CV] END ......................C=0.1, gamma=0.01, kernel=rbf; total time=   0.0s\n",
      "[CV] END ......................C=0.1, gamma=0.01, kernel=rbf; total time=   0.0s\n",
      "[CV] END ..................C=0.1, gamma=0.01, kernel=sigmoid; total time=   0.0s\n",
      "[CV] END ..................C=0.1, gamma=0.01, kernel=sigmoid; total time=   0.0s\n",
      "[CV] END ..................C=0.1, gamma=0.01, kernel=sigmoid; total time=   0.0s\n",
      "[CV] END ..................C=0.1, gamma=0.01, kernel=sigmoid; total time=   0.0s\n",
      "[CV] END ..................C=0.1, gamma=0.01, kernel=sigmoid; total time=   0.0s\n",
      "[CV] END ....................C=0.1, gamma=0.1, kernel=linear; total time=   0.0s\n",
      "[CV] END ....................C=0.1, gamma=0.1, kernel=linear; total time=   0.0s\n",
      "[CV] END ....................C=0.1, gamma=0.1, kernel=linear; total time=   0.0s\n",
      "[CV] END ....................C=0.1, gamma=0.1, kernel=linear; total time=   0.0s\n",
      "[CV] END ....................C=0.1, gamma=0.1, kernel=linear; total time=   0.0s\n",
      "[CV] END .......................C=0.1, gamma=0.1, kernel=rbf; total time=   0.0s\n",
      "[CV] END .......................C=0.1, gamma=0.1, kernel=rbf; total time=   0.0s\n",
      "[CV] END .......................C=0.1, gamma=0.1, kernel=rbf; total time=   0.0s\n",
      "[CV] END .......................C=0.1, gamma=0.1, kernel=rbf; total time=   0.0s\n",
      "[CV] END .......................C=0.1, gamma=0.1, kernel=rbf; total time=   0.0s\n",
      "[CV] END ...................C=0.1, gamma=0.1, kernel=sigmoid; total time=   0.0s\n",
      "[CV] END ...................C=0.1, gamma=0.1, kernel=sigmoid; total time=   0.0s\n",
      "[CV] END ...................C=0.1, gamma=0.1, kernel=sigmoid; total time=   0.0s\n",
      "[CV] END ...................C=0.1, gamma=0.1, kernel=sigmoid; total time=   0.0s\n",
      "[CV] END ...................C=0.1, gamma=0.1, kernel=sigmoid; total time=   0.0s\n",
      "[CV] END ......................C=0.1, gamma=1, kernel=linear; total time=   0.0s\n",
      "[CV] END ......................C=0.1, gamma=1, kernel=linear; total time=   0.0s\n",
      "[CV] END ......................C=0.1, gamma=1, kernel=linear; total time=   0.0s\n",
      "[CV] END ......................C=0.1, gamma=1, kernel=linear; total time=   0.0s\n",
      "[CV] END ......................C=0.1, gamma=1, kernel=linear; total time=   0.0s\n",
      "[CV] END .........................C=0.1, gamma=1, kernel=rbf; total time=   0.0s\n",
      "[CV] END .........................C=0.1, gamma=1, kernel=rbf; total time=   0.0s\n",
      "[CV] END .........................C=0.1, gamma=1, kernel=rbf; total time=   0.0s\n",
      "[CV] END .........................C=0.1, gamma=1, kernel=rbf; total time=   0.0s\n",
      "[CV] END .........................C=0.1, gamma=1, kernel=rbf; total time=   0.0s\n",
      "[CV] END .....................C=0.1, gamma=1, kernel=sigmoid; total time=   0.0s\n",
      "[CV] END .....................C=0.1, gamma=1, kernel=sigmoid; total time=   0.0s\n",
      "[CV] END .....................C=0.1, gamma=1, kernel=sigmoid; total time=   0.0s\n",
      "[CV] END .....................C=0.1, gamma=1, kernel=sigmoid; total time=   0.0s\n",
      "[CV] END .....................C=0.1, gamma=1, kernel=sigmoid; total time=   0.0s\n",
      "[CV] END .....................C=0.1, gamma=10, kernel=linear; total time=   0.0s\n",
      "[CV] END .....................C=0.1, gamma=10, kernel=linear; total time=   0.0s\n",
      "[CV] END .....................C=0.1, gamma=10, kernel=linear; total time=   0.0s\n",
      "[CV] END .....................C=0.1, gamma=10, kernel=linear; total time=   0.0s\n",
      "[CV] END .....................C=0.1, gamma=10, kernel=linear; total time=   0.0s\n",
      "[CV] END ........................C=0.1, gamma=10, kernel=rbf; total time=   0.0s\n",
      "[CV] END ........................C=0.1, gamma=10, kernel=rbf; total time=   0.0s\n",
      "[CV] END ........................C=0.1, gamma=10, kernel=rbf; total time=   0.0s\n",
      "[CV] END ........................C=0.1, gamma=10, kernel=rbf; total time=   0.0s\n",
      "[CV] END ........................C=0.1, gamma=10, kernel=rbf; total time=   0.0s\n",
      "[CV] END ....................C=0.1, gamma=10, kernel=sigmoid; total time=   0.0s\n",
      "[CV] END ....................C=0.1, gamma=10, kernel=sigmoid; total time=   0.0s\n",
      "[CV] END ....................C=0.1, gamma=10, kernel=sigmoid; total time=   0.0s\n",
      "[CV] END ....................C=0.1, gamma=10, kernel=sigmoid; total time=   0.0s\n",
      "[CV] END ....................C=0.1, gamma=10, kernel=sigmoid; total time=   0.0s\n",
      "[CV] END ....................C=0.1, gamma=100, kernel=linear; total time=   0.0s\n",
      "[CV] END ....................C=0.1, gamma=100, kernel=linear; total time=   0.0s\n",
      "[CV] END ....................C=0.1, gamma=100, kernel=linear; total time=   0.0s\n",
      "[CV] END ....................C=0.1, gamma=100, kernel=linear; total time=   0.0s\n",
      "[CV] END ....................C=0.1, gamma=100, kernel=linear; total time=   0.0s\n",
      "[CV] END .......................C=0.1, gamma=100, kernel=rbf; total time=   0.0s\n",
      "[CV] END .......................C=0.1, gamma=100, kernel=rbf; total time=   0.0s\n",
      "[CV] END .......................C=0.1, gamma=100, kernel=rbf; total time=   0.0s\n",
      "[CV] END .......................C=0.1, gamma=100, kernel=rbf; total time=   0.0s\n",
      "[CV] END .......................C=0.1, gamma=100, kernel=rbf; total time=   0.0s\n",
      "[CV] END ...................C=0.1, gamma=100, kernel=sigmoid; total time=   0.0s\n",
      "[CV] END ...................C=0.1, gamma=100, kernel=sigmoid; total time=   0.0s\n",
      "[CV] END ...................C=0.1, gamma=100, kernel=sigmoid; total time=   0.0s\n",
      "[CV] END ...................C=0.1, gamma=100, kernel=sigmoid; total time=   0.0s\n",
      "[CV] END ...................C=0.1, gamma=100, kernel=sigmoid; total time=   0.0s\n",
      "[CV] END ...................C=0.1, gamma=1000, kernel=linear; total time=   0.0s\n",
      "[CV] END ...................C=0.1, gamma=1000, kernel=linear; total time=   0.0s\n",
      "[CV] END ...................C=0.1, gamma=1000, kernel=linear; total time=   0.0s\n",
      "[CV] END ...................C=0.1, gamma=1000, kernel=linear; total time=   0.0s\n",
      "[CV] END ...................C=0.1, gamma=1000, kernel=linear; total time=   0.0s\n",
      "[CV] END ......................C=0.1, gamma=1000, kernel=rbf; total time=   0.0s\n",
      "[CV] END ......................C=0.1, gamma=1000, kernel=rbf; total time=   0.0s\n",
      "[CV] END ......................C=0.1, gamma=1000, kernel=rbf; total time=   0.0s\n",
      "[CV] END ......................C=0.1, gamma=1000, kernel=rbf; total time=   0.0s\n",
      "[CV] END ......................C=0.1, gamma=1000, kernel=rbf; total time=   0.0s\n",
      "[CV] END ..................C=0.1, gamma=1000, kernel=sigmoid; total time=   0.0s\n",
      "[CV] END ..................C=0.1, gamma=1000, kernel=sigmoid; total time=   0.0s\n",
      "[CV] END ..................C=0.1, gamma=1000, kernel=sigmoid; total time=   0.0s\n",
      "[CV] END ..................C=0.1, gamma=1000, kernel=sigmoid; total time=   0.0s\n",
      "[CV] END ..................C=0.1, gamma=1000, kernel=sigmoid; total time=   0.0s\n",
      "[CV] END ....................C=1, gamma=0.001, kernel=linear; total time=   0.0s\n",
      "[CV] END ....................C=1, gamma=0.001, kernel=linear; total time=   0.0s\n",
      "[CV] END ....................C=1, gamma=0.001, kernel=linear; total time=   0.0s\n",
      "[CV] END ....................C=1, gamma=0.001, kernel=linear; total time=   0.0s\n",
      "[CV] END ....................C=1, gamma=0.001, kernel=linear; total time=   0.0s\n",
      "[CV] END .......................C=1, gamma=0.001, kernel=rbf; total time=   0.0s\n",
      "[CV] END .......................C=1, gamma=0.001, kernel=rbf; total time=   0.0s\n",
      "[CV] END .......................C=1, gamma=0.001, kernel=rbf; total time=   0.0s\n",
      "[CV] END .......................C=1, gamma=0.001, kernel=rbf; total time=   0.0s\n",
      "[CV] END .......................C=1, gamma=0.001, kernel=rbf; total time=   0.0s\n",
      "[CV] END ...................C=1, gamma=0.001, kernel=sigmoid; total time=   0.0s\n",
      "[CV] END ...................C=1, gamma=0.001, kernel=sigmoid; total time=   0.0s\n",
      "[CV] END ...................C=1, gamma=0.001, kernel=sigmoid; total time=   0.0s\n",
      "[CV] END ...................C=1, gamma=0.001, kernel=sigmoid; total time=   0.0s\n",
      "[CV] END ...................C=1, gamma=0.001, kernel=sigmoid; total time=   0.0s\n",
      "[CV] END .....................C=1, gamma=0.01, kernel=linear; total time=   0.0s\n",
      "[CV] END .....................C=1, gamma=0.01, kernel=linear; total time=   0.0s\n",
      "[CV] END .....................C=1, gamma=0.01, kernel=linear; total time=   0.0s\n",
      "[CV] END .....................C=1, gamma=0.01, kernel=linear; total time=   0.0s\n",
      "[CV] END .....................C=1, gamma=0.01, kernel=linear; total time=   0.0s\n",
      "[CV] END ........................C=1, gamma=0.01, kernel=rbf; total time=   0.0s\n",
      "[CV] END ........................C=1, gamma=0.01, kernel=rbf; total time=   0.0s\n",
      "[CV] END ........................C=1, gamma=0.01, kernel=rbf; total time=   0.0s\n",
      "[CV] END ........................C=1, gamma=0.01, kernel=rbf; total time=   0.0s\n",
      "[CV] END ........................C=1, gamma=0.01, kernel=rbf; total time=   0.0s\n",
      "[CV] END ....................C=1, gamma=0.01, kernel=sigmoid; total time=   0.0s\n",
      "[CV] END ....................C=1, gamma=0.01, kernel=sigmoid; total time=   0.0s\n",
      "[CV] END ....................C=1, gamma=0.01, kernel=sigmoid; total time=   0.0s\n",
      "[CV] END ....................C=1, gamma=0.01, kernel=sigmoid; total time=   0.0s\n",
      "[CV] END ....................C=1, gamma=0.01, kernel=sigmoid; total time=   0.0s\n",
      "[CV] END ......................C=1, gamma=0.1, kernel=linear; total time=   0.0s\n",
      "[CV] END ......................C=1, gamma=0.1, kernel=linear; total time=   0.0s\n",
      "[CV] END ......................C=1, gamma=0.1, kernel=linear; total time=   0.0s\n",
      "[CV] END ......................C=1, gamma=0.1, kernel=linear; total time=   0.0s\n",
      "[CV] END ......................C=1, gamma=0.1, kernel=linear; total time=   0.0s\n",
      "[CV] END .........................C=1, gamma=0.1, kernel=rbf; total time=   0.0s\n",
      "[CV] END .........................C=1, gamma=0.1, kernel=rbf; total time=   0.0s\n",
      "[CV] END .........................C=1, gamma=0.1, kernel=rbf; total time=   0.0s\n",
      "[CV] END .........................C=1, gamma=0.1, kernel=rbf; total time=   0.0s\n",
      "[CV] END .........................C=1, gamma=0.1, kernel=rbf; total time=   0.0s\n",
      "[CV] END .....................C=1, gamma=0.1, kernel=sigmoid; total time=   0.0s\n",
      "[CV] END .....................C=1, gamma=0.1, kernel=sigmoid; total time=   0.0s\n",
      "[CV] END .....................C=1, gamma=0.1, kernel=sigmoid; total time=   0.0s\n",
      "[CV] END .....................C=1, gamma=0.1, kernel=sigmoid; total time=   0.0s\n",
      "[CV] END .....................C=1, gamma=0.1, kernel=sigmoid; total time=   0.0s\n",
      "[CV] END ........................C=1, gamma=1, kernel=linear; total time=   0.0s\n",
      "[CV] END ........................C=1, gamma=1, kernel=linear; total time=   0.0s\n",
      "[CV] END ........................C=1, gamma=1, kernel=linear; total time=   0.0s\n",
      "[CV] END ........................C=1, gamma=1, kernel=linear; total time=   0.0s\n",
      "[CV] END ........................C=1, gamma=1, kernel=linear; total time=   0.0s\n",
      "[CV] END ...........................C=1, gamma=1, kernel=rbf; total time=   0.0s\n",
      "[CV] END ...........................C=1, gamma=1, kernel=rbf; total time=   0.0s\n",
      "[CV] END ...........................C=1, gamma=1, kernel=rbf; total time=   0.0s\n",
      "[CV] END ...........................C=1, gamma=1, kernel=rbf; total time=   0.0s\n",
      "[CV] END ...........................C=1, gamma=1, kernel=rbf; total time=   0.0s\n",
      "[CV] END .......................C=1, gamma=1, kernel=sigmoid; total time=   0.0s\n",
      "[CV] END .......................C=1, gamma=1, kernel=sigmoid; total time=   0.0s\n",
      "[CV] END .......................C=1, gamma=1, kernel=sigmoid; total time=   0.0s\n",
      "[CV] END .......................C=1, gamma=1, kernel=sigmoid; total time=   0.0s\n",
      "[CV] END .......................C=1, gamma=1, kernel=sigmoid; total time=   0.0s\n",
      "[CV] END .......................C=1, gamma=10, kernel=linear; total time=   0.0s\n",
      "[CV] END .......................C=1, gamma=10, kernel=linear; total time=   0.0s\n",
      "[CV] END .......................C=1, gamma=10, kernel=linear; total time=   0.0s\n",
      "[CV] END .......................C=1, gamma=10, kernel=linear; total time=   0.0s\n",
      "[CV] END .......................C=1, gamma=10, kernel=linear; total time=   0.0s\n",
      "[CV] END ..........................C=1, gamma=10, kernel=rbf; total time=   0.0s\n",
      "[CV] END ..........................C=1, gamma=10, kernel=rbf; total time=   0.0s\n",
      "[CV] END ..........................C=1, gamma=10, kernel=rbf; total time=   0.0s\n",
      "[CV] END ..........................C=1, gamma=10, kernel=rbf; total time=   0.0s\n",
      "[CV] END ..........................C=1, gamma=10, kernel=rbf; total time=   0.0s\n",
      "[CV] END ......................C=1, gamma=10, kernel=sigmoid; total time=   0.0s\n",
      "[CV] END ......................C=1, gamma=10, kernel=sigmoid; total time=   0.0s\n",
      "[CV] END ......................C=1, gamma=10, kernel=sigmoid; total time=   0.0s\n",
      "[CV] END ......................C=1, gamma=10, kernel=sigmoid; total time=   0.0s\n",
      "[CV] END ......................C=1, gamma=10, kernel=sigmoid; total time=   0.0s\n",
      "[CV] END ......................C=1, gamma=100, kernel=linear; total time=   0.0s\n",
      "[CV] END ......................C=1, gamma=100, kernel=linear; total time=   0.0s\n",
      "[CV] END ......................C=1, gamma=100, kernel=linear; total time=   0.0s\n",
      "[CV] END ......................C=1, gamma=100, kernel=linear; total time=   0.0s\n",
      "[CV] END ......................C=1, gamma=100, kernel=linear; total time=   0.0s\n",
      "[CV] END .........................C=1, gamma=100, kernel=rbf; total time=   0.0s\n",
      "[CV] END .........................C=1, gamma=100, kernel=rbf; total time=   0.0s\n",
      "[CV] END .........................C=1, gamma=100, kernel=rbf; total time=   0.0s\n",
      "[CV] END .........................C=1, gamma=100, kernel=rbf; total time=   0.0s\n",
      "[CV] END .........................C=1, gamma=100, kernel=rbf; total time=   0.0s\n",
      "[CV] END .....................C=1, gamma=100, kernel=sigmoid; total time=   0.0s\n",
      "[CV] END .....................C=1, gamma=100, kernel=sigmoid; total time=   0.0s\n",
      "[CV] END .....................C=1, gamma=100, kernel=sigmoid; total time=   0.0s\n",
      "[CV] END .....................C=1, gamma=100, kernel=sigmoid; total time=   0.0s\n",
      "[CV] END .....................C=1, gamma=100, kernel=sigmoid; total time=   0.0s\n",
      "[CV] END .....................C=1, gamma=1000, kernel=linear; total time=   0.0s\n",
      "[CV] END .....................C=1, gamma=1000, kernel=linear; total time=   0.0s\n",
      "[CV] END .....................C=1, gamma=1000, kernel=linear; total time=   0.0s\n",
      "[CV] END .....................C=1, gamma=1000, kernel=linear; total time=   0.0s\n",
      "[CV] END .....................C=1, gamma=1000, kernel=linear; total time=   0.0s\n",
      "[CV] END ........................C=1, gamma=1000, kernel=rbf; total time=   0.0s\n",
      "[CV] END ........................C=1, gamma=1000, kernel=rbf; total time=   0.0s\n",
      "[CV] END ........................C=1, gamma=1000, kernel=rbf; total time=   0.0s\n",
      "[CV] END ........................C=1, gamma=1000, kernel=rbf; total time=   0.0s\n",
      "[CV] END ........................C=1, gamma=1000, kernel=rbf; total time=   0.0s\n",
      "[CV] END ....................C=1, gamma=1000, kernel=sigmoid; total time=   0.0s\n",
      "[CV] END ....................C=1, gamma=1000, kernel=sigmoid; total time=   0.0s\n",
      "[CV] END ....................C=1, gamma=1000, kernel=sigmoid; total time=   0.0s\n",
      "[CV] END ....................C=1, gamma=1000, kernel=sigmoid; total time=   0.0s\n",
      "[CV] END ....................C=1, gamma=1000, kernel=sigmoid; total time=   0.0s\n",
      "[CV] END ...................C=10, gamma=0.001, kernel=linear; total time=   0.0s\n",
      "[CV] END ...................C=10, gamma=0.001, kernel=linear; total time=   0.0s\n",
      "[CV] END ...................C=10, gamma=0.001, kernel=linear; total time=   0.0s\n",
      "[CV] END ...................C=10, gamma=0.001, kernel=linear; total time=   0.0s\n",
      "[CV] END ...................C=10, gamma=0.001, kernel=linear; total time=   0.0s\n",
      "[CV] END ......................C=10, gamma=0.001, kernel=rbf; total time=   0.0s\n",
      "[CV] END ......................C=10, gamma=0.001, kernel=rbf; total time=   0.0s\n",
      "[CV] END ......................C=10, gamma=0.001, kernel=rbf; total time=   0.0s\n",
      "[CV] END ......................C=10, gamma=0.001, kernel=rbf; total time=   0.0s\n",
      "[CV] END ......................C=10, gamma=0.001, kernel=rbf; total time=   0.0s\n",
      "[CV] END ..................C=10, gamma=0.001, kernel=sigmoid; total time=   0.0s\n",
      "[CV] END ..................C=10, gamma=0.001, kernel=sigmoid; total time=   0.0s\n",
      "[CV] END ..................C=10, gamma=0.001, kernel=sigmoid; total time=   0.0s\n",
      "[CV] END ..................C=10, gamma=0.001, kernel=sigmoid; total time=   0.0s\n",
      "[CV] END ..................C=10, gamma=0.001, kernel=sigmoid; total time=   0.0s\n",
      "[CV] END ....................C=10, gamma=0.01, kernel=linear; total time=   0.0s\n",
      "[CV] END ....................C=10, gamma=0.01, kernel=linear; total time=   0.0s\n",
      "[CV] END ....................C=10, gamma=0.01, kernel=linear; total time=   0.0s\n",
      "[CV] END ....................C=10, gamma=0.01, kernel=linear; total time=   0.0s\n",
      "[CV] END ....................C=10, gamma=0.01, kernel=linear; total time=   0.0s\n",
      "[CV] END .......................C=10, gamma=0.01, kernel=rbf; total time=   0.0s\n",
      "[CV] END .......................C=10, gamma=0.01, kernel=rbf; total time=   0.0s\n",
      "[CV] END .......................C=10, gamma=0.01, kernel=rbf; total time=   0.0s\n",
      "[CV] END .......................C=10, gamma=0.01, kernel=rbf; total time=   0.0s\n",
      "[CV] END .......................C=10, gamma=0.01, kernel=rbf; total time=   0.0s\n",
      "[CV] END ...................C=10, gamma=0.01, kernel=sigmoid; total time=   0.0s\n",
      "[CV] END ...................C=10, gamma=0.01, kernel=sigmoid; total time=   0.0s\n",
      "[CV] END ...................C=10, gamma=0.01, kernel=sigmoid; total time=   0.0s\n",
      "[CV] END ...................C=10, gamma=0.01, kernel=sigmoid; total time=   0.0s\n",
      "[CV] END ...................C=10, gamma=0.01, kernel=sigmoid; total time=   0.0s\n",
      "[CV] END .....................C=10, gamma=0.1, kernel=linear; total time=   0.0s\n",
      "[CV] END .....................C=10, gamma=0.1, kernel=linear; total time=   0.0s\n",
      "[CV] END .....................C=10, gamma=0.1, kernel=linear; total time=   0.0s\n",
      "[CV] END .....................C=10, gamma=0.1, kernel=linear; total time=   0.0s\n",
      "[CV] END .....................C=10, gamma=0.1, kernel=linear; total time=   0.0s\n",
      "[CV] END ........................C=10, gamma=0.1, kernel=rbf; total time=   0.0s\n",
      "[CV] END ........................C=10, gamma=0.1, kernel=rbf; total time=   0.0s\n",
      "[CV] END ........................C=10, gamma=0.1, kernel=rbf; total time=   0.0s\n",
      "[CV] END ........................C=10, gamma=0.1, kernel=rbf; total time=   0.0s\n",
      "[CV] END ........................C=10, gamma=0.1, kernel=rbf; total time=   0.0s\n",
      "[CV] END ....................C=10, gamma=0.1, kernel=sigmoid; total time=   0.0s\n",
      "[CV] END ....................C=10, gamma=0.1, kernel=sigmoid; total time=   0.0s\n",
      "[CV] END ....................C=10, gamma=0.1, kernel=sigmoid; total time=   0.0s\n",
      "[CV] END ....................C=10, gamma=0.1, kernel=sigmoid; total time=   0.0s\n",
      "[CV] END ....................C=10, gamma=0.1, kernel=sigmoid; total time=   0.0s\n",
      "[CV] END .......................C=10, gamma=1, kernel=linear; total time=   0.0s\n",
      "[CV] END .......................C=10, gamma=1, kernel=linear; total time=   0.0s\n",
      "[CV] END .......................C=10, gamma=1, kernel=linear; total time=   0.0s\n",
      "[CV] END .......................C=10, gamma=1, kernel=linear; total time=   0.0s\n",
      "[CV] END .......................C=10, gamma=1, kernel=linear; total time=   0.0s\n",
      "[CV] END ..........................C=10, gamma=1, kernel=rbf; total time=   0.0s\n",
      "[CV] END ..........................C=10, gamma=1, kernel=rbf; total time=   0.0s\n",
      "[CV] END ..........................C=10, gamma=1, kernel=rbf; total time=   0.0s\n",
      "[CV] END ..........................C=10, gamma=1, kernel=rbf; total time=   0.0s\n",
      "[CV] END ..........................C=10, gamma=1, kernel=rbf; total time=   0.0s\n",
      "[CV] END ......................C=10, gamma=1, kernel=sigmoid; total time=   0.0s\n",
      "[CV] END ......................C=10, gamma=1, kernel=sigmoid; total time=   0.0s\n",
      "[CV] END ......................C=10, gamma=1, kernel=sigmoid; total time=   0.0s\n",
      "[CV] END ......................C=10, gamma=1, kernel=sigmoid; total time=   0.0s\n",
      "[CV] END ......................C=10, gamma=1, kernel=sigmoid; total time=   0.0s\n",
      "[CV] END ......................C=10, gamma=10, kernel=linear; total time=   0.0s\n",
      "[CV] END ......................C=10, gamma=10, kernel=linear; total time=   0.0s\n",
      "[CV] END ......................C=10, gamma=10, kernel=linear; total time=   0.0s\n",
      "[CV] END ......................C=10, gamma=10, kernel=linear; total time=   0.0s\n",
      "[CV] END ......................C=10, gamma=10, kernel=linear; total time=   0.0s\n",
      "[CV] END .........................C=10, gamma=10, kernel=rbf; total time=   0.0s\n",
      "[CV] END .........................C=10, gamma=10, kernel=rbf; total time=   0.0s\n",
      "[CV] END .........................C=10, gamma=10, kernel=rbf; total time=   0.0s\n",
      "[CV] END .........................C=10, gamma=10, kernel=rbf; total time=   0.0s\n",
      "[CV] END .........................C=10, gamma=10, kernel=rbf; total time=   0.0s\n",
      "[CV] END .....................C=10, gamma=10, kernel=sigmoid; total time=   0.0s\n",
      "[CV] END .....................C=10, gamma=10, kernel=sigmoid; total time=   0.0s\n",
      "[CV] END .....................C=10, gamma=10, kernel=sigmoid; total time=   0.0s\n",
      "[CV] END .....................C=10, gamma=10, kernel=sigmoid; total time=   0.0s\n",
      "[CV] END .....................C=10, gamma=10, kernel=sigmoid; total time=   0.0s\n",
      "[CV] END .....................C=10, gamma=100, kernel=linear; total time=   0.0s\n",
      "[CV] END .....................C=10, gamma=100, kernel=linear; total time=   0.0s\n",
      "[CV] END .....................C=10, gamma=100, kernel=linear; total time=   0.0s\n",
      "[CV] END .....................C=10, gamma=100, kernel=linear; total time=   0.0s\n",
      "[CV] END .....................C=10, gamma=100, kernel=linear; total time=   0.0s\n",
      "[CV] END ........................C=10, gamma=100, kernel=rbf; total time=   0.0s\n",
      "[CV] END ........................C=10, gamma=100, kernel=rbf; total time=   0.0s\n",
      "[CV] END ........................C=10, gamma=100, kernel=rbf; total time=   0.0s\n",
      "[CV] END ........................C=10, gamma=100, kernel=rbf; total time=   0.0s\n",
      "[CV] END ........................C=10, gamma=100, kernel=rbf; total time=   0.0s\n",
      "[CV] END ....................C=10, gamma=100, kernel=sigmoid; total time=   0.0s\n",
      "[CV] END ....................C=10, gamma=100, kernel=sigmoid; total time=   0.0s\n",
      "[CV] END ....................C=10, gamma=100, kernel=sigmoid; total time=   0.0s\n",
      "[CV] END ....................C=10, gamma=100, kernel=sigmoid; total time=   0.0s\n",
      "[CV] END ....................C=10, gamma=100, kernel=sigmoid; total time=   0.0s\n",
      "[CV] END ....................C=10, gamma=1000, kernel=linear; total time=   0.0s\n",
      "[CV] END ....................C=10, gamma=1000, kernel=linear; total time=   0.0s\n",
      "[CV] END ....................C=10, gamma=1000, kernel=linear; total time=   0.0s\n",
      "[CV] END ....................C=10, gamma=1000, kernel=linear; total time=   0.0s\n",
      "[CV] END ....................C=10, gamma=1000, kernel=linear; total time=   0.0s\n",
      "[CV] END .......................C=10, gamma=1000, kernel=rbf; total time=   0.0s\n",
      "[CV] END .......................C=10, gamma=1000, kernel=rbf; total time=   0.0s\n",
      "[CV] END .......................C=10, gamma=1000, kernel=rbf; total time=   0.0s\n",
      "[CV] END .......................C=10, gamma=1000, kernel=rbf; total time=   0.0s\n",
      "[CV] END .......................C=10, gamma=1000, kernel=rbf; total time=   0.0s\n",
      "[CV] END ...................C=10, gamma=1000, kernel=sigmoid; total time=   0.0s\n",
      "[CV] END ...................C=10, gamma=1000, kernel=sigmoid; total time=   0.0s\n",
      "[CV] END ...................C=10, gamma=1000, kernel=sigmoid; total time=   0.0s\n",
      "[CV] END ...................C=10, gamma=1000, kernel=sigmoid; total time=   0.0s\n",
      "[CV] END ...................C=10, gamma=1000, kernel=sigmoid; total time=   0.0s\n",
      "[CV] END ..................C=100, gamma=0.001, kernel=linear; total time=   0.0s\n",
      "[CV] END ..................C=100, gamma=0.001, kernel=linear; total time=   0.0s\n",
      "[CV] END ..................C=100, gamma=0.001, kernel=linear; total time=   0.0s\n",
      "[CV] END ..................C=100, gamma=0.001, kernel=linear; total time=   0.0s\n",
      "[CV] END ..................C=100, gamma=0.001, kernel=linear; total time=   0.0s\n",
      "[CV] END .....................C=100, gamma=0.001, kernel=rbf; total time=   0.0s\n",
      "[CV] END .....................C=100, gamma=0.001, kernel=rbf; total time=   0.0s\n",
      "[CV] END .....................C=100, gamma=0.001, kernel=rbf; total time=   0.0s\n",
      "[CV] END .....................C=100, gamma=0.001, kernel=rbf; total time=   0.0s\n",
      "[CV] END .....................C=100, gamma=0.001, kernel=rbf; total time=   0.0s\n",
      "[CV] END .................C=100, gamma=0.001, kernel=sigmoid; total time=   0.0s\n",
      "[CV] END .................C=100, gamma=0.001, kernel=sigmoid; total time=   0.0s\n",
      "[CV] END .................C=100, gamma=0.001, kernel=sigmoid; total time=   0.0s\n",
      "[CV] END .................C=100, gamma=0.001, kernel=sigmoid; total time=   0.0s\n",
      "[CV] END .................C=100, gamma=0.001, kernel=sigmoid; total time=   0.0s\n",
      "[CV] END ...................C=100, gamma=0.01, kernel=linear; total time=   0.0s\n",
      "[CV] END ...................C=100, gamma=0.01, kernel=linear; total time=   0.0s\n",
      "[CV] END ...................C=100, gamma=0.01, kernel=linear; total time=   0.0s\n",
      "[CV] END ...................C=100, gamma=0.01, kernel=linear; total time=   0.0s\n",
      "[CV] END ...................C=100, gamma=0.01, kernel=linear; total time=   0.0s\n",
      "[CV] END ......................C=100, gamma=0.01, kernel=rbf; total time=   0.0s\n",
      "[CV] END ......................C=100, gamma=0.01, kernel=rbf; total time=   0.0s\n",
      "[CV] END ......................C=100, gamma=0.01, kernel=rbf; total time=   0.0s\n",
      "[CV] END ......................C=100, gamma=0.01, kernel=rbf; total time=   0.0s\n",
      "[CV] END ......................C=100, gamma=0.01, kernel=rbf; total time=   0.0s\n",
      "[CV] END ..................C=100, gamma=0.01, kernel=sigmoid; total time=   0.0s\n",
      "[CV] END ..................C=100, gamma=0.01, kernel=sigmoid; total time=   0.0s\n",
      "[CV] END ..................C=100, gamma=0.01, kernel=sigmoid; total time=   0.0s\n",
      "[CV] END ..................C=100, gamma=0.01, kernel=sigmoid; total time=   0.0s\n",
      "[CV] END ..................C=100, gamma=0.01, kernel=sigmoid; total time=   0.0s\n",
      "[CV] END ....................C=100, gamma=0.1, kernel=linear; total time=   0.0s\n",
      "[CV] END ....................C=100, gamma=0.1, kernel=linear; total time=   0.0s\n",
      "[CV] END ....................C=100, gamma=0.1, kernel=linear; total time=   0.0s\n",
      "[CV] END ....................C=100, gamma=0.1, kernel=linear; total time=   0.0s\n",
      "[CV] END ....................C=100, gamma=0.1, kernel=linear; total time=   0.0s\n",
      "[CV] END .......................C=100, gamma=0.1, kernel=rbf; total time=   0.0s\n",
      "[CV] END .......................C=100, gamma=0.1, kernel=rbf; total time=   0.0s\n",
      "[CV] END .......................C=100, gamma=0.1, kernel=rbf; total time=   0.0s\n",
      "[CV] END .......................C=100, gamma=0.1, kernel=rbf; total time=   0.0s\n",
      "[CV] END .......................C=100, gamma=0.1, kernel=rbf; total time=   0.0s\n",
      "[CV] END ...................C=100, gamma=0.1, kernel=sigmoid; total time=   0.0s\n",
      "[CV] END ...................C=100, gamma=0.1, kernel=sigmoid; total time=   0.0s\n",
      "[CV] END ...................C=100, gamma=0.1, kernel=sigmoid; total time=   0.0s\n",
      "[CV] END ...................C=100, gamma=0.1, kernel=sigmoid; total time=   0.0s\n",
      "[CV] END ...................C=100, gamma=0.1, kernel=sigmoid; total time=   0.0s\n",
      "[CV] END ......................C=100, gamma=1, kernel=linear; total time=   0.0s\n",
      "[CV] END ......................C=100, gamma=1, kernel=linear; total time=   0.0s\n",
      "[CV] END ......................C=100, gamma=1, kernel=linear; total time=   0.0s\n",
      "[CV] END ......................C=100, gamma=1, kernel=linear; total time=   0.0s\n",
      "[CV] END ......................C=100, gamma=1, kernel=linear; total time=   0.0s\n",
      "[CV] END .........................C=100, gamma=1, kernel=rbf; total time=   0.0s\n",
      "[CV] END .........................C=100, gamma=1, kernel=rbf; total time=   0.0s\n",
      "[CV] END .........................C=100, gamma=1, kernel=rbf; total time=   0.0s\n",
      "[CV] END .........................C=100, gamma=1, kernel=rbf; total time=   0.0s\n",
      "[CV] END .........................C=100, gamma=1, kernel=rbf; total time=   0.0s\n",
      "[CV] END .....................C=100, gamma=1, kernel=sigmoid; total time=   0.0s\n",
      "[CV] END .....................C=100, gamma=1, kernel=sigmoid; total time=   0.0s\n",
      "[CV] END .....................C=100, gamma=1, kernel=sigmoid; total time=   0.0s\n",
      "[CV] END .....................C=100, gamma=1, kernel=sigmoid; total time=   0.0s\n",
      "[CV] END .....................C=100, gamma=1, kernel=sigmoid; total time=   0.0s\n",
      "[CV] END .....................C=100, gamma=10, kernel=linear; total time=   0.0s\n",
      "[CV] END .....................C=100, gamma=10, kernel=linear; total time=   0.0s\n",
      "[CV] END .....................C=100, gamma=10, kernel=linear; total time=   0.0s\n",
      "[CV] END .....................C=100, gamma=10, kernel=linear; total time=   0.0s\n",
      "[CV] END .....................C=100, gamma=10, kernel=linear; total time=   0.0s\n",
      "[CV] END ........................C=100, gamma=10, kernel=rbf; total time=   0.0s\n",
      "[CV] END ........................C=100, gamma=10, kernel=rbf; total time=   0.0s\n",
      "[CV] END ........................C=100, gamma=10, kernel=rbf; total time=   0.0s\n",
      "[CV] END ........................C=100, gamma=10, kernel=rbf; total time=   0.0s\n",
      "[CV] END ........................C=100, gamma=10, kernel=rbf; total time=   0.0s\n",
      "[CV] END ....................C=100, gamma=10, kernel=sigmoid; total time=   0.0s\n",
      "[CV] END ....................C=100, gamma=10, kernel=sigmoid; total time=   0.0s\n",
      "[CV] END ....................C=100, gamma=10, kernel=sigmoid; total time=   0.0s\n",
      "[CV] END ....................C=100, gamma=10, kernel=sigmoid; total time=   0.0s\n",
      "[CV] END ....................C=100, gamma=10, kernel=sigmoid; total time=   0.0s\n",
      "[CV] END ....................C=100, gamma=100, kernel=linear; total time=   0.0s\n",
      "[CV] END ....................C=100, gamma=100, kernel=linear; total time=   0.0s\n",
      "[CV] END ....................C=100, gamma=100, kernel=linear; total time=   0.0s\n",
      "[CV] END ....................C=100, gamma=100, kernel=linear; total time=   0.0s\n",
      "[CV] END ....................C=100, gamma=100, kernel=linear; total time=   0.0s\n",
      "[CV] END .......................C=100, gamma=100, kernel=rbf; total time=   0.0s\n",
      "[CV] END .......................C=100, gamma=100, kernel=rbf; total time=   0.0s\n",
      "[CV] END .......................C=100, gamma=100, kernel=rbf; total time=   0.0s\n",
      "[CV] END .......................C=100, gamma=100, kernel=rbf; total time=   0.0s\n",
      "[CV] END .......................C=100, gamma=100, kernel=rbf; total time=   0.0s\n",
      "[CV] END ...................C=100, gamma=100, kernel=sigmoid; total time=   0.0s\n",
      "[CV] END ...................C=100, gamma=100, kernel=sigmoid; total time=   0.0s\n",
      "[CV] END ...................C=100, gamma=100, kernel=sigmoid; total time=   0.0s\n",
      "[CV] END ...................C=100, gamma=100, kernel=sigmoid; total time=   0.0s\n",
      "[CV] END ...................C=100, gamma=100, kernel=sigmoid; total time=   0.0s\n",
      "[CV] END ...................C=100, gamma=1000, kernel=linear; total time=   0.0s\n",
      "[CV] END ...................C=100, gamma=1000, kernel=linear; total time=   0.0s\n",
      "[CV] END ...................C=100, gamma=1000, kernel=linear; total time=   0.0s\n",
      "[CV] END ...................C=100, gamma=1000, kernel=linear; total time=   0.0s\n",
      "[CV] END ...................C=100, gamma=1000, kernel=linear; total time=   0.0s\n",
      "[CV] END ......................C=100, gamma=1000, kernel=rbf; total time=   0.0s\n",
      "[CV] END ......................C=100, gamma=1000, kernel=rbf; total time=   0.0s\n",
      "[CV] END ......................C=100, gamma=1000, kernel=rbf; total time=   0.0s\n",
      "[CV] END ......................C=100, gamma=1000, kernel=rbf; total time=   0.0s\n",
      "[CV] END ......................C=100, gamma=1000, kernel=rbf; total time=   0.0s\n",
      "[CV] END ..................C=100, gamma=1000, kernel=sigmoid; total time=   0.0s\n",
      "[CV] END ..................C=100, gamma=1000, kernel=sigmoid; total time=   0.0s\n",
      "[CV] END ..................C=100, gamma=1000, kernel=sigmoid; total time=   0.0s\n",
      "[CV] END ..................C=100, gamma=1000, kernel=sigmoid; total time=   0.0s\n",
      "[CV] END ..................C=100, gamma=1000, kernel=sigmoid; total time=   0.0s\n",
      "[CV] END .................C=1000, gamma=0.001, kernel=linear; total time=   0.0s\n",
      "[CV] END .................C=1000, gamma=0.001, kernel=linear; total time=   0.0s\n",
      "[CV] END .................C=1000, gamma=0.001, kernel=linear; total time=   0.0s\n",
      "[CV] END .................C=1000, gamma=0.001, kernel=linear; total time=   0.0s\n",
      "[CV] END .................C=1000, gamma=0.001, kernel=linear; total time=   0.0s\n",
      "[CV] END ....................C=1000, gamma=0.001, kernel=rbf; total time=   0.0s\n",
      "[CV] END ....................C=1000, gamma=0.001, kernel=rbf; total time=   0.0s\n",
      "[CV] END ....................C=1000, gamma=0.001, kernel=rbf; total time=   0.0s\n",
      "[CV] END ....................C=1000, gamma=0.001, kernel=rbf; total time=   0.0s\n",
      "[CV] END ....................C=1000, gamma=0.001, kernel=rbf; total time=   0.0s\n",
      "[CV] END ................C=1000, gamma=0.001, kernel=sigmoid; total time=   0.0s\n",
      "[CV] END ................C=1000, gamma=0.001, kernel=sigmoid; total time=   0.0s\n",
      "[CV] END ................C=1000, gamma=0.001, kernel=sigmoid; total time=   0.0s\n",
      "[CV] END ................C=1000, gamma=0.001, kernel=sigmoid; total time=   0.0s\n",
      "[CV] END ................C=1000, gamma=0.001, kernel=sigmoid; total time=   0.0s\n",
      "[CV] END ..................C=1000, gamma=0.01, kernel=linear; total time=   0.0s\n",
      "[CV] END ..................C=1000, gamma=0.01, kernel=linear; total time=   0.0s\n",
      "[CV] END ..................C=1000, gamma=0.01, kernel=linear; total time=   0.0s\n",
      "[CV] END ..................C=1000, gamma=0.01, kernel=linear; total time=   0.0s\n",
      "[CV] END ..................C=1000, gamma=0.01, kernel=linear; total time=   0.0s\n",
      "[CV] END .....................C=1000, gamma=0.01, kernel=rbf; total time=   0.0s\n",
      "[CV] END .....................C=1000, gamma=0.01, kernel=rbf; total time=   0.0s\n",
      "[CV] END .....................C=1000, gamma=0.01, kernel=rbf; total time=   0.0s\n",
      "[CV] END .....................C=1000, gamma=0.01, kernel=rbf; total time=   0.0s\n",
      "[CV] END .....................C=1000, gamma=0.01, kernel=rbf; total time=   0.0s\n",
      "[CV] END .................C=1000, gamma=0.01, kernel=sigmoid; total time=   0.0s\n",
      "[CV] END .................C=1000, gamma=0.01, kernel=sigmoid; total time=   0.0s\n",
      "[CV] END .................C=1000, gamma=0.01, kernel=sigmoid; total time=   0.0s\n",
      "[CV] END .................C=1000, gamma=0.01, kernel=sigmoid; total time=   0.0s\n",
      "[CV] END .................C=1000, gamma=0.01, kernel=sigmoid; total time=   0.0s\n",
      "[CV] END ...................C=1000, gamma=0.1, kernel=linear; total time=   0.0s\n",
      "[CV] END ...................C=1000, gamma=0.1, kernel=linear; total time=   0.0s\n",
      "[CV] END ...................C=1000, gamma=0.1, kernel=linear; total time=   0.0s\n",
      "[CV] END ...................C=1000, gamma=0.1, kernel=linear; total time=   0.0s\n",
      "[CV] END ...................C=1000, gamma=0.1, kernel=linear; total time=   0.0s\n",
      "[CV] END ......................C=1000, gamma=0.1, kernel=rbf; total time=   0.0s\n",
      "[CV] END ......................C=1000, gamma=0.1, kernel=rbf; total time=   0.0s\n",
      "[CV] END ......................C=1000, gamma=0.1, kernel=rbf; total time=   0.0s\n",
      "[CV] END ......................C=1000, gamma=0.1, kernel=rbf; total time=   0.0s\n",
      "[CV] END ......................C=1000, gamma=0.1, kernel=rbf; total time=   0.0s\n",
      "[CV] END ..................C=1000, gamma=0.1, kernel=sigmoid; total time=   0.0s\n",
      "[CV] END ..................C=1000, gamma=0.1, kernel=sigmoid; total time=   0.0s\n",
      "[CV] END ..................C=1000, gamma=0.1, kernel=sigmoid; total time=   0.0s\n",
      "[CV] END ..................C=1000, gamma=0.1, kernel=sigmoid; total time=   0.0s\n",
      "[CV] END ..................C=1000, gamma=0.1, kernel=sigmoid; total time=   0.0s\n",
      "[CV] END .....................C=1000, gamma=1, kernel=linear; total time=   0.0s\n",
      "[CV] END .....................C=1000, gamma=1, kernel=linear; total time=   0.0s\n",
      "[CV] END .....................C=1000, gamma=1, kernel=linear; total time=   0.0s\n",
      "[CV] END .....................C=1000, gamma=1, kernel=linear; total time=   0.0s\n",
      "[CV] END .....................C=1000, gamma=1, kernel=linear; total time=   0.0s\n",
      "[CV] END ........................C=1000, gamma=1, kernel=rbf; total time=   0.0s\n",
      "[CV] END ........................C=1000, gamma=1, kernel=rbf; total time=   0.0s\n",
      "[CV] END ........................C=1000, gamma=1, kernel=rbf; total time=   0.0s\n",
      "[CV] END ........................C=1000, gamma=1, kernel=rbf; total time=   0.0s\n",
      "[CV] END ........................C=1000, gamma=1, kernel=rbf; total time=   0.0s\n",
      "[CV] END ....................C=1000, gamma=1, kernel=sigmoid; total time=   0.0s\n",
      "[CV] END ....................C=1000, gamma=1, kernel=sigmoid; total time=   0.0s\n",
      "[CV] END ....................C=1000, gamma=1, kernel=sigmoid; total time=   0.0s\n",
      "[CV] END ....................C=1000, gamma=1, kernel=sigmoid; total time=   0.0s\n",
      "[CV] END ....................C=1000, gamma=1, kernel=sigmoid; total time=   0.0s\n",
      "[CV] END ....................C=1000, gamma=10, kernel=linear; total time=   0.0s\n",
      "[CV] END ....................C=1000, gamma=10, kernel=linear; total time=   0.0s\n",
      "[CV] END ....................C=1000, gamma=10, kernel=linear; total time=   0.0s\n",
      "[CV] END ....................C=1000, gamma=10, kernel=linear; total time=   0.0s\n",
      "[CV] END ....................C=1000, gamma=10, kernel=linear; total time=   0.0s\n",
      "[CV] END .......................C=1000, gamma=10, kernel=rbf; total time=   0.0s\n",
      "[CV] END .......................C=1000, gamma=10, kernel=rbf; total time=   0.0s\n",
      "[CV] END .......................C=1000, gamma=10, kernel=rbf; total time=   0.0s\n",
      "[CV] END .......................C=1000, gamma=10, kernel=rbf; total time=   0.0s\n",
      "[CV] END .......................C=1000, gamma=10, kernel=rbf; total time=   0.0s\n",
      "[CV] END ...................C=1000, gamma=10, kernel=sigmoid; total time=   0.0s\n",
      "[CV] END ...................C=1000, gamma=10, kernel=sigmoid; total time=   0.0s\n",
      "[CV] END ...................C=1000, gamma=10, kernel=sigmoid; total time=   0.0s\n",
      "[CV] END ...................C=1000, gamma=10, kernel=sigmoid; total time=   0.0s\n",
      "[CV] END ...................C=1000, gamma=10, kernel=sigmoid; total time=   0.0s\n",
      "[CV] END ...................C=1000, gamma=100, kernel=linear; total time=   0.0s\n",
      "[CV] END ...................C=1000, gamma=100, kernel=linear; total time=   0.0s\n",
      "[CV] END ...................C=1000, gamma=100, kernel=linear; total time=   0.0s\n",
      "[CV] END ...................C=1000, gamma=100, kernel=linear; total time=   0.0s\n",
      "[CV] END ...................C=1000, gamma=100, kernel=linear; total time=   0.0s\n",
      "[CV] END ......................C=1000, gamma=100, kernel=rbf; total time=   0.0s\n",
      "[CV] END ......................C=1000, gamma=100, kernel=rbf; total time=   0.0s\n",
      "[CV] END ......................C=1000, gamma=100, kernel=rbf; total time=   0.0s\n",
      "[CV] END ......................C=1000, gamma=100, kernel=rbf; total time=   0.0s\n",
      "[CV] END ......................C=1000, gamma=100, kernel=rbf; total time=   0.0s\n",
      "[CV] END ..................C=1000, gamma=100, kernel=sigmoid; total time=   0.0s\n",
      "[CV] END ..................C=1000, gamma=100, kernel=sigmoid; total time=   0.0s\n",
      "[CV] END ..................C=1000, gamma=100, kernel=sigmoid; total time=   0.0s\n",
      "[CV] END ..................C=1000, gamma=100, kernel=sigmoid; total time=   0.0s\n",
      "[CV] END ..................C=1000, gamma=100, kernel=sigmoid; total time=   0.0s\n",
      "[CV] END ..................C=1000, gamma=1000, kernel=linear; total time=   0.0s\n",
      "[CV] END ..................C=1000, gamma=1000, kernel=linear; total time=   0.0s\n",
      "[CV] END ..................C=1000, gamma=1000, kernel=linear; total time=   0.0s\n",
      "[CV] END ..................C=1000, gamma=1000, kernel=linear; total time=   0.0s\n",
      "[CV] END ..................C=1000, gamma=1000, kernel=linear; total time=   0.0s\n",
      "[CV] END .....................C=1000, gamma=1000, kernel=rbf; total time=   0.0s\n",
      "[CV] END .....................C=1000, gamma=1000, kernel=rbf; total time=   0.0s\n",
      "[CV] END .....................C=1000, gamma=1000, kernel=rbf; total time=   0.0s\n",
      "[CV] END .....................C=1000, gamma=1000, kernel=rbf; total time=   0.0s\n",
      "[CV] END .....................C=1000, gamma=1000, kernel=rbf; total time=   0.0s\n",
      "[CV] END .................C=1000, gamma=1000, kernel=sigmoid; total time=   0.0s\n",
      "[CV] END .................C=1000, gamma=1000, kernel=sigmoid; total time=   0.0s\n",
      "[CV] END .................C=1000, gamma=1000, kernel=sigmoid; total time=   0.0s\n",
      "[CV] END .................C=1000, gamma=1000, kernel=sigmoid; total time=   0.0s\n",
      "[CV] END .................C=1000, gamma=1000, kernel=sigmoid; total time=   0.0s\n"
     ],
     "output_type":"stream"
    },
    {
     "data":{
      "text\/plain":[
       "GridSearchCV(estimator=SVC(),\n",
       "             param_grid={'C': [0.001, 0.01, 0.1, 1, 10, 100, 1000],\n",
       "                         'gamma': [0.001, 0.01, 0.1, 1, 10, 100, 1000],\n",
       "                         'kernel': ['linear', 'rbf', 'sigmoid']},\n",
       "             verbose=2)"
      ]
     },
     "metadata":{
      
     },
     "output_type":"display_data"
    }
   ],
   "metadata":{
    "datalore":{
     "type":"CODE",
     "hide_input_from_viewers":false,
     "hide_output_from_viewers":false
    }
   }
  },
  {
   "cell_type":"code",
   "source":[
    "grid.best_estimator_"
   ],
   "execution_count":17,
   "outputs":[
    {
     "data":{
      "text\/plain":[
       "SVC(C=0.001, gamma=0.001, kernel='linear')"
      ]
     },
     "metadata":{
      
     },
     "output_type":"display_data"
    }
   ],
   "metadata":{
    "datalore":{
     "type":"CODE",
     "hide_input_from_viewers":false,
     "hide_output_from_viewers":false
    }
   }
  },
  {
   "cell_type":"code",
   "source":[
    "grid.best_score_"
   ],
   "execution_count":18,
   "outputs":[
    {
     "data":{
      "text\/plain":[
       "0.9666666666666668"
      ]
     },
     "metadata":{
      
     },
     "output_type":"display_data"
    }
   ],
   "metadata":{
    "datalore":{
     "type":"CODE",
     "hide_input_from_viewers":false,
     "hide_output_from_viewers":false
    }
   }
  },
  {
   "cell_type":"code",
   "source":[
    "X=iris.data[:,0:2]\n",
    "Y=iris.target"
   ],
   "execution_count":19,
   "outputs":[
    
   ],
   "metadata":{
    "datalore":{
     "type":"CODE",
     "hide_input_from_viewers":false,
     "hide_output_from_viewers":false
    }
   }
  },
  {
   "cell_type":"code",
   "source":[
    "x_min, x_max = X[:, 0].min() - 1, X[:, 0].max() + 1\n",
    "y_min, y_max = X[:, 1].min() - 1, X[:, 1].max() + 1\n",
    "h = (x_max - x_min) \/ 100\n",
    "xx, yy = np.meshgrid(np.arange(x_min, x_max, h), np.arange(y_min, y_max, h))\n",
    "x_plot = np.c_[xx.ravel(), yy.ravel()]\n",
    "svc=SVC(kernel='linear', C=0.001, gamma=0.001,decision_function_shape='ovr').fit(X,Y)\n",
    "Ypred=svc.predict(x_plot)\n",
    "Ypred=Ypred.reshape(xx.shape)\n",
    "plt.figure(figsize=(16,9))\n",
    "plt.contourf(xx, yy, Ypred, cmap=plt.cm.Paired, alpha=0.3)\n",
    "plt.scatter(X[:, 0], X[:, 1], c=Y, cmap=plt.cm.Paired)\n",
    "plt.xlabel('Longitud Sépalo')\n",
    "plt.ylabel('Ancho Sépalo')\n",
    "plt.xlim(xx.min(), xx.max())\n",
    "plt.title('SVC')\n",
    "plt.show()"
   ],
   "execution_count":23,
   "outputs":[
    {
     "data":{
      "image\/png":"[encoded data removed]"
     },
     "metadata":{
      "image\/png":{
       
      }
     },
     "output_type":"display_data"
    }
   ],
   "metadata":{
    "datalore":{
     "type":"CODE",
     "hide_input_from_viewers":false,
     "hide_output_from_viewers":false
    }
   }
  }
 ],
 "metadata":{
  "datalore":{
   "version":1,
   "computation_mode":"JUPYTER",
   "package_manager":"pip",
   "base_environment":"default",
   "packages":[
    
   ]
  }
 },
 "nbformat":4,
 "nbformat_minor":4
}