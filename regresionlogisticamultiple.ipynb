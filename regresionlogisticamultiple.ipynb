{
 "cells":[
  {
   "cell_type":"code",
   "source":[
    "import pandas as pd\n",
    "import numpy as np\n",
    "from sklearn import linear_model"
   ],
   "execution_count":1,
   "outputs":[
    
   ],
   "metadata":{
    "datalore":{
     "type":"CODE",
     "hide_input_from_viewers":false,
     "hide_output_from_viewers":false
    }
   }
  },
  {
   "cell_type":"markdown",
   "source":[
    "Un estudio considera que existe relación entre el hecho de que un estudiante asista a clases de repaso de lectura (sí = 1, no = 0), la nota que obtiene en un examen de lectura estándar (realizado antes de iniciar las clases de repaso) y el sexo (hombre = 1, mujer = 0). Se quiere generar un modelo en el que a partir de las variables puntuación del examen y sexo, prediga la probabilidad de que el estudiante tenga que asistir a clases de repaso."
   ],
   "attachments":{
    
   },
   "metadata":{
    "datalore":{
     "type":"MD",
     "hide_input_from_viewers":false,
     "hide_output_from_viewers":false
    }
   }
  },
  {
   "cell_type":"code",
   "source":[
    "sexo = np.array([\"hombre\", \"hombre\", \"mujer\", \"mujer\", \"mujer\", \"hombre\",\n",
    "                             \"mujer\", \"hombre\", \"mujer\", \"mujer\", \"hombre\", \"hombre\",\n",
    "                             \"hombre\", \"hombre\", \"mujer\", \"mujer\", \"hombre\", \"mujer\",\n",
    "                             \"hombre\", \"mujer\", \"hombre\", \"mujer\", \"mujer\", \"hombre\",\n",
    "                             \"hombre\", \"mujer\", \"mujer\", \"mujer\", \"hombre\", \"hombre\",\n",
    "                             \"hombre\", \"mujer\", \"hombre\", \"mujer\", \"hombre\", \"mujer\",\n",
    "                             \"mujer\", \"mujer\", \"mujer\", \"mujer\", \"hombre\", \"mujer\",\n",
    "                             \"hombre\", \"mujer\", \"mujer\", \"mujer\", \"mujer\", \"hombre\",\n",
    "                             \"mujer\", \"hombre\", \"mujer\", \"hombre\", \"mujer\", \"mujer\",\n",
    "                             \"hombre\", \"hombre\", \"hombre\", \"hombre\", \"hombre\", \"hombre\",\n",
    "                             \"hombre\", \"hombre\", \"hombre\", \"mujer\", \"hombre\", \"hombre\",\n",
    "                             \"hombre\", \"hombre\", \"mujer\", \"hombre\", \"mujer\", \"hombre\",\n",
    "                             \"hombre\", \"hombre\", \"mujer\", \"hombre\", \"mujer\", \"mujer\",\n",
    "                             \"hombre\", \"mujer\", \"mujer\", \"mujer\", \"hombre\", \"hombre\",\n",
    "                             \"hombre\", \"hombre\", \"hombre\", \"mujer\", \"mujer\", \"mujer\",\n",
    "                             \"mujer\", \"hombre\", \"mujer\", \"mujer\", \"mujer\", \"mujer\",\n",
    "                             \"mujer\", \"mujer\", \"mujer\", \"mujer\",\"mujer\", \"mujer\",\n",
    "                             \"hombre\", \"mujer\", \"hombre\", \"hombre\", \"mujer\", \"mujer\",\n",
    "                             \"mujer\", \"hombre\",\"mujer\", \"hombre\", \"mujer\", \"mujer\",\n",
    "                             \"mujer\", \"hombre\", \"mujer\", \"hombre\", \"mujer\", \"hombre\",\n",
    "                             \"mujer\", \"hombre\", \"mujer\", \"mujer\", \"mujer\", \"mujer\",\n",
    "                             \"mujer\", \"mujer\", \"mujer\", \"mujer\", \"hombre\", \"mujer\",\n",
    "                             \"hombre\", \"hombre\", \"hombre\", \"hombre\", \"hombre\", \"hombre\",\n",
    "                             \"hombre\", \"mujer\",\"mujer\", \"mujer\", \"hombre\", \"hombre\",\n",
    "                             \"mujer\", \"mujer\", \"hombre\", \"mujer\", \"hombre\", \"hombre\",\n",
    "                             \"hombre\", \"mujer\", \"mujer\", \"mujer\", \"mujer\", \"hombre\",\n",
    "                             \"hombre\", \"mujer\", \"hombre\", \"hombre\", \"mujer\", \"hombre\",\n",
    "                             \"hombre\", \"hombre\", \"hombre\", \"mujer\", \"hombre\", \"hombre\",\n",
    "                             \"mujer\", \"mujer\", \"hombre\", \"hombre\", \"hombre\", \"hombre\",\n",
    "                             \"hombre\", \"mujer\", \"mujer\", \"mujer\", \"mujer\", \"hombre\",\n",
    "                             \"hombre\", \"hombre\", \"mujer\", \"hombre\", \"mujer\", \"hombre\",\n",
    "                             \"hombre\", \"hombre\", \"mujer\"])\n",
    "\n",
    "examen_lectura = np.array([91, 77.5, 52.5, 54, 53.5, 62, 59, 51.5,\n",
    "                                       61.5, 56.5, 47.5, 75, 47.5, 53.5, 50, 50,\n",
    "                                       49, 59, 60, 60, 60.5, 50, 101, 60, 60,\n",
    "                                       83.5, 61, 75, 84, 56.5, 56.5, 45, 60.5,\n",
    "                                       77.5, 62.5, 70, 69, 62, 107.5, 54.5, 92.5,\n",
    "                                       94.5, 65, 80, 45, 45, 66, 66, 57.5, 42.5,\n",
    "                                       60, 64, 65, 47.5, 57.5, 55, 55, 76.5,\n",
    "                                       51.5, 59.5, 59.5, 59.5, 55, 70, 66.5,\n",
    "                                       84.5, 57.5, 125, 70.5, 79, 56, 75, 57.5,\n",
    "                                       56, 67.5, 114.5, 70, 67, 60.5, 95, 65.5,\n",
    "                                       85, 55, 63.5, 61.5, 60, 52.5, 65, 87.5,\n",
    "                                       62.5, 66.5, 67, 117.5, 47.5, 67.5, 67.5,\n",
    "                                       77, 73.5, 73.5, 68.5, 55, 92, 55, 55, 60,\n",
    "                                       120.5, 56, 84.5, 60, 85, 93, 60, 65, 58.5,\n",
    "                                       85, 67, 67.5, 65, 60, 47.5, 79, 80, 57.5,\n",
    "                                       64.5, 65, 60, 85, 60, 58, 61.5, 60, 65,\n",
    "                                       93.5, 52.5, 42.5, 75, 48.5, 64, 66, 82.5,\n",
    "                                       52.5, 45.5, 57.5, 65, 46, 75, 100, 77.5,\n",
    "                                       51.5, 62.5, 44.5, 51, 56, 58.5, 69, 65,\n",
    "                                       60, 65, 65, 40, 55, 52.5, 54.5, 74, 55,\n",
    "                                       60.5, 50, 48, 51, 55, 93.5, 61, 52.5,\n",
    "                                       57.5, 60, 71, 65, 60, 55, 60, 77, 52.5,\n",
    "                                       95, 50, 47.5, 50, 47, 71, 65])\n",
    "\n",
    "clases_repaso = np.array([\"0\", \"0\", \"0\", \"0\", \"0\", \"0\", \"0\", \"0\",\n",
    "                                      \"0\", \"0\", \"0\", \"0\", \"0\", \"0\", \"0\", \"0\",\n",
    "                                      \"0\", \"0\", \"0\", \"0\", \"0\", \"0\", \"0\", \"0\",\n",
    "                                      \"0\", \"0\", \"0\", \"0\", \"0\", \"0\", \"0\", \"0\",\n",
    "                                      \"0\", \"0\", \"0\", \"0\", \"0\", \"0\", \"0\", \"0\",\n",
    "                                      \"0\", \"0\", \"0\", \"0\", \"0\", \"0\", \"0\", \"0\",\n",
    "                                      \"0\", \"0\", \"0\", \"0\", \"0\", \"0\", \"0\", \"0\",\n",
    "                                      \"0\", \"0\", \"0\", \"0\", \"0\", \"0\", \"0\", \"0\",\n",
    "                                      \"0\", \"0\", \"0\", \"0\", \"0\", \"0\", \"0\", \"0\",\n",
    "                                      \"0\", \"0\", \"0\", \"0\", \"0\", \"0\", \"0\", \"0\",\n",
    "                                      \"0\", \"0\", \"0\", \"0\", \"0\", \"0\", \"0\", \"0\",\n",
    "                                      \"0\", \"0\", \"0\", \"0\", \"0\", \"0\", \"0\", \"0\",\n",
    "                                      \"0\", \"0\", \"0\", \"0\", \"0\", \"0\", \"0\", \"0\",\n",
    "                                      \"0\", \"0\", \"0\", \"0\", \"0\", \"0\", \"0\", \"0\",\n",
    "                                      \"0\", \"0\", \"0\", \"0\", \"0\", \"0\", \"0\", \"0\",\n",
    "                                      \"0\", \"0\", \"0\", \"0\", \"0\", \"0\", \"0\", \"0\",\n",
    "                                      \"0\", \"0\", \"1\", \"1\", \"1\", \"1\", \"1\", \"1\",\n",
    "                                      \"1\", \"1\", \"1\", \"1\", \"1\", \"1\", \"1\", \"1\",\n",
    "                                      \"1\", \"1\", \"1\", \"1\", \"1\", \"1\", \"1\", \"1\",\n",
    "                                      \"1\", \"1\", \"1\", \"1\", \"1\", \"1\", \"1\", \"1\",\n",
    "                                      \"1\", \"1\", \"1\", \"1\", \"1\", \"1\", \"1\", \"1\",\n",
    "                                      \"1\", \"1\", \"1\", \"1\", \"1\", \"1\", \"1\", \"1\",\n",
    "                                      \"1\", \"1\", \"1\", \"1\", \"1\", \"1\", \"1\", \"1\",\n",
    "                                      \"1\", \"1\", \"1\", \"1\", \"1\"])\n",
    "\n",
    "datos = pd.DataFrame({'repaso':clases_repaso, 'examen_lectura': examen_lectura,'sexo':sexo})"
   ],
   "execution_count":3,
   "outputs":[
    
   ],
   "metadata":{
    "datalore":{
     "type":"CODE",
     "hide_input_from_viewers":false,
     "hide_output_from_viewers":false
    }
   }
  },
  {
   "cell_type":"code",
   "source":[
    "datos.head(5)"
   ],
   "execution_count":6,
   "outputs":[
    {
     "data":{
      "text\/html":[
       "<div>\n",
       "<style scoped>\n",
       "    .dataframe tbody tr th:only-of-type {\n",
       "        vertical-align: middle;\n",
       "    }\n",
       "\n",
       "    .dataframe tbody tr th {\n",
       "        vertical-align: top;\n",
       "    }\n",
       "\n",
       "    .dataframe thead th {\n",
       "        text-align: right;\n",
       "    }\n",
       "<\/style>\n",
       "<table border=\"1\" class=\"dataframe\">\n",
       "  <thead>\n",
       "    <tr style=\"text-align: right;\">\n",
       "      <th><\/th>\n",
       "      <th>repaso<\/th>\n",
       "      <th>examen_lectura<\/th>\n",
       "      <th>sexo<\/th>\n",
       "    <\/tr>\n",
       "  <\/thead>\n",
       "  <tbody>\n",
       "    <tr>\n",
       "      <th>0<\/th>\n",
       "      <td>0<\/td>\n",
       "      <td>91.0<\/td>\n",
       "      <td>hombre<\/td>\n",
       "    <\/tr>\n",
       "    <tr>\n",
       "      <th>1<\/th>\n",
       "      <td>0<\/td>\n",
       "      <td>77.5<\/td>\n",
       "      <td>hombre<\/td>\n",
       "    <\/tr>\n",
       "    <tr>\n",
       "      <th>2<\/th>\n",
       "      <td>0<\/td>\n",
       "      <td>52.5<\/td>\n",
       "      <td>mujer<\/td>\n",
       "    <\/tr>\n",
       "    <tr>\n",
       "      <th>3<\/th>\n",
       "      <td>0<\/td>\n",
       "      <td>54.0<\/td>\n",
       "      <td>mujer<\/td>\n",
       "    <\/tr>\n",
       "    <tr>\n",
       "      <th>4<\/th>\n",
       "      <td>0<\/td>\n",
       "      <td>53.5<\/td>\n",
       "      <td>mujer<\/td>\n",
       "    <\/tr>\n",
       "  <\/tbody>\n",
       "<\/table>\n",
       "<\/div>"
      ]
     },
     "metadata":{
      
     },
     "output_type":"display_data"
    }
   ],
   "metadata":{
    "datalore":{
     "type":"CODE",
     "hide_input_from_viewers":false,
     "hide_output_from_viewers":false
    }
   }
  },
  {
   "cell_type":"code",
   "source":[
    "dummy_sexo = pd.get_dummies(datos[\"sexo\"], prefix = \"sexo\").iloc[:,1:]\n",
    "dummy_sexo.head()"
   ],
   "execution_count":5,
   "outputs":[
    {
     "data":{
      "text\/html":[
       "<div>\n",
       "<style scoped>\n",
       "    .dataframe tbody tr th:only-of-type {\n",
       "        vertical-align: middle;\n",
       "    }\n",
       "\n",
       "    .dataframe tbody tr th {\n",
       "        vertical-align: top;\n",
       "    }\n",
       "\n",
       "    .dataframe thead th {\n",
       "        text-align: right;\n",
       "    }\n",
       "<\/style>\n",
       "<table border=\"1\" class=\"dataframe\">\n",
       "  <thead>\n",
       "    <tr style=\"text-align: right;\">\n",
       "      <th><\/th>\n",
       "      <th>sexo_mujer<\/th>\n",
       "    <\/tr>\n",
       "  <\/thead>\n",
       "  <tbody>\n",
       "    <tr>\n",
       "      <th>0<\/th>\n",
       "      <td>0<\/td>\n",
       "    <\/tr>\n",
       "    <tr>\n",
       "      <th>1<\/th>\n",
       "      <td>0<\/td>\n",
       "    <\/tr>\n",
       "    <tr>\n",
       "      <th>2<\/th>\n",
       "      <td>1<\/td>\n",
       "    <\/tr>\n",
       "    <tr>\n",
       "      <th>3<\/th>\n",
       "      <td>1<\/td>\n",
       "    <\/tr>\n",
       "    <tr>\n",
       "      <th>4<\/th>\n",
       "      <td>1<\/td>\n",
       "    <\/tr>\n",
       "  <\/tbody>\n",
       "<\/table>\n",
       "<\/div>"
      ]
     },
     "metadata":{
      
     },
     "output_type":"display_data"
    }
   ],
   "metadata":{
    "datalore":{
     "type":"CODE",
     "hide_input_from_viewers":false,
     "hide_output_from_viewers":false
    }
   }
  },
  {
   "cell_type":"code",
   "source":[
    "column_names = datos.columns.values.tolist()\n",
    "datos2 = datos[column_names].join(dummy_sexo)\n",
    "datos2.head()"
   ],
   "execution_count":7,
   "outputs":[
    {
     "data":{
      "text\/html":[
       "<div>\n",
       "<style scoped>\n",
       "    .dataframe tbody tr th:only-of-type {\n",
       "        vertical-align: middle;\n",
       "    }\n",
       "\n",
       "    .dataframe tbody tr th {\n",
       "        vertical-align: top;\n",
       "    }\n",
       "\n",
       "    .dataframe thead th {\n",
       "        text-align: right;\n",
       "    }\n",
       "<\/style>\n",
       "<table border=\"1\" class=\"dataframe\">\n",
       "  <thead>\n",
       "    <tr style=\"text-align: right;\">\n",
       "      <th><\/th>\n",
       "      <th>repaso<\/th>\n",
       "      <th>examen_lectura<\/th>\n",
       "      <th>sexo<\/th>\n",
       "      <th>sexo_mujer<\/th>\n",
       "    <\/tr>\n",
       "  <\/thead>\n",
       "  <tbody>\n",
       "    <tr>\n",
       "      <th>0<\/th>\n",
       "      <td>0<\/td>\n",
       "      <td>91.0<\/td>\n",
       "      <td>hombre<\/td>\n",
       "      <td>0<\/td>\n",
       "    <\/tr>\n",
       "    <tr>\n",
       "      <th>1<\/th>\n",
       "      <td>0<\/td>\n",
       "      <td>77.5<\/td>\n",
       "      <td>hombre<\/td>\n",
       "      <td>0<\/td>\n",
       "    <\/tr>\n",
       "    <tr>\n",
       "      <th>2<\/th>\n",
       "      <td>0<\/td>\n",
       "      <td>52.5<\/td>\n",
       "      <td>mujer<\/td>\n",
       "      <td>1<\/td>\n",
       "    <\/tr>\n",
       "    <tr>\n",
       "      <th>3<\/th>\n",
       "      <td>0<\/td>\n",
       "      <td>54.0<\/td>\n",
       "      <td>mujer<\/td>\n",
       "      <td>1<\/td>\n",
       "    <\/tr>\n",
       "    <tr>\n",
       "      <th>4<\/th>\n",
       "      <td>0<\/td>\n",
       "      <td>53.5<\/td>\n",
       "      <td>mujer<\/td>\n",
       "      <td>1<\/td>\n",
       "    <\/tr>\n",
       "  <\/tbody>\n",
       "<\/table>\n",
       "<\/div>"
      ]
     },
     "metadata":{
      
     },
     "output_type":"display_data"
    }
   ],
   "metadata":{
    "datalore":{
     "type":"CODE",
     "hide_input_from_viewers":false,
     "hide_output_from_viewers":false
    }
   }
  },
  {
   "cell_type":"code",
   "source":[
    "datos2[\"repaso\"] = pd.to_numeric(datos2[\"repaso\"])"
   ],
   "execution_count":15,
   "outputs":[
    
   ],
   "metadata":{
    "datalore":{
     "type":"CODE",
     "hide_input_from_viewers":false,
     "hide_output_from_viewers":false
    }
   }
  },
  {
   "cell_type":"code",
   "source":[
    "feature_cols = [\"examen_lectura\", \"sexo_mujer\"]\n",
    "X = datos2[feature_cols]\n",
    "Y = datos2[\"repaso\"]"
   ],
   "execution_count":16,
   "outputs":[
    
   ],
   "metadata":{
    "datalore":{
     "type":"CODE",
     "hide_input_from_viewers":false,
     "hide_output_from_viewers":false
    }
   }
  },
  {
   "cell_type":"code",
   "source":[
    "from sklearn.model_selection import train_test_split\n",
    "\n",
    "X_train, X_test, Y_train, Y_test = train_test_split(X,Y, test_size = 0.2, random_state = 0)"
   ],
   "execution_count":17,
   "outputs":[
    
   ],
   "metadata":{
    "datalore":{
     "type":"CODE",
     "hide_input_from_viewers":false,
     "hide_output_from_viewers":false
    }
   }
  },
  {
   "cell_type":"code",
   "source":[
    "import statsmodels.api as sm"
   ],
   "execution_count":18,
   "outputs":[
    
   ],
   "metadata":{
    "datalore":{
     "type":"CODE",
     "hide_input_from_viewers":false,
     "hide_output_from_viewers":false
    }
   }
  },
  {
   "cell_type":"code",
   "source":[
    "logit_model = sm.Logit(Y_train, X_train)\n",
    "result = logit_model.fit()"
   ],
   "execution_count":19,
   "outputs":[
    {
     "name":"stdout",
     "text":[
      "Optimization terminated successfully.\n",
      "         Current function value: 0.594501\n",
      "         Iterations 5\n"
     ],
     "output_type":"stream"
    }
   ],
   "metadata":{
    "datalore":{
     "type":"CODE",
     "hide_input_from_viewers":false,
     "hide_output_from_viewers":false
    }
   }
  },
  {
   "cell_type":"code",
   "source":[
    "result.summary2()"
   ],
   "execution_count":20,
   "outputs":[
    {
     "data":{
      "text\/html":[
       "<table class=\"simpletable\">\n",
       "<tr>\n",
       "        <td>Model:<\/td>              <td>Logit<\/td>      <td>Pseudo R-squared:<\/td>   <td>0.024<\/td> \n",
       "<\/tr>\n",
       "<tr>\n",
       "  <td>Dependent Variable:<\/td>      <td>repaso<\/td>            <td>AIC:<\/td>        <td>183.5393<\/td>\n",
       "<\/tr>\n",
       "<tr>\n",
       "         <td>Date:<\/td>        <td>2022-06-03 09:23<\/td>       <td>BIC:<\/td>        <td>189.5739<\/td>\n",
       "<\/tr>\n",
       "<tr>\n",
       "   <td>No. Observations:<\/td>         <td>151<\/td>        <td>Log-Likelihood:<\/td>   <td>-89.770<\/td>\n",
       "<\/tr>\n",
       "<tr>\n",
       "       <td>Df Model:<\/td>              <td>1<\/td>            <td>LL-Null:<\/td>       <td>-91.985<\/td>\n",
       "<\/tr>\n",
       "<tr>\n",
       "     <td>Df Residuals:<\/td>           <td>149<\/td>         <td>LLR p-value:<\/td>    <td>0.035303<\/td>\n",
       "<\/tr>\n",
       "<tr>\n",
       "      <td>Converged:<\/td>           <td>1.0000<\/td>           <td>Scale:<\/td>        <td>1.0000<\/td> \n",
       "<\/tr>\n",
       "<tr>\n",
       "    <td>No. Iterations:<\/td>        <td>5.0000<\/td>              <td><\/td>              <td><\/td>    \n",
       "<\/tr>\n",
       "<\/table>\n",
       "<table class=\"simpletable\">\n",
       "<tr>\n",
       "         <td><\/td>         <th>Coef.<\/th>  <th>Std.Err.<\/th>    <th>z<\/th>     <th>P>|z|<\/th> <th>[0.025<\/th>  <th>0.975]<\/th> \n",
       "<\/tr>\n",
       "<tr>\n",
       "  <th>examen_lectura<\/th> <td>-0.0111<\/td>  <td>0.0037<\/td>  <td>-3.0178<\/td> <td>0.0025<\/td> <td>-0.0183<\/td> <td>-0.0039<\/td>\n",
       "<\/tr>\n",
       "<tr>\n",
       "  <th>sexo_mujer<\/th>     <td>-0.3633<\/td>  <td>0.3588<\/td>  <td>-1.0126<\/td> <td>0.3112<\/td> <td>-1.0665<\/td> <td>0.3399<\/td> \n",
       "<\/tr>\n",
       "<\/table>"
      ]
     },
     "metadata":{
      
     },
     "output_type":"display_data"
    }
   ],
   "metadata":{
    "datalore":{
     "type":"CODE",
     "hide_input_from_viewers":false,
     "hide_output_from_viewers":false
    }
   }
  },
  {
   "cell_type":"code",
   "source":[
    "logit_model = linear_model.LogisticRegression()\n",
    "logit_model.fit(X_train,Y_train)"
   ],
   "execution_count":21,
   "outputs":[
    {
     "data":{
      "text\/plain":[
       "LogisticRegression()"
      ]
     },
     "metadata":{
      
     },
     "output_type":"display_data"
    }
   ],
   "metadata":{
    "datalore":{
     "type":"CODE",
     "hide_input_from_viewers":false,
     "hide_output_from_viewers":false
    }
   }
  },
  {
   "cell_type":"code",
   "source":[
    "logit_model.score(X_train,Y_train)"
   ],
   "execution_count":22,
   "outputs":[
    {
     "data":{
      "text\/plain":[
       "0.7019867549668874"
      ]
     },
     "metadata":{
      
     },
     "output_type":"display_data"
    }
   ],
   "metadata":{
    "datalore":{
     "type":"CODE",
     "hide_input_from_viewers":false,
     "hide_output_from_viewers":false
    }
   }
  },
  {
   "cell_type":"code",
   "source":[
    "pd.DataFrame(list(zip(X_train.columns, np.transpose(logit_model.coef_))))"
   ],
   "execution_count":24,
   "outputs":[
    {
     "data":{
      "text\/html":[
       "<div>\n",
       "<style scoped>\n",
       "    .dataframe tbody tr th:only-of-type {\n",
       "        vertical-align: middle;\n",
       "    }\n",
       "\n",
       "    .dataframe tbody tr th {\n",
       "        vertical-align: top;\n",
       "    }\n",
       "\n",
       "    .dataframe thead th {\n",
       "        text-align: right;\n",
       "    }\n",
       "<\/style>\n",
       "<table border=\"1\" class=\"dataframe\">\n",
       "  <thead>\n",
       "    <tr style=\"text-align: right;\">\n",
       "      <th><\/th>\n",
       "      <th>0<\/th>\n",
       "      <th>1<\/th>\n",
       "    <\/tr>\n",
       "  <\/thead>\n",
       "  <tbody>\n",
       "    <tr>\n",
       "      <th>0<\/th>\n",
       "      <td>examen_lectura<\/td>\n",
       "      <td>[-0.02499866503501026]<\/td>\n",
       "    <\/tr>\n",
       "    <tr>\n",
       "      <th>1<\/th>\n",
       "      <td>sexo_mujer<\/td>\n",
       "      <td>[-0.3744336768270714]<\/td>\n",
       "    <\/tr>\n",
       "  <\/tbody>\n",
       "<\/table>\n",
       "<\/div>"
      ]
     },
     "metadata":{
      
     },
     "output_type":"display_data"
    }
   ],
   "metadata":{
    "datalore":{
     "type":"CODE",
     "hide_input_from_viewers":false,
     "hide_output_from_viewers":false
    }
   }
  },
  {
   "cell_type":"code",
   "source":[
    "from sklearn import metrics"
   ],
   "execution_count":25,
   "outputs":[
    
   ],
   "metadata":{
    "datalore":{
     "type":"CODE",
     "hide_input_from_viewers":false,
     "hide_output_from_viewers":false
    }
   }
  },
  {
   "cell_type":"code",
   "source":[
    "probs = logit_model.predict_proba(X_test)\n",
    "prob = probs[:,1]\n",
    "probs"
   ],
   "execution_count":26,
   "outputs":[
    {
     "data":{
      "text\/html":[
       
      ]
     },
     "metadata":{
      
     },
     "output_type":"display_data"
    }
   ],
   "metadata":{
    "datalore":{
     "type":"CODE",
     "hide_input_from_viewers":false,
     "hide_output_from_viewers":false
    }
   }
  },
  {
   "cell_type":"code",
   "source":[
    "prediction = logit_model.predict(X_test)\n",
    "prediction"
   ],
   "execution_count":27,
   "outputs":[
    {
     "data":{
      "text\/html":[
       
      ]
     },
     "metadata":{
      
     },
     "output_type":"display_data"
    }
   ],
   "metadata":{
    "datalore":{
     "type":"CODE",
     "hide_input_from_viewers":false,
     "hide_output_from_viewers":false
    }
   }
  },
  {
   "cell_type":"code",
   "source":[
    "metrics.accuracy_score(Y_test, prediction)"
   ],
   "execution_count":28,
   "outputs":[
    {
     "data":{
      "text\/plain":[
       "0.631578947368421"
      ]
     },
     "metadata":{
      
     },
     "output_type":"display_data"
    }
   ],
   "metadata":{
    "datalore":{
     "type":"CODE",
     "hide_input_from_viewers":false,
     "hide_output_from_viewers":false
    }
   }
  },
  {
   "cell_type":"code",
   "source":[
    "espc_1, sensit, _ = metrics.roc_curve(Y_test, prob)"
   ],
   "execution_count":31,
   "outputs":[
    
   ],
   "metadata":{
    "datalore":{
     "type":"CODE",
     "hide_input_from_viewers":false,
     "hide_output_from_viewers":false
    }
   }
  },
  {
   "cell_type":"code",
   "source":[
    "df = pd.DataFrame({\n",
    "    'esp':espc_1,\n",
    "    'sens':sensit\n",
    "})\n",
    "df.head()"
   ],
   "execution_count":32,
   "outputs":[
    {
     "data":{
      "text\/html":[
       "<div>\n",
       "<style scoped>\n",
       "    .dataframe tbody tr th:only-of-type {\n",
       "        vertical-align: middle;\n",
       "    }\n",
       "\n",
       "    .dataframe tbody tr th {\n",
       "        vertical-align: top;\n",
       "    }\n",
       "\n",
       "    .dataframe thead th {\n",
       "        text-align: right;\n",
       "    }\n",
       "<\/style>\n",
       "<table border=\"1\" class=\"dataframe\">\n",
       "  <thead>\n",
       "    <tr style=\"text-align: right;\">\n",
       "      <th><\/th>\n",
       "      <th>esp<\/th>\n",
       "      <th>sens<\/th>\n",
       "    <\/tr>\n",
       "  <\/thead>\n",
       "  <tbody>\n",
       "    <tr>\n",
       "      <th>0<\/th>\n",
       "      <td>0.000000<\/td>\n",
       "      <td>0.000000<\/td>\n",
       "    <\/tr>\n",
       "    <tr>\n",
       "      <th>1<\/th>\n",
       "      <td>0.000000<\/td>\n",
       "      <td>0.071429<\/td>\n",
       "    <\/tr>\n",
       "    <tr>\n",
       "      <th>2<\/th>\n",
       "      <td>0.000000<\/td>\n",
       "      <td>0.285714<\/td>\n",
       "    <\/tr>\n",
       "    <tr>\n",
       "      <th>3<\/th>\n",
       "      <td>0.041667<\/td>\n",
       "      <td>0.285714<\/td>\n",
       "    <\/tr>\n",
       "    <tr>\n",
       "      <th>4<\/th>\n",
       "      <td>0.041667<\/td>\n",
       "      <td>0.357143<\/td>\n",
       "    <\/tr>\n",
       "  <\/tbody>\n",
       "<\/table>\n",
       "<\/div>"
      ]
     },
     "metadata":{
      
     },
     "output_type":"display_data"
    }
   ],
   "metadata":{
    "datalore":{
     "type":"CODE",
     "hide_input_from_viewers":false,
     "hide_output_from_viewers":false
    }
   }
  },
  {
   "cell_type":"code",
   "source":[
    "import matplotlib.pyplot as plt\n",
    "\n",
    "%matplotlib inline\n",
    "plt.plot(espc_1,sensit, marker='o', linestyle='--', color='r')\n",
    "x=[i*0.01 for i in range(100)]\n",
    "y=[i*0.01 for i in range(100)]\n",
    "plt.plot(x,y)"
   ],
   "execution_count":33,
   "outputs":[
    {
     "data":{
      "text\/plain":[
       "[<matplotlib.lines.Line2D at 0x7fa072ce2400>]"
      ],
      "image\/png":"[encoded data removed]"
     },
     "metadata":{
      "image\/png":{
       
      }
     },
     "output_type":"display_data"
    }
   ],
   "metadata":{
    "datalore":{
     "type":"CODE",
     "hide_input_from_viewers":false,
     "hide_output_from_viewers":false
    }
   }
  }
 ],
 "metadata":{
  "datalore":{
   "version":1,
   "computation_mode":"JUPYTER",
   "package_manager":"pip",
   "base_environment":"default",
   "packages":[
    
   ]
  }
 },
 "nbformat":4,
 "nbformat_minor":4
}