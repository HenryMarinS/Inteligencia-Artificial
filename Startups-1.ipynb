{
 "cells":[
  {
   "cell_type":"code",
   "source":[
    "import pandas as pd\n",
    "import numpy as np\n",
    "import statsmodels.formula.api as smf\n",
    "from sklearn.linear_model import LinearRegression\n",
    "from sklearn.feature_selection import RFE\n",
    "from sklearn.svm import SVR"
   ],
   "execution_count":1,
   "outputs":[
    
   ],
   "metadata":{
    "datalore":{
     "type":"CODE",
     "hide_input_from_viewers":false,
     "hide_output_from_viewers":false,
     "node_id":"8V35LEJ6I6jnm0ZpKYMhgX"
    }
   }
  },
  {
   "cell_type":"code",
   "source":[
    "startups = pd.read_csv(\"https:\/\/raw.githubusercontent.com\/krishnaik06\/Multiple-Linear-Regression\/master\/50_Startups.csv\")"
   ],
   "execution_count":2,
   "outputs":[
    
   ],
   "metadata":{
    "datalore":{
     "type":"CODE",
     "hide_input_from_viewers":false,
     "hide_output_from_viewers":false,
     "node_id":"loRldOwIyJWoNcYfvFDVbz"
    }
   }
  },
  {
   "cell_type":"code",
   "source":[
    "startups2 = startups.rename(columns={'R&D Spend':'RyDSpend','Marketing Spend':'MarketingSpend'})\n",
    "startups2.head()"
   ],
   "execution_count":3,
   "outputs":[
    {
     "data":{
      "text\/html":[
       "<div>\n",
       "<style scoped>\n",
       "    .dataframe tbody tr th:only-of-type {\n",
       "        vertical-align: middle;\n",
       "    }\n",
       "\n",
       "    .dataframe tbody tr th {\n",
       "        vertical-align: top;\n",
       "    }\n",
       "\n",
       "    .dataframe thead th {\n",
       "        text-align: right;\n",
       "    }\n",
       "<\/style>\n",
       "<table border=\"1\" class=\"dataframe\">\n",
       "  <thead>\n",
       "    <tr style=\"text-align: right;\">\n",
       "      <th><\/th>\n",
       "      <th>RyDSpend<\/th>\n",
       "      <th>Administration<\/th>\n",
       "      <th>MarketingSpend<\/th>\n",
       "      <th>State<\/th>\n",
       "      <th>Profit<\/th>\n",
       "    <\/tr>\n",
       "  <\/thead>\n",
       "  <tbody>\n",
       "    <tr>\n",
       "      <th>0<\/th>\n",
       "      <td>165349.20<\/td>\n",
       "      <td>136897.80<\/td>\n",
       "      <td>471784.10<\/td>\n",
       "      <td>New York<\/td>\n",
       "      <td>192261.83<\/td>\n",
       "    <\/tr>\n",
       "    <tr>\n",
       "      <th>1<\/th>\n",
       "      <td>162597.70<\/td>\n",
       "      <td>151377.59<\/td>\n",
       "      <td>443898.53<\/td>\n",
       "      <td>California<\/td>\n",
       "      <td>191792.06<\/td>\n",
       "    <\/tr>\n",
       "    <tr>\n",
       "      <th>2<\/th>\n",
       "      <td>153441.51<\/td>\n",
       "      <td>101145.55<\/td>\n",
       "      <td>407934.54<\/td>\n",
       "      <td>Florida<\/td>\n",
       "      <td>191050.39<\/td>\n",
       "    <\/tr>\n",
       "    <tr>\n",
       "      <th>3<\/th>\n",
       "      <td>144372.41<\/td>\n",
       "      <td>118671.85<\/td>\n",
       "      <td>383199.62<\/td>\n",
       "      <td>New York<\/td>\n",
       "      <td>182901.99<\/td>\n",
       "    <\/tr>\n",
       "    <tr>\n",
       "      <th>4<\/th>\n",
       "      <td>142107.34<\/td>\n",
       "      <td>91391.77<\/td>\n",
       "      <td>366168.42<\/td>\n",
       "      <td>Florida<\/td>\n",
       "      <td>166187.94<\/td>\n",
       "    <\/tr>\n",
       "  <\/tbody>\n",
       "<\/table>\n",
       "<\/div>"
      ]
     },
     "metadata":{
      
     },
     "output_type":"display_data"
    }
   ],
   "metadata":{
    "datalore":{
     "type":"CODE",
     "hide_input_from_viewers":false,
     "hide_output_from_viewers":false,
     "node_id":"FfzwWoV7TkxRLi9KrcQhTr"
    }
   }
  },
  {
   "cell_type":"markdown",
   "source":[
    "Hacemos las dummy de las cuidades y quitamos una que es redundante"
   ],
   "attachments":{
    
   },
   "metadata":{
    "datalore":{
     "type":"MD",
     "hide_input_from_viewers":false,
     "hide_output_from_viewers":false,
     "node_id":"u6CWZaSqN5Oh8D0PmdasDM"
    }
   }
  },
  {
   "cell_type":"code",
   "source":[
    "dummy_state_tier = pd.get_dummies(startups2[\"State\"], prefix = \"State\").iloc[:,1:]\n",
    "dummy_state_tier.head()"
   ],
   "execution_count":4,
   "outputs":[
    {
     "data":{
      "text\/html":[
       "<div>\n",
       "<style scoped>\n",
       "    .dataframe tbody tr th:only-of-type {\n",
       "        vertical-align: middle;\n",
       "    }\n",
       "\n",
       "    .dataframe tbody tr th {\n",
       "        vertical-align: top;\n",
       "    }\n",
       "\n",
       "    .dataframe thead th {\n",
       "        text-align: right;\n",
       "    }\n",
       "<\/style>\n",
       "<table border=\"1\" class=\"dataframe\">\n",
       "  <thead>\n",
       "    <tr style=\"text-align: right;\">\n",
       "      <th><\/th>\n",
       "      <th>State_Florida<\/th>\n",
       "      <th>State_New York<\/th>\n",
       "    <\/tr>\n",
       "  <\/thead>\n",
       "  <tbody>\n",
       "    <tr>\n",
       "      <th>0<\/th>\n",
       "      <td>0<\/td>\n",
       "      <td>1<\/td>\n",
       "    <\/tr>\n",
       "    <tr>\n",
       "      <th>1<\/th>\n",
       "      <td>0<\/td>\n",
       "      <td>0<\/td>\n",
       "    <\/tr>\n",
       "    <tr>\n",
       "      <th>2<\/th>\n",
       "      <td>1<\/td>\n",
       "      <td>0<\/td>\n",
       "    <\/tr>\n",
       "    <tr>\n",
       "      <th>3<\/th>\n",
       "      <td>0<\/td>\n",
       "      <td>1<\/td>\n",
       "    <\/tr>\n",
       "    <tr>\n",
       "      <th>4<\/th>\n",
       "      <td>1<\/td>\n",
       "      <td>0<\/td>\n",
       "    <\/tr>\n",
       "  <\/tbody>\n",
       "<\/table>\n",
       "<\/div>"
      ]
     },
     "metadata":{
      
     },
     "output_type":"display_data"
    }
   ],
   "metadata":{
    "datalore":{
     "type":"CODE",
     "hide_input_from_viewers":false,
     "hide_output_from_viewers":false,
     "node_id":"PrJHi18lqMMzl9lMcKyO62"
    }
   }
  },
  {
   "cell_type":"code",
   "source":[
    "column_names = startups2.columns.values.tolist()\n",
    "startups_new = startups2[column_names].join(dummy_state_tier)\n",
    "startups_new.head()"
   ],
   "execution_count":5,
   "outputs":[
    {
     "data":{
      "text\/html":[
       "<div>\n",
       "<style scoped>\n",
       "    .dataframe tbody tr th:only-of-type {\n",
       "        vertical-align: middle;\n",
       "    }\n",
       "\n",
       "    .dataframe tbody tr th {\n",
       "        vertical-align: top;\n",
       "    }\n",
       "\n",
       "    .dataframe thead th {\n",
       "        text-align: right;\n",
       "    }\n",
       "<\/style>\n",
       "<table border=\"1\" class=\"dataframe\">\n",
       "  <thead>\n",
       "    <tr style=\"text-align: right;\">\n",
       "      <th><\/th>\n",
       "      <th>RyDSpend<\/th>\n",
       "      <th>Administration<\/th>\n",
       "      <th>MarketingSpend<\/th>\n",
       "      <th>State<\/th>\n",
       "      <th>Profit<\/th>\n",
       "      <th>State_Florida<\/th>\n",
       "      <th>State_New York<\/th>\n",
       "    <\/tr>\n",
       "  <\/thead>\n",
       "  <tbody>\n",
       "    <tr>\n",
       "      <th>0<\/th>\n",
       "      <td>165349.20<\/td>\n",
       "      <td>136897.80<\/td>\n",
       "      <td>471784.10<\/td>\n",
       "      <td>New York<\/td>\n",
       "      <td>192261.83<\/td>\n",
       "      <td>0<\/td>\n",
       "      <td>1<\/td>\n",
       "    <\/tr>\n",
       "    <tr>\n",
       "      <th>1<\/th>\n",
       "      <td>162597.70<\/td>\n",
       "      <td>151377.59<\/td>\n",
       "      <td>443898.53<\/td>\n",
       "      <td>California<\/td>\n",
       "      <td>191792.06<\/td>\n",
       "      <td>0<\/td>\n",
       "      <td>0<\/td>\n",
       "    <\/tr>\n",
       "    <tr>\n",
       "      <th>2<\/th>\n",
       "      <td>153441.51<\/td>\n",
       "      <td>101145.55<\/td>\n",
       "      <td>407934.54<\/td>\n",
       "      <td>Florida<\/td>\n",
       "      <td>191050.39<\/td>\n",
       "      <td>1<\/td>\n",
       "      <td>0<\/td>\n",
       "    <\/tr>\n",
       "    <tr>\n",
       "      <th>3<\/th>\n",
       "      <td>144372.41<\/td>\n",
       "      <td>118671.85<\/td>\n",
       "      <td>383199.62<\/td>\n",
       "      <td>New York<\/td>\n",
       "      <td>182901.99<\/td>\n",
       "      <td>0<\/td>\n",
       "      <td>1<\/td>\n",
       "    <\/tr>\n",
       "    <tr>\n",
       "      <th>4<\/th>\n",
       "      <td>142107.34<\/td>\n",
       "      <td>91391.77<\/td>\n",
       "      <td>366168.42<\/td>\n",
       "      <td>Florida<\/td>\n",
       "      <td>166187.94<\/td>\n",
       "      <td>1<\/td>\n",
       "      <td>0<\/td>\n",
       "    <\/tr>\n",
       "  <\/tbody>\n",
       "<\/table>\n",
       "<\/div>"
      ]
     },
     "metadata":{
      
     },
     "output_type":"display_data"
    }
   ],
   "metadata":{
    "datalore":{
     "type":"CODE",
     "hide_input_from_viewers":false,
     "hide_output_from_viewers":false,
     "node_id":"IsTLTUsOY7IQ9bCK8Y6S7L"
    }
   }
  },
  {
   "cell_type":"code",
   "source":[
    "lm_n = smf.ols(formula=\"Administration~MarketingSpend+RyDSpend\", data = startups_new).fit()\n",
    "rsquared_n = lm_n.rsquared\n",
    "VIF = 1\/(1-rsquared_n)\n",
    "VIF"
   ],
   "execution_count":30,
   "outputs":[
    {
     "data":{
      "text\/plain":[
       "1.1750910070550453"
      ]
     },
     "metadata":{
      
     },
     "output_type":"display_data"
    }
   ],
   "metadata":{
    "datalore":{
     "type":"CODE",
     "hide_input_from_viewers":false,
     "hide_output_from_viewers":false,
     "node_id":"9vQX7LXjraF2fOoTbsLFlc"
    }
   }
  },
  {
   "cell_type":"code",
   "source":[
    "lm_n = smf.ols(formula=\"MarketingSpend~Administration+RyDSpend\", data = startups_new).fit()\n",
    "rsquared_n = lm_n.rsquared\n",
    "VIF = 1\/(1-rsquared_n)\n",
    "VIF"
   ],
   "execution_count":31,
   "outputs":[
    {
     "data":{
      "text\/plain":[
       "2.3267732905308773"
      ]
     },
     "metadata":{
      
     },
     "output_type":"display_data"
    }
   ],
   "metadata":{
    "datalore":{
     "type":"CODE",
     "hide_input_from_viewers":false,
     "hide_output_from_viewers":false,
     "node_id":"NT2TqtlTh5cDIAaFlNglgG"
    }
   }
  },
  {
   "cell_type":"code",
   "source":[
    "lm_n = smf.ols(formula=\"RyDSpend~MarketingSpend+Administration\", data = startups_new).fit()\n",
    "rsquared_n = lm_n.rsquared\n",
    "VIF = 1\/(1-rsquared_n)\n",
    "VIF"
   ],
   "execution_count":32,
   "outputs":[
    {
     "data":{
      "text\/plain":[
       "2.4689030699947017"
      ]
     },
     "metadata":{
      
     },
     "output_type":"display_data"
    }
   ],
   "metadata":{
    "datalore":{
     "type":"CODE",
     "hide_input_from_viewers":false,
     "hide_output_from_viewers":false,
     "node_id":"Fze2NhrQTCPOosexw8JVIp"
    }
   }
  },
  {
   "cell_type":"markdown",
   "source":[
    "Decido no quitar ninguna porque los valores de VIF salen bien"
   ],
   "attachments":{
    
   },
   "metadata":{
    "datalore":{
     "type":"MD",
     "hide_input_from_viewers":false,
     "hide_output_from_viewers":false,
     "node_id":"7Os6c0ybAsYEVfdZoQIegs"
    }
   }
  },
  {
   "cell_type":"code",
   "source":[
    "feature_cols = [\"Administration\", \"MarketingSpend\",\"RyDSpend\",\"State_Florida\",\"State_New York\"]\n",
    "X = startups_new[feature_cols]\n",
    "Y = startups_new[\"Profit\"]\n",
    "lm = LinearRegression()\n",
    "lm.fit(X,Y)\n",
    "print(lm.intercept_)\n",
    "print(lm.coef_)"
   ],
   "execution_count":35,
   "outputs":[
    {
     "name":"stdout",
     "text":[
      "50125.34383165128\n",
      "[-2.70043196e-02  2.69798610e-02  8.06023114e-01  1.98788793e+02\n",
      " -4.18870191e+01]\n"
     ],
     "output_type":"stream"
    }
   ],
   "metadata":{
    "datalore":{
     "type":"CODE",
     "hide_input_from_viewers":false,
     "hide_output_from_viewers":false,
     "node_id":"vciJmsPhHaNOFHiGdJijx3"
    }
   }
  },
  {
   "cell_type":"code",
   "source":[
    "list(zip(feature_cols, lm.coef_))"
   ],
   "execution_count":34,
   "outputs":[
    {
     "data":{
      "text\/plain":[
       "[('Administration', -0.027004319575493617),\n",
       " ('MarketingSpend', 0.02697986103451222),\n",
       " ('RyDSpend', 0.8060231137179691),\n",
       " ('State_Florida', 198.78879286278894),\n",
       " ('State_New York', -41.88701913356584)]"
      ]
     },
     "metadata":{
      
     },
     "output_type":"display_data"
    }
   ],
   "metadata":{
    "datalore":{
     "type":"CODE",
     "hide_input_from_viewers":false,
     "hide_output_from_viewers":false,
     "node_id":"fa1pGGnIPQEMbrd2CDpUZJ"
    }
   }
  },
  {
   "cell_type":"code",
   "source":[
    "lm.score(X,Y)"
   ],
   "execution_count":11,
   "outputs":[
    {
     "data":{
      "text\/plain":[
       "0.9489924406645264"
      ]
     },
     "metadata":{
      
     },
     "output_type":"display_data"
    }
   ],
   "metadata":{
    "datalore":{
     "type":"CODE",
     "hide_input_from_viewers":false,
     "hide_output_from_viewers":false,
     "node_id":"DIMOE16pyFmg7Sa7tiJ0lV"
    }
   }
  },
  {
   "cell_type":"code",
   "source":[
    "startups_new[\"Prediccion\"]= 50125.34383 - 0.0270043195 * startups_new[\"Administration\"] + 0.02697986 * startups_new[\"MarketingSpend\"] + 0.80602311 * startups_new[\"RyDSpend\"] + 198.78879286 * startups_new[\"State_Florida\"] - 41.887019133 * startups_new[\"State_New York\"]\n",
    "startups_new.head()"
   ],
   "execution_count":36,
   "outputs":[
    {
     "data":{
      "text\/html":[
       "<div>\n",
       "<style scoped>\n",
       "    .dataframe tbody tr th:only-of-type {\n",
       "        vertical-align: middle;\n",
       "    }\n",
       "\n",
       "    .dataframe tbody tr th {\n",
       "        vertical-align: top;\n",
       "    }\n",
       "\n",
       "    .dataframe thead th {\n",
       "        text-align: right;\n",
       "    }\n",
       "<\/style>\n",
       "<table border=\"1\" class=\"dataframe\">\n",
       "  <thead>\n",
       "    <tr style=\"text-align: right;\">\n",
       "      <th><\/th>\n",
       "      <th>RyDSpend<\/th>\n",
       "      <th>Administration<\/th>\n",
       "      <th>MarketingSpend<\/th>\n",
       "      <th>State<\/th>\n",
       "      <th>Profit<\/th>\n",
       "      <th>State_Florida<\/th>\n",
       "      <th>State_New York<\/th>\n",
       "      <th>Prediccion<\/th>\n",
       "      <th>Prediccion2<\/th>\n",
       "    <\/tr>\n",
       "  <\/thead>\n",
       "  <tbody>\n",
       "    <tr>\n",
       "      <th>0<\/th>\n",
       "      <td>165349.20<\/td>\n",
       "      <td>136897.80<\/td>\n",
       "      <td>471784.10<\/td>\n",
       "      <td>New York<\/td>\n",
       "      <td>192261.83<\/td>\n",
       "      <td>0<\/td>\n",
       "      <td>1<\/td>\n",
       "      <td>192390.570269<\/td>\n",
       "      <td>163853.359207<\/td>\n",
       "    <\/tr>\n",
       "    <tr>\n",
       "      <th>1<\/th>\n",
       "      <td>162597.70<\/td>\n",
       "      <td>151377.59<\/td>\n",
       "      <td>443898.53<\/td>\n",
       "      <td>California<\/td>\n",
       "      <td>191792.06<\/td>\n",
       "      <td>0<\/td>\n",
       "      <td>0<\/td>\n",
       "      <td>189071.319051<\/td>\n",
       "      <td>164398.087295<\/td>\n",
       "    <\/tr>\n",
       "    <tr>\n",
       "      <th>2<\/th>\n",
       "      <td>153441.51<\/td>\n",
       "      <td>101145.55<\/td>\n",
       "      <td>407934.54<\/td>\n",
       "      <td>Florida<\/td>\n",
       "      <td>191050.39<\/td>\n",
       "      <td>1<\/td>\n",
       "      <td>0<\/td>\n",
       "      <td>182276.185746<\/td>\n",
       "      <td>158271.000735<\/td>\n",
       "    <\/tr>\n",
       "    <tr>\n",
       "      <th>3<\/th>\n",
       "      <td>144372.41<\/td>\n",
       "      <td>118671.85<\/td>\n",
       "      <td>383199.62<\/td>\n",
       "      <td>New York<\/td>\n",
       "      <td>182901.99<\/td>\n",
       "      <td>0<\/td>\n",
       "      <td>1<\/td>\n",
       "      <td>173584.975264<\/td>\n",
       "      <td>151628.401685<\/td>\n",
       "    <\/tr>\n",
       "    <tr>\n",
       "      <th>4<\/th>\n",
       "      <td>142107.34<\/td>\n",
       "      <td>91391.77<\/td>\n",
       "      <td>366168.42<\/td>\n",
       "      <td>Florida<\/td>\n",
       "      <td>166187.94<\/td>\n",
       "      <td>1<\/td>\n",
       "      <td>0<\/td>\n",
       "      <td>172277.132915<\/td>\n",
       "      <td>130253.275640<\/td>\n",
       "    <\/tr>\n",
       "  <\/tbody>\n",
       "<\/table>\n",
       "<\/div>"
      ]
     },
     "metadata":{
      
     },
     "output_type":"display_data"
    }
   ],
   "metadata":{
    "datalore":{
     "type":"CODE",
     "hide_input_from_viewers":false,
     "hide_output_from_viewers":false,
     "node_id":"tbCqmKtkIf1vKuVphrEqsR"
    }
   }
  },
  {
   "cell_type":"code",
   "source":[
    "SSD = np.sum((startups_new[\"Prediccion\"] - startups_new[\"Profit\"])**2)\n",
    "SSD"
   ],
   "execution_count":37,
   "outputs":[
    {
     "data":{
      "text\/plain":[
       "3920339644.401898"
      ]
     },
     "metadata":{
      
     },
     "output_type":"display_data"
    }
   ],
   "metadata":{
    "datalore":{
     "type":"CODE",
     "hide_input_from_viewers":false,
     "hide_output_from_viewers":false,
     "node_id":"3gglIyx1IF8Pf6ePKTvHVB"
    }
   }
  },
  {
   "cell_type":"code",
   "source":[
    "RSE = np.sqrt(SSD\/(len(startups_new)-len(feature_cols)-1))\n",
    "RSE"
   ],
   "execution_count":38,
   "outputs":[
    {
     "data":{
      "text\/plain":[
       "9439.206973144583"
      ]
     },
     "metadata":{
      
     },
     "output_type":"display_data"
    }
   ],
   "metadata":{
    "datalore":{
     "type":"CODE",
     "hide_input_from_viewers":false,
     "hide_output_from_viewers":false,
     "node_id":"vSc0rtt2bfoiTVowlprDK2"
    }
   }
  },
  {
   "cell_type":"code",
   "source":[
    "spend_mean=np.mean(startups_new[\"Profit\"])\n",
    "spend_mean"
   ],
   "execution_count":39,
   "outputs":[
    {
     "data":{
      "text\/plain":[
       "112012.63920000002"
      ]
     },
     "metadata":{
      
     },
     "output_type":"display_data"
    }
   ],
   "metadata":{
    "datalore":{
     "type":"CODE",
     "hide_input_from_viewers":false,
     "hide_output_from_viewers":false,
     "node_id":"E79WoCN86KpCIPWct26NOl"
    }
   }
  },
  {
   "cell_type":"code",
   "source":[
    "error = RSE\/spend_mean\n",
    "error*100"
   ],
   "execution_count":40,
   "outputs":[
    {
     "data":{
      "text\/plain":[
       "8.426912391815673"
      ]
     },
     "metadata":{
      
     },
     "output_type":"display_data"
    }
   ],
   "metadata":{
    "datalore":{
     "type":"CODE",
     "hide_input_from_viewers":false,
     "hide_output_from_viewers":false,
     "node_id":"WB2L2aOcwAzQXtQyEUb0jU"
    }
   }
  },
  {
   "cell_type":"markdown",
   "source":[
    "*****SciKit+Learn*****"
   ],
   "attachments":{
    
   },
   "metadata":{
    "datalore":{
     "type":"MD",
     "hide_input_from_viewers":false,
     "hide_output_from_viewers":false,
     "node_id":"dNzZAc3iAjiTgfuqPxJ7XG"
    }
   }
  },
  {
   "cell_type":"code",
   "source":[
    "estimator = SVR(kernel=\"linear\")\n",
    "selector = RFE(estimator, n_features_to_select=4, step=1)\n",
    "selector = selector.fit(X,Y)"
   ],
   "execution_count":41,
   "outputs":[
    
   ],
   "metadata":{
    "datalore":{
     "type":"CODE",
     "hide_input_from_viewers":false,
     "hide_output_from_viewers":false,
     "node_id":"seBvm9Bqsrs6DKZQFVJeaM"
    }
   }
  },
  {
   "cell_type":"code",
   "source":[
    "selector.support_"
   ],
   "execution_count":42,
   "outputs":[
    {
     "data":{
      "text\/html":[
       
      ]
     },
     "metadata":{
      
     },
     "output_type":"display_data"
    }
   ],
   "metadata":{
    "datalore":{
     "type":"CODE",
     "hide_input_from_viewers":false,
     "hide_output_from_viewers":false,
     "node_id":"gn9Hm6B2FoCJsEYzkGtRku"
    }
   }
  },
  {
   "cell_type":"code",
   "source":[
    "selector.ranking_"
   ],
   "execution_count":43,
   "outputs":[
    {
     "data":{
      "text\/html":[
       
      ]
     },
     "metadata":{
      
     },
     "output_type":"display_data"
    }
   ],
   "metadata":{
    "datalore":{
     "type":"CODE",
     "hide_input_from_viewers":false,
     "hide_output_from_viewers":false,
     "node_id":"cvhv0sDcmHG2pyHBaBigTw"
    }
   }
  },
  {
   "cell_type":"code",
   "source":[
    "X_pred = X[[\"Administration\", \"MarketingSpend\",\"RyDSpend\",\"State_New York\"]]"
   ],
   "execution_count":45,
   "outputs":[
    
   ],
   "metadata":{
    "datalore":{
     "type":"CODE",
     "hide_input_from_viewers":false,
     "hide_output_from_viewers":false,
     "node_id":"SZbCZ8Wl4bhvcs1ffcVcXb"
    }
   }
  },
  {
   "cell_type":"code",
   "source":[
    "lm = LinearRegression()\n",
    "lm.fit(X_pred, Y)"
   ],
   "execution_count":47,
   "outputs":[
    {
     "data":{
      "text\/plain":[
       "LinearRegression()"
      ]
     },
     "metadata":{
      
     },
     "output_type":"display_data"
    }
   ],
   "metadata":{
    "datalore":{
     "type":"CODE",
     "hide_input_from_viewers":false,
     "hide_output_from_viewers":false,
     "node_id":"cfJ8IXcXb5YI1JTx24WytR"
    }
   }
  },
  {
   "cell_type":"code",
   "source":[
    "lm.intercept_"
   ],
   "execution_count":48,
   "outputs":[
    {
     "data":{
      "text\/plain":[
       "50179.36599153635"
      ]
     },
     "metadata":{
      
     },
     "output_type":"display_data"
    }
   ],
   "metadata":{
    "datalore":{
     "type":"CODE",
     "hide_input_from_viewers":false,
     "hide_output_from_viewers":false,
     "node_id":"yJDhVIF1dySlcHwbdzoDTL"
    }
   }
  },
  {
   "cell_type":"code",
   "source":[
    "lm.coef_"
   ],
   "execution_count":49,
   "outputs":[
    {
     "data":{
      "text\/html":[
       
      ]
     },
     "metadata":{
      
     },
     "output_type":"display_data"
    }
   ],
   "metadata":{
    "datalore":{
     "type":"CODE",
     "hide_input_from_viewers":false,
     "hide_output_from_viewers":false,
     "node_id":"nzwTxMrpCl71lgP58PiSo4"
    }
   }
  },
  {
   "cell_type":"code",
   "source":[
    "lm.score(X_pred, Y)"
   ],
   "execution_count":24,
   "outputs":[
    {
     "data":{
      "text\/plain":[
       "0.948956521872247"
      ]
     },
     "metadata":{
      
     },
     "output_type":"display_data"
    }
   ],
   "metadata":{
    "datalore":{
     "type":"CODE",
     "hide_input_from_viewers":false,
     "hide_output_from_viewers":false,
     "node_id":"FtgLFso5kOP5FIyJE3Q7W5"
    }
   }
  },
  {
   "cell_type":"code",
   "source":[
    "startups_new[\"Prediccion2\"]= 50179.36599 - 0.02690181 * startups_new[\"Administration\"] + 0.027149874 * startups_new[\"MarketingSpend\"] + 0.805934190 * startups_new[\"RyDSpend\"] - 136.5041814 * startups_new[\"State_New York\"]\n",
    "startups_new.head()"
   ],
   "execution_count":50,
   "outputs":[
    {
     "data":{
      "text\/html":[
       "<div>\n",
       "<style scoped>\n",
       "    .dataframe tbody tr th:only-of-type {\n",
       "        vertical-align: middle;\n",
       "    }\n",
       "\n",
       "    .dataframe tbody tr th {\n",
       "        vertical-align: top;\n",
       "    }\n",
       "\n",
       "    .dataframe thead th {\n",
       "        text-align: right;\n",
       "    }\n",
       "<\/style>\n",
       "<table border=\"1\" class=\"dataframe\">\n",
       "  <thead>\n",
       "    <tr style=\"text-align: right;\">\n",
       "      <th><\/th>\n",
       "      <th>RyDSpend<\/th>\n",
       "      <th>Administration<\/th>\n",
       "      <th>MarketingSpend<\/th>\n",
       "      <th>State<\/th>\n",
       "      <th>Profit<\/th>\n",
       "      <th>State_Florida<\/th>\n",
       "      <th>State_New York<\/th>\n",
       "      <th>Prediccion<\/th>\n",
       "      <th>Prediccion2<\/th>\n",
       "    <\/tr>\n",
       "  <\/thead>\n",
       "  <tbody>\n",
       "    <tr>\n",
       "      <th>0<\/th>\n",
       "      <td>165349.20<\/td>\n",
       "      <td>136897.80<\/td>\n",
       "      <td>471784.10<\/td>\n",
       "      <td>New York<\/td>\n",
       "      <td>192261.83<\/td>\n",
       "      <td>0<\/td>\n",
       "      <td>1<\/td>\n",
       "      <td>192390.570269<\/td>\n",
       "      <td>192429.515643<\/td>\n",
       "    <\/tr>\n",
       "    <tr>\n",
       "      <th>1<\/th>\n",
       "      <td>162597.70<\/td>\n",
       "      <td>151377.59<\/td>\n",
       "      <td>443898.53<\/td>\n",
       "      <td>California<\/td>\n",
       "      <td>191792.06<\/td>\n",
       "      <td>0<\/td>\n",
       "      <td>0<\/td>\n",
       "      <td>189071.319051<\/td>\n",
       "      <td>189201.869629<\/td>\n",
       "    <\/tr>\n",
       "    <tr>\n",
       "      <th>2<\/th>\n",
       "      <td>153441.51<\/td>\n",
       "      <td>101145.55<\/td>\n",
       "      <td>407934.54<\/td>\n",
       "      <td>Florida<\/td>\n",
       "      <td>191050.39<\/td>\n",
       "      <td>1<\/td>\n",
       "      <td>0<\/td>\n",
       "      <td>182276.185746<\/td>\n",
       "      <td>182197.498057<\/td>\n",
       "    <\/tr>\n",
       "    <tr>\n",
       "      <th>3<\/th>\n",
       "      <td>144372.41<\/td>\n",
       "      <td>118671.85<\/td>\n",
       "      <td>383199.62<\/td>\n",
       "      <td>New York<\/td>\n",
       "      <td>182901.99<\/td>\n",
       "      <td>0<\/td>\n",
       "      <td>1<\/td>\n",
       "      <td>173584.975264<\/td>\n",
       "      <td>173608.856959<\/td>\n",
       "    <\/tr>\n",
       "    <tr>\n",
       "      <th>4<\/th>\n",
       "      <td>142107.34<\/td>\n",
       "      <td>91391.77<\/td>\n",
       "      <td>366168.42<\/td>\n",
       "      <td>Florida<\/td>\n",
       "      <td>166187.94<\/td>\n",
       "      <td>1<\/td>\n",
       "      <td>0<\/td>\n",
       "      <td>172277.132915<\/td>\n",
       "      <td>172191.352380<\/td>\n",
       "    <\/tr>\n",
       "  <\/tbody>\n",
       "<\/table>\n",
       "<\/div>"
      ]
     },
     "metadata":{
      
     },
     "output_type":"display_data"
    }
   ],
   "metadata":{
    "datalore":{
     "type":"CODE",
     "hide_input_from_viewers":false,
     "hide_output_from_viewers":false,
     "node_id":"VqVqOdKnkET8IDEQ8ExJIF"
    }
   }
  },
  {
   "cell_type":"code",
   "source":[
    "SSD2 = np.sum((startups_new[\"Prediccion2\"] - startups_new[\"Profit\"])**2)\n",
    "SSD2"
   ],
   "execution_count":53,
   "outputs":[
    {
     "data":{
      "text\/plain":[
       "3920649482.965228"
      ]
     },
     "metadata":{
      
     },
     "output_type":"display_data"
    }
   ],
   "metadata":{
    "datalore":{
     "type":"CODE",
     "hide_input_from_viewers":false,
     "hide_output_from_viewers":false,
     "node_id":"1YtzPgOImAYs4C1MiqB2h8"
    }
   }
  },
  {
   "cell_type":"code",
   "source":[
    "RSE2 = np.sqrt(SSD2\/(len(startups_new)-len(feature_cols)-1))\n",
    "RSE2"
   ],
   "execution_count":54,
   "outputs":[
    {
     "data":{
      "text\/plain":[
       "9439.579973038606"
      ]
     },
     "metadata":{
      
     },
     "output_type":"display_data"
    }
   ],
   "metadata":{
    "datalore":{
     "type":"CODE",
     "hide_input_from_viewers":false,
     "hide_output_from_viewers":false,
     "node_id":"WamXL3FJyoVY08GMeK4GUA"
    }
   }
  },
  {
   "cell_type":"code",
   "source":[
    "spend_mean=np.mean(startups_new[\"Profit\"])\n",
    "spend_mean"
   ],
   "execution_count":57,
   "outputs":[
    {
     "data":{
      "text\/plain":[
       "112012.63920000002"
      ]
     },
     "metadata":{
      
     },
     "output_type":"display_data"
    }
   ],
   "metadata":{
    "datalore":{
     "type":"CODE",
     "hide_input_from_viewers":false,
     "hide_output_from_viewers":false,
     "node_id":"XpYIkGIIcwqftGdH4bJ7Nh"
    }
   }
  },
  {
   "cell_type":"code",
   "source":[
    "error2 = RSE2\/spend_mean\n",
    "error2*100"
   ],
   "execution_count":58,
   "outputs":[
    {
     "data":{
      "text\/plain":[
       "8.427245389856509"
      ]
     },
     "metadata":{
      
     },
     "output_type":"display_data"
    }
   ],
   "metadata":{
    "datalore":{
     "type":"CODE",
     "hide_input_from_viewers":false,
     "hide_output_from_viewers":false,
     "node_id":"OkT25MkO2naIWbZkE9m1fZ"
    }
   }
  }
 ],
 "metadata":{
  "datalore":{
   "version":1,
   "computation_mode":"JUPYTER",
   "package_manager":"pip",
   "base_environment":"default",
   "packages":[
    
   ]
  }
 },
 "nbformat":4,
 "nbformat_minor":4
}