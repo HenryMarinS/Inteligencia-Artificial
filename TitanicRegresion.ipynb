{
 "cells":[
  {
   "cell_type":"code",
   "source":[
    "import pandas as pd\n",
    "import numpy as np"
   ],
   "execution_count":83,
   "outputs":[
    
   ],
   "metadata":{
    "datalore":{
     "type":"CODE",
     "hide_input_from_viewers":false,
     "hide_output_from_viewers":false
    }
   }
  },
  {
   "cell_type":"markdown",
   "source":[
    "Cargamos el csv entero y miramos las 10 primeras filas para saber con que vamos a trabajar"
   ],
   "attachments":{
    
   },
   "metadata":{
    "datalore":{
     "type":"MD",
     "hide_input_from_viewers":false,
     "hide_output_from_viewers":false
    }
   }
  },
  {
   "cell_type":"code",
   "source":[
    "titanic = pd.read_csv(\"titanic3.csv\")\n",
    "titanic.head(10)"
   ],
   "execution_count":84,
   "outputs":[
    {
     "data":{
      "text\/html":[
       "<div>\n",
       "<style scoped>\n",
       "    .dataframe tbody tr th:only-of-type {\n",
       "        vertical-align: middle;\n",
       "    }\n",
       "\n",
       "    .dataframe tbody tr th {\n",
       "        vertical-align: top;\n",
       "    }\n",
       "\n",
       "    .dataframe thead th {\n",
       "        text-align: right;\n",
       "    }\n",
       "<\/style>\n",
       "<table border=\"1\" class=\"dataframe\">\n",
       "  <thead>\n",
       "    <tr style=\"text-align: right;\">\n",
       "      <th><\/th>\n",
       "      <th>pclass<\/th>\n",
       "      <th>survived<\/th>\n",
       "      <th>name<\/th>\n",
       "      <th>sex<\/th>\n",
       "      <th>age<\/th>\n",
       "      <th>sibsp<\/th>\n",
       "      <th>parch<\/th>\n",
       "      <th>ticket<\/th>\n",
       "      <th>fare<\/th>\n",
       "      <th>cabin<\/th>\n",
       "      <th>embarked<\/th>\n",
       "      <th>boat<\/th>\n",
       "      <th>body<\/th>\n",
       "      <th>home.dest<\/th>\n",
       "    <\/tr>\n",
       "  <\/thead>\n",
       "  <tbody>\n",
       "    <tr>\n",
       "      <th>0<\/th>\n",
       "      <td>1<\/td>\n",
       "      <td>1<\/td>\n",
       "      <td>Allen, Miss. Elisabeth Walton<\/td>\n",
       "      <td>female<\/td>\n",
       "      <td>29.0000<\/td>\n",
       "      <td>0<\/td>\n",
       "      <td>0<\/td>\n",
       "      <td>24160<\/td>\n",
       "      <td>211.3375<\/td>\n",
       "      <td>B5<\/td>\n",
       "      <td>S<\/td>\n",
       "      <td>2<\/td>\n",
       "      <td>NaN<\/td>\n",
       "      <td>St Louis, MO<\/td>\n",
       "    <\/tr>\n",
       "    <tr>\n",
       "      <th>1<\/th>\n",
       "      <td>1<\/td>\n",
       "      <td>1<\/td>\n",
       "      <td>Allison, Master. Hudson Trevor<\/td>\n",
       "      <td>male<\/td>\n",
       "      <td>0.9167<\/td>\n",
       "      <td>1<\/td>\n",
       "      <td>2<\/td>\n",
       "      <td>113781<\/td>\n",
       "      <td>151.5500<\/td>\n",
       "      <td>C22 C26<\/td>\n",
       "      <td>S<\/td>\n",
       "      <td>11<\/td>\n",
       "      <td>NaN<\/td>\n",
       "      <td>Montreal, PQ \/ Chesterville, ON<\/td>\n",
       "    <\/tr>\n",
       "    <tr>\n",
       "      <th>2<\/th>\n",
       "      <td>1<\/td>\n",
       "      <td>0<\/td>\n",
       "      <td>Allison, Miss. Helen Loraine<\/td>\n",
       "      <td>female<\/td>\n",
       "      <td>2.0000<\/td>\n",
       "      <td>1<\/td>\n",
       "      <td>2<\/td>\n",
       "      <td>113781<\/td>\n",
       "      <td>151.5500<\/td>\n",
       "      <td>C22 C26<\/td>\n",
       "      <td>S<\/td>\n",
       "      <td>NaN<\/td>\n",
       "      <td>NaN<\/td>\n",
       "      <td>Montreal, PQ \/ Chesterville, ON<\/td>\n",
       "    <\/tr>\n",
       "    <tr>\n",
       "      <th>3<\/th>\n",
       "      <td>1<\/td>\n",
       "      <td>0<\/td>\n",
       "      <td>Allison, Mr. Hudson Joshua Creighton<\/td>\n",
       "      <td>male<\/td>\n",
       "      <td>30.0000<\/td>\n",
       "      <td>1<\/td>\n",
       "      <td>2<\/td>\n",
       "      <td>113781<\/td>\n",
       "      <td>151.5500<\/td>\n",
       "      <td>C22 C26<\/td>\n",
       "      <td>S<\/td>\n",
       "      <td>NaN<\/td>\n",
       "      <td>135.0<\/td>\n",
       "      <td>Montreal, PQ \/ Chesterville, ON<\/td>\n",
       "    <\/tr>\n",
       "    <tr>\n",
       "      <th>4<\/th>\n",
       "      <td>1<\/td>\n",
       "      <td>0<\/td>\n",
       "      <td>Allison, Mrs. Hudson J C (Bessie Waldo Daniels)<\/td>\n",
       "      <td>female<\/td>\n",
       "      <td>25.0000<\/td>\n",
       "      <td>1<\/td>\n",
       "      <td>2<\/td>\n",
       "      <td>113781<\/td>\n",
       "      <td>151.5500<\/td>\n",
       "      <td>C22 C26<\/td>\n",
       "      <td>S<\/td>\n",
       "      <td>NaN<\/td>\n",
       "      <td>NaN<\/td>\n",
       "      <td>Montreal, PQ \/ Chesterville, ON<\/td>\n",
       "    <\/tr>\n",
       "    <tr>\n",
       "      <th>5<\/th>\n",
       "      <td>1<\/td>\n",
       "      <td>1<\/td>\n",
       "      <td>Anderson, Mr. Harry<\/td>\n",
       "      <td>male<\/td>\n",
       "      <td>48.0000<\/td>\n",
       "      <td>0<\/td>\n",
       "      <td>0<\/td>\n",
       "      <td>19952<\/td>\n",
       "      <td>26.5500<\/td>\n",
       "      <td>E12<\/td>\n",
       "      <td>S<\/td>\n",
       "      <td>3<\/td>\n",
       "      <td>NaN<\/td>\n",
       "      <td>New York, NY<\/td>\n",
       "    <\/tr>\n",
       "    <tr>\n",
       "      <th>6<\/th>\n",
       "      <td>1<\/td>\n",
       "      <td>1<\/td>\n",
       "      <td>Andrews, Miss. Kornelia Theodosia<\/td>\n",
       "      <td>female<\/td>\n",
       "      <td>63.0000<\/td>\n",
       "      <td>1<\/td>\n",
       "      <td>0<\/td>\n",
       "      <td>13502<\/td>\n",
       "      <td>77.9583<\/td>\n",
       "      <td>D7<\/td>\n",
       "      <td>S<\/td>\n",
       "      <td>10<\/td>\n",
       "      <td>NaN<\/td>\n",
       "      <td>Hudson, NY<\/td>\n",
       "    <\/tr>\n",
       "    <tr>\n",
       "      <th>7<\/th>\n",
       "      <td>1<\/td>\n",
       "      <td>0<\/td>\n",
       "      <td>Andrews, Mr. Thomas Jr<\/td>\n",
       "      <td>male<\/td>\n",
       "      <td>39.0000<\/td>\n",
       "      <td>0<\/td>\n",
       "      <td>0<\/td>\n",
       "      <td>112050<\/td>\n",
       "      <td>0.0000<\/td>\n",
       "      <td>A36<\/td>\n",
       "      <td>S<\/td>\n",
       "      <td>NaN<\/td>\n",
       "      <td>NaN<\/td>\n",
       "      <td>Belfast, NI<\/td>\n",
       "    <\/tr>\n",
       "    <tr>\n",
       "      <th>8<\/th>\n",
       "      <td>1<\/td>\n",
       "      <td>1<\/td>\n",
       "      <td>Appleton, Mrs. Edward Dale (Charlotte Lamson)<\/td>\n",
       "      <td>female<\/td>\n",
       "      <td>53.0000<\/td>\n",
       "      <td>2<\/td>\n",
       "      <td>0<\/td>\n",
       "      <td>11769<\/td>\n",
       "      <td>51.4792<\/td>\n",
       "      <td>C101<\/td>\n",
       "      <td>S<\/td>\n",
       "      <td>D<\/td>\n",
       "      <td>NaN<\/td>\n",
       "      <td>Bayside, Queens, NY<\/td>\n",
       "    <\/tr>\n",
       "    <tr>\n",
       "      <th>9<\/th>\n",
       "      <td>1<\/td>\n",
       "      <td>0<\/td>\n",
       "      <td>Artagaveytia, Mr. Ramon<\/td>\n",
       "      <td>male<\/td>\n",
       "      <td>71.0000<\/td>\n",
       "      <td>0<\/td>\n",
       "      <td>0<\/td>\n",
       "      <td>PC 17609<\/td>\n",
       "      <td>49.5042<\/td>\n",
       "      <td>NaN<\/td>\n",
       "      <td>C<\/td>\n",
       "      <td>NaN<\/td>\n",
       "      <td>22.0<\/td>\n",
       "      <td>Montevideo, Uruguay<\/td>\n",
       "    <\/tr>\n",
       "  <\/tbody>\n",
       "<\/table>\n",
       "<\/div>"
      ]
     },
     "metadata":{
      
     },
     "output_type":"display_data"
    }
   ],
   "metadata":{
    "datalore":{
     "type":"CODE",
     "hide_input_from_viewers":false,
     "hide_output_from_viewers":false
    }
   }
  },
  {
   "cell_type":"code",
   "source":[
    "print(\"El tamaño del dataframe es de\",titanic.shape[0],\"filas y\",titanic.shape[1],\"columnas.\")"
   ],
   "execution_count":85,
   "outputs":[
    {
     "name":"stdout",
     "text":[
      "El tamaño del dataframe es de 1309 filas y 14 columnas.\n"
     ],
     "output_type":"stream"
    }
   ],
   "metadata":{
    "datalore":{
     "type":"CODE",
     "hide_input_from_viewers":false,
     "hide_output_from_viewers":false
    }
   }
  },
  {
   "cell_type":"code",
   "source":[
    "titanic.describe()"
   ],
   "execution_count":86,
   "outputs":[
    {
     "data":{
      "text\/html":[
       "<div>\n",
       "<style scoped>\n",
       "    .dataframe tbody tr th:only-of-type {\n",
       "        vertical-align: middle;\n",
       "    }\n",
       "\n",
       "    .dataframe tbody tr th {\n",
       "        vertical-align: top;\n",
       "    }\n",
       "\n",
       "    .dataframe thead th {\n",
       "        text-align: right;\n",
       "    }\n",
       "<\/style>\n",
       "<table border=\"1\" class=\"dataframe\">\n",
       "  <thead>\n",
       "    <tr style=\"text-align: right;\">\n",
       "      <th><\/th>\n",
       "      <th>pclass<\/th>\n",
       "      <th>survived<\/th>\n",
       "      <th>age<\/th>\n",
       "      <th>sibsp<\/th>\n",
       "      <th>parch<\/th>\n",
       "      <th>fare<\/th>\n",
       "      <th>body<\/th>\n",
       "    <\/tr>\n",
       "  <\/thead>\n",
       "  <tbody>\n",
       "    <tr>\n",
       "      <th>count<\/th>\n",
       "      <td>1309.000000<\/td>\n",
       "      <td>1309.000000<\/td>\n",
       "      <td>1046.000000<\/td>\n",
       "      <td>1309.000000<\/td>\n",
       "      <td>1309.000000<\/td>\n",
       "      <td>1308.000000<\/td>\n",
       "      <td>121.000000<\/td>\n",
       "    <\/tr>\n",
       "    <tr>\n",
       "      <th>mean<\/th>\n",
       "      <td>2.294882<\/td>\n",
       "      <td>0.381971<\/td>\n",
       "      <td>29.881135<\/td>\n",
       "      <td>0.498854<\/td>\n",
       "      <td>0.385027<\/td>\n",
       "      <td>33.295479<\/td>\n",
       "      <td>160.809917<\/td>\n",
       "    <\/tr>\n",
       "    <tr>\n",
       "      <th>std<\/th>\n",
       "      <td>0.837836<\/td>\n",
       "      <td>0.486055<\/td>\n",
       "      <td>14.413500<\/td>\n",
       "      <td>1.041658<\/td>\n",
       "      <td>0.865560<\/td>\n",
       "      <td>51.758668<\/td>\n",
       "      <td>97.696922<\/td>\n",
       "    <\/tr>\n",
       "    <tr>\n",
       "      <th>min<\/th>\n",
       "      <td>1.000000<\/td>\n",
       "      <td>0.000000<\/td>\n",
       "      <td>0.166700<\/td>\n",
       "      <td>0.000000<\/td>\n",
       "      <td>0.000000<\/td>\n",
       "      <td>0.000000<\/td>\n",
       "      <td>1.000000<\/td>\n",
       "    <\/tr>\n",
       "    <tr>\n",
       "      <th>25%<\/th>\n",
       "      <td>2.000000<\/td>\n",
       "      <td>0.000000<\/td>\n",
       "      <td>21.000000<\/td>\n",
       "      <td>0.000000<\/td>\n",
       "      <td>0.000000<\/td>\n",
       "      <td>7.895800<\/td>\n",
       "      <td>72.000000<\/td>\n",
       "    <\/tr>\n",
       "    <tr>\n",
       "      <th>50%<\/th>\n",
       "      <td>3.000000<\/td>\n",
       "      <td>0.000000<\/td>\n",
       "      <td>28.000000<\/td>\n",
       "      <td>0.000000<\/td>\n",
       "      <td>0.000000<\/td>\n",
       "      <td>14.454200<\/td>\n",
       "      <td>155.000000<\/td>\n",
       "    <\/tr>\n",
       "    <tr>\n",
       "      <th>75%<\/th>\n",
       "      <td>3.000000<\/td>\n",
       "      <td>1.000000<\/td>\n",
       "      <td>39.000000<\/td>\n",
       "      <td>1.000000<\/td>\n",
       "      <td>0.000000<\/td>\n",
       "      <td>31.275000<\/td>\n",
       "      <td>256.000000<\/td>\n",
       "    <\/tr>\n",
       "    <tr>\n",
       "      <th>max<\/th>\n",
       "      <td>3.000000<\/td>\n",
       "      <td>1.000000<\/td>\n",
       "      <td>80.000000<\/td>\n",
       "      <td>8.000000<\/td>\n",
       "      <td>9.000000<\/td>\n",
       "      <td>512.329200<\/td>\n",
       "      <td>328.000000<\/td>\n",
       "    <\/tr>\n",
       "  <\/tbody>\n",
       "<\/table>\n",
       "<\/div>"
      ]
     },
     "metadata":{
      
     },
     "output_type":"display_data"
    }
   ],
   "metadata":{
    "datalore":{
     "type":"CODE",
     "hide_input_from_viewers":false,
     "hide_output_from_viewers":false
    }
   }
  },
  {
   "cell_type":"code",
   "source":[
    "titanic.dtypes"
   ],
   "execution_count":87,
   "outputs":[
    {
     "data":{
      "text\/html":[
       
      ]
     },
     "metadata":{
      
     },
     "output_type":"display_data"
    }
   ],
   "metadata":{
    "datalore":{
     "type":"CODE",
     "hide_input_from_viewers":false,
     "hide_output_from_viewers":false
    }
   }
  },
  {
   "cell_type":"markdown",
   "source":[
    "Dropeamos las columnas que nos nos interesan"
   ],
   "attachments":{
    
   },
   "metadata":{
    "datalore":{
     "type":"MD",
     "hide_input_from_viewers":false,
     "hide_output_from_viewers":false
    }
   }
  },
  {
   "cell_type":"code",
   "source":[
    "titanic2 = titanic.drop(['name','sibsp','parch','ticket','cabin','body','boat','home.dest'], axis=1)"
   ],
   "execution_count":88,
   "outputs":[
    
   ],
   "metadata":{
    "datalore":{
     "type":"CODE",
     "hide_input_from_viewers":false,
     "hide_output_from_viewers":false
    }
   }
  },
  {
   "cell_type":"markdown",
   "source":[
    "Vamos a mirar que cantidad de valores nulos hay por columnas y ver como los podemos rellenar"
   ],
   "attachments":{
    
   },
   "metadata":{
    "datalore":{
     "type":"MD",
     "hide_input_from_viewers":false,
     "hide_output_from_viewers":false
    }
   }
  },
  {
   "cell_type":"code",
   "source":[
    "titanic2.isnull().sum()"
   ],
   "execution_count":89,
   "outputs":[
    {
     "data":{
      "text\/html":[
       
      ]
     },
     "metadata":{
      
     },
     "output_type":"display_data"
    }
   ],
   "metadata":{
    "datalore":{
     "type":"CODE",
     "hide_input_from_viewers":false,
     "hide_output_from_viewers":false
    }
   }
  },
  {
   "cell_type":"markdown",
   "source":[
    "La edad la podemos rellenar con la media por clase, los que faltan de fare y embarked como son pocos no los tocamos y el barco no hace falta tocarlos porque los que no llegaron en barco murieron"
   ],
   "attachments":{
    
   },
   "metadata":{
    "datalore":{
     "type":"MD",
     "hide_input_from_viewers":false,
     "hide_output_from_viewers":false
    }
   }
  },
  {
   "cell_type":"code",
   "source":[
    "titanic2[\"pclass\"].unique()"
   ],
   "execution_count":90,
   "outputs":[
    {
     "data":{
      "text\/html":[
       
      ]
     },
     "metadata":{
      
     },
     "output_type":"display_data"
    }
   ],
   "metadata":{
    "datalore":{
     "type":"CODE",
     "hide_input_from_viewers":false,
     "hide_output_from_viewers":false
    }
   }
  },
  {
   "cell_type":"code",
   "source":[
    "clase1 = titanic2[(titanic2['pclass']==1)]\n",
    "print(\"La media de edad de la clase 1 es\",clase1['age'].dropna().mean())"
   ],
   "execution_count":91,
   "outputs":[
    {
     "name":"stdout",
     "text":[
      "La media de edad de la clase 1 es 39.15991795774648\n"
     ],
     "output_type":"stream"
    }
   ],
   "metadata":{
    "datalore":{
     "type":"CODE",
     "hide_input_from_viewers":false,
     "hide_output_from_viewers":false
    }
   }
  },
  {
   "cell_type":"code",
   "source":[
    "clase2 = titanic2[(titanic2['pclass']==2)]\n",
    "print(\"La media de edad de la clase 2 es\",clase2['age'].dropna().mean())"
   ],
   "execution_count":92,
   "outputs":[
    {
     "name":"stdout",
     "text":[
      "La media de edad de la clase 2 es 29.506704980842912\n"
     ],
     "output_type":"stream"
    }
   ],
   "metadata":{
    "datalore":{
     "type":"CODE",
     "hide_input_from_viewers":false,
     "hide_output_from_viewers":false
    }
   }
  },
  {
   "cell_type":"code",
   "source":[
    "clase3 = titanic2[(titanic2['pclass']==3)]\n",
    "print(\"La media de edad de la clase 3 es\",clase3['age'].dropna().mean())"
   ],
   "execution_count":93,
   "outputs":[
    {
     "name":"stdout",
     "text":[
      "La media de edad de la clase 3 es 24.81636726546906\n"
     ],
     "output_type":"stream"
    }
   ],
   "metadata":{
    "datalore":{
     "type":"CODE",
     "hide_input_from_viewers":false,
     "hide_output_from_viewers":false
    }
   }
  },
  {
   "cell_type":"markdown",
   "source":[
    "Podemos observar que cuanto menor es la clase menor es la media de edad"
   ],
   "attachments":{
    
   },
   "metadata":{
    "datalore":{
     "type":"MD",
     "hide_input_from_viewers":false,
     "hide_output_from_viewers":false
    }
   }
  },
  {
   "cell_type":"code",
   "source":[
    "titanic2[\"age\"][(titanic2[\"pclass\"] == 1) & (titanic2[\"age\"].isna())] = clase1['age'].dropna().mean()\n",
    "titanic2[\"age\"][(titanic2[\"pclass\"] == 2) & (titanic2[\"age\"].isna())] = clase2['age'].dropna().mean()\n",
    "titanic2[\"age\"][(titanic2[\"pclass\"] == 3) & (titanic2[\"age\"].isna())] = clase3['age'].dropna().mean()"
   ],
   "execution_count":94,
   "outputs":[
    {
     "name":"stderr",
     "text":[
      "<ipython-input-94-f97ba20d1565>:1: SettingWithCopyWarning: \n",
      "A value is trying to be set on a copy of a slice from a DataFrame\n",
      "\n",
      "See the caveats in the documentation: https:\/\/pandas.pydata.org\/pandas-docs\/stable\/user_guide\/indexing.html#returning-a-view-versus-a-copy\n",
      "  titanic2[\"age\"][(titanic2[\"pclass\"] == 1) & (titanic2[\"age\"].isna())] = clase1['age'].dropna().mean()\n",
      "<ipython-input-94-f97ba20d1565>:2: SettingWithCopyWarning: \n",
      "A value is trying to be set on a copy of a slice from a DataFrame\n",
      "\n",
      "See the caveats in the documentation: https:\/\/pandas.pydata.org\/pandas-docs\/stable\/user_guide\/indexing.html#returning-a-view-versus-a-copy\n",
      "  titanic2[\"age\"][(titanic2[\"pclass\"] == 2) & (titanic2[\"age\"].isna())] = clase2['age'].dropna().mean()\n",
      "<ipython-input-94-f97ba20d1565>:3: SettingWithCopyWarning: \n",
      "A value is trying to be set on a copy of a slice from a DataFrame\n",
      "\n",
      "See the caveats in the documentation: https:\/\/pandas.pydata.org\/pandas-docs\/stable\/user_guide\/indexing.html#returning-a-view-versus-a-copy\n",
      "  titanic2[\"age\"][(titanic2[\"pclass\"] == 3) & (titanic2[\"age\"].isna())] = clase3['age'].dropna().mean()\n"
     ],
     "output_type":"stream"
    }
   ],
   "metadata":{
    "datalore":{
     "type":"CODE",
     "hide_input_from_viewers":false,
     "hide_output_from_viewers":false
    }
   }
  },
  {
   "cell_type":"markdown",
   "source":[
    "Rellenamos fare con la media y embarked con S que es la más común"
   ],
   "attachments":{
    
   },
   "metadata":{
    "datalore":{
     "type":"MD",
     "hide_input_from_viewers":false,
     "hide_output_from_viewers":false
    }
   }
  },
  {
   "cell_type":"code",
   "source":[
    "titanic2[\"fare\"][(titanic2[\"fare\"].isna())] = titanic2['fare'].dropna().mean()\n",
    "titanic2[\"embarked\"][(titanic2[\"embarked\"].isna())] = 'S'"
   ],
   "execution_count":95,
   "outputs":[
    {
     "name":"stderr",
     "text":[
      "<ipython-input-95-772adadb67c4>:1: SettingWithCopyWarning: \n",
      "A value is trying to be set on a copy of a slice from a DataFrame\n",
      "\n",
      "See the caveats in the documentation: https:\/\/pandas.pydata.org\/pandas-docs\/stable\/user_guide\/indexing.html#returning-a-view-versus-a-copy\n",
      "  titanic2[\"fare\"][(titanic2[\"fare\"].isna())] = titanic2['fare'].dropna().mean()\n",
      "<ipython-input-95-772adadb67c4>:2: SettingWithCopyWarning: \n",
      "A value is trying to be set on a copy of a slice from a DataFrame\n",
      "\n",
      "See the caveats in the documentation: https:\/\/pandas.pydata.org\/pandas-docs\/stable\/user_guide\/indexing.html#returning-a-view-versus-a-copy\n",
      "  titanic2[\"embarked\"][(titanic2[\"embarked\"].isna())] = 'S'\n"
     ],
     "output_type":"stream"
    }
   ],
   "metadata":{
    "datalore":{
     "type":"CODE",
     "hide_input_from_viewers":false,
     "hide_output_from_viewers":false
    }
   }
  },
  {
   "cell_type":"markdown",
   "source":[
    "Comprobamos si queda algún nulo"
   ],
   "attachments":{
    
   },
   "metadata":{
    "datalore":{
     "type":"MD",
     "hide_input_from_viewers":false,
     "hide_output_from_viewers":false
    }
   }
  },
  {
   "cell_type":"code",
   "source":[
    "titanic2.isnull().sum()"
   ],
   "execution_count":96,
   "outputs":[
    {
     "data":{
      "text\/html":[
       
      ]
     },
     "metadata":{
      
     },
     "output_type":"display_data"
    }
   ],
   "metadata":{
    "datalore":{
     "type":"CODE",
     "hide_input_from_viewers":false,
     "hide_output_from_viewers":false
    }
   }
  },
  {
   "cell_type":"code",
   "source":[
    "titanic2"
   ],
   "execution_count":97,
   "outputs":[
    {
     "data":{
      "text\/html":[
       "<div>\n",
       "<style scoped>\n",
       "    .dataframe tbody tr th:only-of-type {\n",
       "        vertical-align: middle;\n",
       "    }\n",
       "\n",
       "    .dataframe tbody tr th {\n",
       "        vertical-align: top;\n",
       "    }\n",
       "\n",
       "    .dataframe thead th {\n",
       "        text-align: right;\n",
       "    }\n",
       "<\/style>\n",
       "<table border=\"1\" class=\"dataframe\">\n",
       "  <thead>\n",
       "    <tr style=\"text-align: right;\">\n",
       "      <th><\/th>\n",
       "      <th>pclass<\/th>\n",
       "      <th>survived<\/th>\n",
       "      <th>sex<\/th>\n",
       "      <th>age<\/th>\n",
       "      <th>fare<\/th>\n",
       "      <th>embarked<\/th>\n",
       "    <\/tr>\n",
       "  <\/thead>\n",
       "  <tbody>\n",
       "    <tr>\n",
       "      <th>0<\/th>\n",
       "      <td>1<\/td>\n",
       "      <td>1<\/td>\n",
       "      <td>female<\/td>\n",
       "      <td>29.000000<\/td>\n",
       "      <td>211.3375<\/td>\n",
       "      <td>S<\/td>\n",
       "    <\/tr>\n",
       "    <tr>\n",
       "      <th>1<\/th>\n",
       "      <td>1<\/td>\n",
       "      <td>1<\/td>\n",
       "      <td>male<\/td>\n",
       "      <td>0.916700<\/td>\n",
       "      <td>151.5500<\/td>\n",
       "      <td>S<\/td>\n",
       "    <\/tr>\n",
       "    <tr>\n",
       "      <th>2<\/th>\n",
       "      <td>1<\/td>\n",
       "      <td>0<\/td>\n",
       "      <td>female<\/td>\n",
       "      <td>2.000000<\/td>\n",
       "      <td>151.5500<\/td>\n",
       "      <td>S<\/td>\n",
       "    <\/tr>\n",
       "    <tr>\n",
       "      <th>3<\/th>\n",
       "      <td>1<\/td>\n",
       "      <td>0<\/td>\n",
       "      <td>male<\/td>\n",
       "      <td>30.000000<\/td>\n",
       "      <td>151.5500<\/td>\n",
       "      <td>S<\/td>\n",
       "    <\/tr>\n",
       "    <tr>\n",
       "      <th>4<\/th>\n",
       "      <td>1<\/td>\n",
       "      <td>0<\/td>\n",
       "      <td>female<\/td>\n",
       "      <td>25.000000<\/td>\n",
       "      <td>151.5500<\/td>\n",
       "      <td>S<\/td>\n",
       "    <\/tr>\n",
       "    <tr>\n",
       "      <th>...<\/th>\n",
       "      <td>...<\/td>\n",
       "      <td>...<\/td>\n",
       "      <td>...<\/td>\n",
       "      <td>...<\/td>\n",
       "      <td>...<\/td>\n",
       "      <td>...<\/td>\n",
       "    <\/tr>\n",
       "    <tr>\n",
       "      <th>1304<\/th>\n",
       "      <td>3<\/td>\n",
       "      <td>0<\/td>\n",
       "      <td>female<\/td>\n",
       "      <td>14.500000<\/td>\n",
       "      <td>14.4542<\/td>\n",
       "      <td>C<\/td>\n",
       "    <\/tr>\n",
       "    <tr>\n",
       "      <th>1305<\/th>\n",
       "      <td>3<\/td>\n",
       "      <td>0<\/td>\n",
       "      <td>female<\/td>\n",
       "      <td>24.816367<\/td>\n",
       "      <td>14.4542<\/td>\n",
       "      <td>C<\/td>\n",
       "    <\/tr>\n",
       "    <tr>\n",
       "      <th>1306<\/th>\n",
       "      <td>3<\/td>\n",
       "      <td>0<\/td>\n",
       "      <td>male<\/td>\n",
       "      <td>26.500000<\/td>\n",
       "      <td>7.2250<\/td>\n",
       "      <td>C<\/td>\n",
       "    <\/tr>\n",
       "    <tr>\n",
       "      <th>1307<\/th>\n",
       "      <td>3<\/td>\n",
       "      <td>0<\/td>\n",
       "      <td>male<\/td>\n",
       "      <td>27.000000<\/td>\n",
       "      <td>7.2250<\/td>\n",
       "      <td>C<\/td>\n",
       "    <\/tr>\n",
       "    <tr>\n",
       "      <th>1308<\/th>\n",
       "      <td>3<\/td>\n",
       "      <td>0<\/td>\n",
       "      <td>male<\/td>\n",
       "      <td>29.000000<\/td>\n",
       "      <td>7.8750<\/td>\n",
       "      <td>S<\/td>\n",
       "    <\/tr>\n",
       "  <\/tbody>\n",
       "<\/table>\n",
       "<p>1309 rows × 6 columns<\/p>\n",
       "<\/div>"
      ]
     },
     "metadata":{
      
     },
     "output_type":"display_data"
    }
   ],
   "metadata":{
    "datalore":{
     "type":"CODE",
     "hide_input_from_viewers":false,
     "hide_output_from_viewers":false
    }
   }
  },
  {
   "cell_type":"code",
   "source":[
    "dummy_sex = pd.get_dummies(titanic2[\"sex\"], prefix = \"sex\").iloc[:,1:]\n",
    "dummy_sex.head()"
   ],
   "execution_count":98,
   "outputs":[
    {
     "data":{
      "text\/html":[
       "<div>\n",
       "<style scoped>\n",
       "    .dataframe tbody tr th:only-of-type {\n",
       "        vertical-align: middle;\n",
       "    }\n",
       "\n",
       "    .dataframe tbody tr th {\n",
       "        vertical-align: top;\n",
       "    }\n",
       "\n",
       "    .dataframe thead th {\n",
       "        text-align: right;\n",
       "    }\n",
       "<\/style>\n",
       "<table border=\"1\" class=\"dataframe\">\n",
       "  <thead>\n",
       "    <tr style=\"text-align: right;\">\n",
       "      <th><\/th>\n",
       "      <th>sex_male<\/th>\n",
       "    <\/tr>\n",
       "  <\/thead>\n",
       "  <tbody>\n",
       "    <tr>\n",
       "      <th>0<\/th>\n",
       "      <td>0<\/td>\n",
       "    <\/tr>\n",
       "    <tr>\n",
       "      <th>1<\/th>\n",
       "      <td>1<\/td>\n",
       "    <\/tr>\n",
       "    <tr>\n",
       "      <th>2<\/th>\n",
       "      <td>0<\/td>\n",
       "    <\/tr>\n",
       "    <tr>\n",
       "      <th>3<\/th>\n",
       "      <td>1<\/td>\n",
       "    <\/tr>\n",
       "    <tr>\n",
       "      <th>4<\/th>\n",
       "      <td>0<\/td>\n",
       "    <\/tr>\n",
       "  <\/tbody>\n",
       "<\/table>\n",
       "<\/div>"
      ]
     },
     "metadata":{
      
     },
     "output_type":"display_data"
    }
   ],
   "metadata":{
    "datalore":{
     "type":"CODE",
     "hide_input_from_viewers":false,
     "hide_output_from_viewers":false
    }
   }
  },
  {
   "cell_type":"code",
   "source":[
    "dummy_embarked = pd.get_dummies(titanic2[\"embarked\"], prefix = \"embarked\").iloc[:,1:]\n",
    "dummy_embarked.head()"
   ],
   "execution_count":99,
   "outputs":[
    {
     "data":{
      "text\/html":[
       "<div>\n",
       "<style scoped>\n",
       "    .dataframe tbody tr th:only-of-type {\n",
       "        vertical-align: middle;\n",
       "    }\n",
       "\n",
       "    .dataframe tbody tr th {\n",
       "        vertical-align: top;\n",
       "    }\n",
       "\n",
       "    .dataframe thead th {\n",
       "        text-align: right;\n",
       "    }\n",
       "<\/style>\n",
       "<table border=\"1\" class=\"dataframe\">\n",
       "  <thead>\n",
       "    <tr style=\"text-align: right;\">\n",
       "      <th><\/th>\n",
       "      <th>embarked_Q<\/th>\n",
       "      <th>embarked_S<\/th>\n",
       "    <\/tr>\n",
       "  <\/thead>\n",
       "  <tbody>\n",
       "    <tr>\n",
       "      <th>0<\/th>\n",
       "      <td>0<\/td>\n",
       "      <td>1<\/td>\n",
       "    <\/tr>\n",
       "    <tr>\n",
       "      <th>1<\/th>\n",
       "      <td>0<\/td>\n",
       "      <td>1<\/td>\n",
       "    <\/tr>\n",
       "    <tr>\n",
       "      <th>2<\/th>\n",
       "      <td>0<\/td>\n",
       "      <td>1<\/td>\n",
       "    <\/tr>\n",
       "    <tr>\n",
       "      <th>3<\/th>\n",
       "      <td>0<\/td>\n",
       "      <td>1<\/td>\n",
       "    <\/tr>\n",
       "    <tr>\n",
       "      <th>4<\/th>\n",
       "      <td>0<\/td>\n",
       "      <td>1<\/td>\n",
       "    <\/tr>\n",
       "  <\/tbody>\n",
       "<\/table>\n",
       "<\/div>"
      ]
     },
     "metadata":{
      
     },
     "output_type":"display_data"
    }
   ],
   "metadata":{
    "datalore":{
     "type":"CODE",
     "hide_input_from_viewers":false,
     "hide_output_from_viewers":false
    }
   }
  },
  {
   "cell_type":"code",
   "source":[
    "column_names = titanic2.columns.values.tolist()\n",
    "titanic3 = titanic2[column_names].join(dummy_sex)\n",
    "titanic3.head()"
   ],
   "execution_count":100,
   "outputs":[
    {
     "data":{
      "text\/html":[
       "<div>\n",
       "<style scoped>\n",
       "    .dataframe tbody tr th:only-of-type {\n",
       "        vertical-align: middle;\n",
       "    }\n",
       "\n",
       "    .dataframe tbody tr th {\n",
       "        vertical-align: top;\n",
       "    }\n",
       "\n",
       "    .dataframe thead th {\n",
       "        text-align: right;\n",
       "    }\n",
       "<\/style>\n",
       "<table border=\"1\" class=\"dataframe\">\n",
       "  <thead>\n",
       "    <tr style=\"text-align: right;\">\n",
       "      <th><\/th>\n",
       "      <th>pclass<\/th>\n",
       "      <th>survived<\/th>\n",
       "      <th>sex<\/th>\n",
       "      <th>age<\/th>\n",
       "      <th>fare<\/th>\n",
       "      <th>embarked<\/th>\n",
       "      <th>sex_male<\/th>\n",
       "    <\/tr>\n",
       "  <\/thead>\n",
       "  <tbody>\n",
       "    <tr>\n",
       "      <th>0<\/th>\n",
       "      <td>1<\/td>\n",
       "      <td>1<\/td>\n",
       "      <td>female<\/td>\n",
       "      <td>29.0000<\/td>\n",
       "      <td>211.3375<\/td>\n",
       "      <td>S<\/td>\n",
       "      <td>0<\/td>\n",
       "    <\/tr>\n",
       "    <tr>\n",
       "      <th>1<\/th>\n",
       "      <td>1<\/td>\n",
       "      <td>1<\/td>\n",
       "      <td>male<\/td>\n",
       "      <td>0.9167<\/td>\n",
       "      <td>151.5500<\/td>\n",
       "      <td>S<\/td>\n",
       "      <td>1<\/td>\n",
       "    <\/tr>\n",
       "    <tr>\n",
       "      <th>2<\/th>\n",
       "      <td>1<\/td>\n",
       "      <td>0<\/td>\n",
       "      <td>female<\/td>\n",
       "      <td>2.0000<\/td>\n",
       "      <td>151.5500<\/td>\n",
       "      <td>S<\/td>\n",
       "      <td>0<\/td>\n",
       "    <\/tr>\n",
       "    <tr>\n",
       "      <th>3<\/th>\n",
       "      <td>1<\/td>\n",
       "      <td>0<\/td>\n",
       "      <td>male<\/td>\n",
       "      <td>30.0000<\/td>\n",
       "      <td>151.5500<\/td>\n",
       "      <td>S<\/td>\n",
       "      <td>1<\/td>\n",
       "    <\/tr>\n",
       "    <tr>\n",
       "      <th>4<\/th>\n",
       "      <td>1<\/td>\n",
       "      <td>0<\/td>\n",
       "      <td>female<\/td>\n",
       "      <td>25.0000<\/td>\n",
       "      <td>151.5500<\/td>\n",
       "      <td>S<\/td>\n",
       "      <td>0<\/td>\n",
       "    <\/tr>\n",
       "  <\/tbody>\n",
       "<\/table>\n",
       "<\/div>"
      ]
     },
     "metadata":{
      
     },
     "output_type":"display_data"
    }
   ],
   "metadata":{
    "datalore":{
     "type":"CODE",
     "hide_input_from_viewers":false,
     "hide_output_from_viewers":false
    }
   }
  },
  {
   "cell_type":"code",
   "source":[
    "column_names = titanic3.columns.values.tolist()\n",
    "titanic4 = titanic3[column_names].join(dummy_embarked)\n",
    "titanic4.head()"
   ],
   "execution_count":101,
   "outputs":[
    {
     "data":{
      "text\/html":[
       "<div>\n",
       "<style scoped>\n",
       "    .dataframe tbody tr th:only-of-type {\n",
       "        vertical-align: middle;\n",
       "    }\n",
       "\n",
       "    .dataframe tbody tr th {\n",
       "        vertical-align: top;\n",
       "    }\n",
       "\n",
       "    .dataframe thead th {\n",
       "        text-align: right;\n",
       "    }\n",
       "<\/style>\n",
       "<table border=\"1\" class=\"dataframe\">\n",
       "  <thead>\n",
       "    <tr style=\"text-align: right;\">\n",
       "      <th><\/th>\n",
       "      <th>pclass<\/th>\n",
       "      <th>survived<\/th>\n",
       "      <th>sex<\/th>\n",
       "      <th>age<\/th>\n",
       "      <th>fare<\/th>\n",
       "      <th>embarked<\/th>\n",
       "      <th>sex_male<\/th>\n",
       "      <th>embarked_Q<\/th>\n",
       "      <th>embarked_S<\/th>\n",
       "    <\/tr>\n",
       "  <\/thead>\n",
       "  <tbody>\n",
       "    <tr>\n",
       "      <th>0<\/th>\n",
       "      <td>1<\/td>\n",
       "      <td>1<\/td>\n",
       "      <td>female<\/td>\n",
       "      <td>29.0000<\/td>\n",
       "      <td>211.3375<\/td>\n",
       "      <td>S<\/td>\n",
       "      <td>0<\/td>\n",
       "      <td>0<\/td>\n",
       "      <td>1<\/td>\n",
       "    <\/tr>\n",
       "    <tr>\n",
       "      <th>1<\/th>\n",
       "      <td>1<\/td>\n",
       "      <td>1<\/td>\n",
       "      <td>male<\/td>\n",
       "      <td>0.9167<\/td>\n",
       "      <td>151.5500<\/td>\n",
       "      <td>S<\/td>\n",
       "      <td>1<\/td>\n",
       "      <td>0<\/td>\n",
       "      <td>1<\/td>\n",
       "    <\/tr>\n",
       "    <tr>\n",
       "      <th>2<\/th>\n",
       "      <td>1<\/td>\n",
       "      <td>0<\/td>\n",
       "      <td>female<\/td>\n",
       "      <td>2.0000<\/td>\n",
       "      <td>151.5500<\/td>\n",
       "      <td>S<\/td>\n",
       "      <td>0<\/td>\n",
       "      <td>0<\/td>\n",
       "      <td>1<\/td>\n",
       "    <\/tr>\n",
       "    <tr>\n",
       "      <th>3<\/th>\n",
       "      <td>1<\/td>\n",
       "      <td>0<\/td>\n",
       "      <td>male<\/td>\n",
       "      <td>30.0000<\/td>\n",
       "      <td>151.5500<\/td>\n",
       "      <td>S<\/td>\n",
       "      <td>1<\/td>\n",
       "      <td>0<\/td>\n",
       "      <td>1<\/td>\n",
       "    <\/tr>\n",
       "    <tr>\n",
       "      <th>4<\/th>\n",
       "      <td>1<\/td>\n",
       "      <td>0<\/td>\n",
       "      <td>female<\/td>\n",
       "      <td>25.0000<\/td>\n",
       "      <td>151.5500<\/td>\n",
       "      <td>S<\/td>\n",
       "      <td>0<\/td>\n",
       "      <td>0<\/td>\n",
       "      <td>1<\/td>\n",
       "    <\/tr>\n",
       "  <\/tbody>\n",
       "<\/table>\n",
       "<\/div>"
      ]
     },
     "metadata":{
      
     },
     "output_type":"display_data"
    }
   ],
   "metadata":{
    "datalore":{
     "type":"CODE",
     "hide_input_from_viewers":false,
     "hide_output_from_viewers":false
    }
   }
  },
  {
   "cell_type":"code",
   "source":[
    "feature_cols = [\"pclass\", \"age\",\"fare\",\"sex_male\",\"embarked_Q\",\"embarked_S\"]\n",
    "X = titanic4[feature_cols]\n",
    "Y = titanic4[\"survived\"]"
   ],
   "execution_count":102,
   "outputs":[
    
   ],
   "metadata":{
    "datalore":{
     "type":"CODE",
     "hide_input_from_viewers":false,
     "hide_output_from_viewers":false
    }
   }
  },
  {
   "cell_type":"code",
   "source":[
    "from sklearn.model_selection import train_test_split\n",
    "\n",
    "X_train, X_test, Y_train, Y_test = train_test_split(X,Y, test_size = 0.2, random_state = 0)"
   ],
   "execution_count":103,
   "outputs":[
    
   ],
   "metadata":{
    "datalore":{
     "type":"CODE",
     "hide_input_from_viewers":false,
     "hide_output_from_viewers":false
    }
   }
  },
  {
   "cell_type":"code",
   "source":[
    "from sklearn import linear_model\n",
    "logit_model = linear_model.LogisticRegression()\n",
    "logit_model.fit(X_train,Y_train)"
   ],
   "execution_count":104,
   "outputs":[
    {
     "data":{
      "text\/plain":[
       "LogisticRegression()"
      ]
     },
     "metadata":{
      
     },
     "output_type":"display_data"
    }
   ],
   "metadata":{
    "datalore":{
     "type":"CODE",
     "hide_input_from_viewers":false,
     "hide_output_from_viewers":false
    }
   }
  },
  {
   "cell_type":"code",
   "source":[
    "logit_model.score(X_train,Y_train)"
   ],
   "execution_count":105,
   "outputs":[
    {
     "data":{
      "text\/plain":[
       "0.7793696275071633"
      ]
     },
     "metadata":{
      
     },
     "output_type":"display_data"
    }
   ],
   "metadata":{
    "datalore":{
     "type":"CODE",
     "hide_input_from_viewers":false,
     "hide_output_from_viewers":false
    }
   }
  },
  {
   "cell_type":"code",
   "source":[
    "1-Y_train.mean()"
   ],
   "execution_count":106,
   "outputs":[
    {
     "data":{
      "text\/plain":[
       "0.6179560649474689"
      ]
     },
     "metadata":{
      
     },
     "output_type":"display_data"
    }
   ],
   "metadata":{
    "datalore":{
     "type":"CODE",
     "hide_input_from_viewers":false,
     "hide_output_from_viewers":false
    }
   }
  },
  {
   "cell_type":"code",
   "source":[
    "pd.DataFrame(list(zip(X_train.columns, np.transpose(logit_model.coef_))))"
   ],
   "execution_count":107,
   "outputs":[
    {
     "data":{
      "text\/html":[
       "<div>\n",
       "<style scoped>\n",
       "    .dataframe tbody tr th:only-of-type {\n",
       "        vertical-align: middle;\n",
       "    }\n",
       "\n",
       "    .dataframe tbody tr th {\n",
       "        vertical-align: top;\n",
       "    }\n",
       "\n",
       "    .dataframe thead th {\n",
       "        text-align: right;\n",
       "    }\n",
       "<\/style>\n",
       "<table border=\"1\" class=\"dataframe\">\n",
       "  <thead>\n",
       "    <tr style=\"text-align: right;\">\n",
       "      <th><\/th>\n",
       "      <th>0<\/th>\n",
       "      <th>1<\/th>\n",
       "    <\/tr>\n",
       "  <\/thead>\n",
       "  <tbody>\n",
       "    <tr>\n",
       "      <th>0<\/th>\n",
       "      <td>pclass<\/td>\n",
       "      <td>[-1.0059352320512835]<\/td>\n",
       "    <\/tr>\n",
       "    <tr>\n",
       "      <th>1<\/th>\n",
       "      <td>age<\/td>\n",
       "      <td>[-0.0263499276976711]<\/td>\n",
       "    <\/tr>\n",
       "    <tr>\n",
       "      <th>2<\/th>\n",
       "      <td>fare<\/td>\n",
       "      <td>[-0.0007597746084836678]<\/td>\n",
       "    <\/tr>\n",
       "    <tr>\n",
       "      <th>3<\/th>\n",
       "      <td>sex_male<\/td>\n",
       "      <td>[-2.423499368041728]<\/td>\n",
       "    <\/tr>\n",
       "    <tr>\n",
       "      <th>4<\/th>\n",
       "      <td>embarked_Q<\/td>\n",
       "      <td>[-0.4112700235093858]<\/td>\n",
       "    <\/tr>\n",
       "    <tr>\n",
       "      <th>5<\/th>\n",
       "      <td>embarked_S<\/td>\n",
       "      <td>[-0.636834799086491]<\/td>\n",
       "    <\/tr>\n",
       "  <\/tbody>\n",
       "<\/table>\n",
       "<\/div>"
      ]
     },
     "metadata":{
      
     },
     "output_type":"display_data"
    }
   ],
   "metadata":{
    "datalore":{
     "type":"CODE",
     "hide_input_from_viewers":false,
     "hide_output_from_viewers":false
    }
   }
  },
  {
   "cell_type":"code",
   "source":[
    "from sklearn import metrics"
   ],
   "execution_count":108,
   "outputs":[
    
   ],
   "metadata":{
    "datalore":{
     "type":"CODE",
     "hide_input_from_viewers":false,
     "hide_output_from_viewers":false
    }
   }
  },
  {
   "cell_type":"code",
   "source":[
    "prediction = logit_model.predict(X_test)\n",
    "prediction"
   ],
   "execution_count":109,
   "outputs":[
    {
     "data":{
      "text\/html":[
       
      ]
     },
     "metadata":{
      
     },
     "output_type":"display_data"
    }
   ],
   "metadata":{
    "datalore":{
     "type":"CODE",
     "hide_input_from_viewers":false,
     "hide_output_from_viewers":false
    }
   }
  },
  {
   "cell_type":"code",
   "source":[
    "metrics.accuracy_score(Y_test, prediction)"
   ],
   "execution_count":110,
   "outputs":[
    {
     "data":{
      "text\/plain":[
       "0.7900763358778626"
      ]
     },
     "metadata":{
      
     },
     "output_type":"display_data"
    }
   ],
   "metadata":{
    "datalore":{
     "type":"CODE",
     "hide_input_from_viewers":false,
     "hide_output_from_viewers":false
    }
   }
  }
 ],
 "metadata":{
  "datalore":{
   "version":1,
   "computation_mode":"JUPYTER",
   "package_manager":"pip",
   "base_environment":"default",
   "packages":[
    
   ]
  }
 },
 "nbformat":4,
 "nbformat_minor":4
}